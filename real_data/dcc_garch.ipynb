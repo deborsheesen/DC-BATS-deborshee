{
 "cells": [
  {
   "cell_type": "code",
   "execution_count": 1,
   "metadata": {
    "collapsed": true
   },
   "outputs": [],
   "source": [
    "# Calling libraries:\n",
    "from __future__ import division\n",
    "%matplotlib inline\n",
    "import numpy as np, time, matplotlib.pyplot as plt, numpy.random as npr, pystan as ps, pickle, pandas\n",
    "from pylab import plot, show, legend\n",
    "from time import time\n",
    "from scipy.stats import *\n",
    "from tqdm import trange"
   ]
  },
  {
   "cell_type": "code",
   "execution_count": 2,
   "metadata": {},
   "outputs": [
    {
     "name": "stderr",
     "output_type": "stream",
     "text": [
      "INFO:pystan:COMPILING THE C++ CODE FOR MODEL anon_model_a71eb389c5b594fa2df29531bd697d94 NOW.\n"
     ]
    }
   ],
   "source": [
    "sm = ps.StanModel(file=\"dcc_garch.stan\")"
   ]
  },
  {
   "cell_type": "code",
   "execution_count": 3,
   "metadata": {
    "collapsed": true
   },
   "outputs": [],
   "source": [
    "Y = pandas.read_csv(\"la_pm_log_positive.csv\").values\n",
    "T, dim = np.shape(Y)"
   ]
  },
  {
   "cell_type": "code",
   "execution_count": 4,
   "metadata": {
    "collapsed": true
   },
   "outputs": [],
   "source": [
    "sigma1_0 = 1\n",
    "sigma2_0 = 1\n",
    "nu = 4"
   ]
  },
  {
   "cell_type": "markdown",
   "metadata": {},
   "source": [
    "### Divide-and-conquer:"
   ]
  },
  {
   "cell_type": "code",
   "execution_count": 5,
   "metadata": {
    "collapsed": true
   },
   "outputs": [],
   "source": [
    "K = 10\n",
    "tstarts = np.arange(K).astype(int)\n",
    "tends = 1 + tstarts\n",
    "tstarts *= int(T/K)\n",
    "tends *= int(T/K)"
   ]
  },
  {
   "cell_type": "code",
   "execution_count": null,
   "metadata": {},
   "outputs": [
    {
     "name": "stderr",
     "output_type": "stream",
     "text": [
      "WARNING:pystan:965 of 5000 iterations ended with a divergence (19.3 %).\n",
      "WARNING:pystan:Try running with adapt_delta larger than 0.8 to remove the divergences.\n"
     ]
    },
    {
     "name": "stdout",
     "output_type": "stream",
     "text": [
      "2.3 minutes to run\n",
      "2.65 minutes to run\n",
      "1.71 minutes to run\n",
      "3.84 minutes to run\n",
      "3.38 minutes to run\n"
     ]
    },
    {
     "name": "stderr",
     "output_type": "stream",
     "text": [
      "WARNING:pystan:152 of 5000 iterations saturated the maximum tree depth of 10 (3.04 %)\n",
      "WARNING:pystan:Run again with max_treedepth larger than 10 to avoid saturation\n"
     ]
    },
    {
     "name": "stdout",
     "output_type": "stream",
     "text": [
      "11.7 minutes to run\n",
      "2.27 minutes to run\n"
     ]
    },
    {
     "name": "stderr",
     "output_type": "stream",
     "text": [
      "WARNING:pystan:1472 of 5000 iterations ended with a divergence (29.4 %).\n",
      "WARNING:pystan:Try running with adapt_delta larger than 0.8 to remove the divergences.\n"
     ]
    },
    {
     "name": "stdout",
     "output_type": "stream",
     "text": [
      "4.29 minutes to run\n",
      "4.17 minutes to run\n",
      "1.59 minutes to run\n"
     ]
    }
   ],
   "source": [
    "n_chains = 10\n",
    "for k in range(K) :\n",
    "    start = time()\n",
    "    tstart, tend = tstarts[k], tends[k]\n",
    "    data = dict(T=tend-tstart, dim=dim, nu=nu, Y=Y[tstart:tend], sigma1_0=sigma1_0, sigma2_0=sigma2_0, power=K)\n",
    "    fit = sm.sampling(data=data, thin=1, n_jobs=min(10,n_chains), chains=n_chains, init=\"random\", iter=1_000)\n",
    "    file = open(\"/xtmp/DC-BATS_data/real_data/dcc_garch_chunk\"+str(k+1)+\"_mcmc.pkl\", \"wb\")\n",
    "    pickle.dump(fit.extract(), file)\n",
    "    file.close()\n",
    "    print(round((time()-start)/60,2), \"minutes to run\")"
   ]
  },
  {
   "cell_type": "markdown",
   "metadata": {},
   "source": [
    "### MCMC on full data:"
   ]
  },
  {
   "cell_type": "code",
   "execution_count": null,
   "metadata": {
    "collapsed": true
   },
   "outputs": [],
   "source": [
    "start = time()\n",
    "data = dict(T=T, dim=dim, nu=nu, Y=Y, sigma1_0=sigma1_0, sigma2_0=sigma2_0, power=1)\n",
    "fit = sm.sampling(data=data, thin=1, n_jobs=min(10,n_chains), chains=n_chains, init=\"random\", iter=1_000)\n",
    "file = open(\"/xtmp/DC-BATS_data/real_data/dcc_garch_fulldata_mcmc.pkl\", \"wb\")\n",
    "pickle.dump(fit.extract(), file)\n",
    "file.close()\n",
    "print(round((time()-start)/60,2), \"minutes to run\")"
   ]
  },
  {
   "cell_type": "code",
   "execution_count": null,
   "metadata": {
    "collapsed": true
   },
   "outputs": [],
   "source": [
    "names = ['a1', 'a2', 'b1', 'b2', 'r', 'w1', 'w2', 'mu1', 'mu2']"
   ]
  },
  {
   "cell_type": "code",
   "execution_count": null,
   "metadata": {
    "collapsed": true
   },
   "outputs": [],
   "source": []
  },
  {
   "cell_type": "code",
   "execution_count": null,
   "metadata": {
    "collapsed": true
   },
   "outputs": [],
   "source": []
  },
  {
   "cell_type": "code",
   "execution_count": null,
   "metadata": {
    "collapsed": true
   },
   "outputs": [],
   "source": []
  }
 ],
 "metadata": {
  "kernelspec": {
   "display_name": "Python 3",
   "language": "python",
   "name": "python3"
  },
  "language_info": {
   "codemirror_mode": {
    "name": "ipython",
    "version": 3
   },
   "file_extension": ".py",
   "mimetype": "text/x-python",
   "name": "python",
   "nbconvert_exporter": "python",
   "pygments_lexer": "ipython3",
   "version": "3.6.2"
  }
 },
 "nbformat": 4,
 "nbformat_minor": 2
}
