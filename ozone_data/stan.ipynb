{
 "cells": [
  {
   "cell_type": "markdown",
   "metadata": {},
   "source": [
    "### HMMs using Kalman filter in Stan. \n",
    "\n",
    "* Code from https://jrnold.github.io/ssmodels-in-stan/the-linear-state-space-model.html"
   ]
  },
  {
   "cell_type": "code",
   "execution_count": 1,
   "metadata": {
    "collapsed": true
   },
   "outputs": [],
   "source": [
    "# Calling libraries:\n",
    "from __future__ import division\n",
    "%matplotlib inline\n",
    "import numpy as np, time, matplotlib.pyplot as plt, numpy.random as npr, pystan as ps, pickle, pandas\n",
    "from pylab import plot, show, legend\n",
    "from time import time\n",
    "from scipy.stats import *\n",
    "from tqdm import trange"
   ]
  },
  {
   "cell_type": "code",
   "execution_count": 2,
   "metadata": {
    "scrolled": false
   },
   "outputs": [
    {
     "name": "stderr",
     "output_type": "stream",
     "text": [
      "INFO:pystan:COMPILING THE C++ CODE FOR MODEL anon_model_d29c3f9432cd6ac99a8d403517c017e8 NOW.\n"
     ]
    }
   ],
   "source": [
    "sm = ps.StanModel(file=\"model.stan\")"
   ]
  },
  {
   "cell_type": "code",
   "execution_count": 3,
   "metadata": {
    "collapsed": true
   },
   "outputs": [],
   "source": [
    "data = pandas.read_csv(\"data.csv\").values\n",
    "data = data[:,1::]\n",
    "\n",
    "n = np.shape(data)[0]          # length of time series \n",
    "y = data[:,0:3]\n",
    "covariate = data[:,3::]\n",
    "\n",
    "p = np.shape(y)[1]             # dimension of observations\n",
    "s = np.shape(covariate)[1]     # dimension of covariates\n",
    "m = 1\n",
    "c = np.zeros(m)"
   ]
  },
  {
   "cell_type": "code",
   "execution_count": null,
   "metadata": {},
   "outputs": [],
   "source": [
    "tmax = 100\n",
    "data = dict(n=tmax, p=p, m=m, y=y[:tmax], s=s, covariate=covariate[:tmax], power=1, c=c)"
   ]
  },
  {
   "cell_type": "code",
   "execution_count": null,
   "metadata": {},
   "outputs": [],
   "source": [
    "n_chains = 10\n",
    "\n",
    "start = time()\n",
    "fit = sm.sampling(data=data, thin=1, n_jobs=min(10,n_chains), chains=n_chains, init=\"random\", iter=1_000)\n",
    "mle = sm.optimizing(data=data)\n",
    "print(round((time()-start)/60,2), \"minutes to run\")\n",
    "trace = fit.extract()"
   ]
  },
  {
   "cell_type": "code",
   "execution_count": null,
   "metadata": {},
   "outputs": [],
   "source": [
    "np.shape(trace['Z'])"
   ]
  },
  {
   "cell_type": "code",
   "execution_count": null,
   "metadata": {},
   "outputs": [],
   "source": [
    "plt.rcParams['figure.figsize'] = (15, 2)\n",
    "for i in range(p) :\n",
    "    plt.subplot(1,p,i+1)\n",
    "    plt.plot(trace['Z'][:,:,i])\n",
    "    plt.grid(True)"
   ]
  },
  {
   "cell_type": "code",
   "execution_count": null,
   "metadata": {},
   "outputs": [],
   "source": [
    "np.shape(trace['B'])"
   ]
  },
  {
   "cell_type": "code",
   "execution_count": null,
   "metadata": {},
   "outputs": [],
   "source": [
    "plt.rcParams['figure.figsize'] = (18, 2)\n",
    "for i in range(p) :\n",
    "    for j in range(s) :\n",
    "        plt.subplot(1,p*s, i*s+j+1) \n",
    "        plt.plot(trace['B'][:,i,j])\n",
    "        plt.grid(True)\n",
    "        plt.yticks(alpha=0)\n",
    "        plt.title(r\"$B$(\"+str(i+1)+str(j+1)+\")\")\n",
    "plt.subplots_adjust(wspace=1e-2)"
   ]
  },
  {
   "cell_type": "code",
   "execution_count": 17,
   "metadata": {},
   "outputs": [
    {
     "data": {
      "text/plain": [
       "(5000, 1, 1)"
      ]
     },
     "execution_count": 17,
     "metadata": {},
     "output_type": "execute_result"
    }
   ],
   "source": [
    "np.shape(trace['TT'])"
   ]
  },
  {
   "cell_type": "code",
   "execution_count": 19,
   "metadata": {},
   "outputs": [
    {
     "data": {
      "text/plain": [
       "[<matplotlib.lines.Line2D at 0x7f2864134390>]"
      ]
     },
     "execution_count": 19,
     "metadata": {},
     "output_type": "execute_result"
    },
    {
     "data": {
      "image/png": "[encoded data removed]",
      "text/plain": [
       "<Figure size 1296x144 with 1 Axes>"
      ]
     },
     "metadata": {},
     "output_type": "display_data"
    }
   ],
   "source": [
    "plt.plot(trace['TT'][:,0,0])"
   ]
  },
  {
   "cell_type": "code",
   "execution_count": null,
   "metadata": {
    "collapsed": true
   },
   "outputs": [],
   "source": []
  }
 ],
 "metadata": {
  "kernelspec": {
   "display_name": "Python 3",
   "language": "python",
   "name": "python3"
  },
  "language_info": {
   "codemirror_mode": {
    "name": "ipython",
    "version": 3
   },
   "file_extension": ".py",
   "mimetype": "text/x-python",
   "name": "python",
   "nbconvert_exporter": "python",
   "pygments_lexer": "ipython3",
   "version": "3.6.2"
  }
 },
 "nbformat": 4,
 "nbformat_minor": 2
}
