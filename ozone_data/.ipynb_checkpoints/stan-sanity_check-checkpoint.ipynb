{
 "cells": [
  {
   "cell_type": "markdown",
   "metadata": {},
   "source": [
    "### HMMs using Kalman filter in Stan. \n",
    "\n",
    "* Code from https://jrnold.github.io/ssmodels-in-stan/the-linear-state-space-model.html"
   ]
  },
  {
   "cell_type": "code",
   "execution_count": 6,
   "metadata": {
    "collapsed": true
   },
   "outputs": [],
   "source": [
    "# Calling libraries:\n",
    "from __future__ import division\n",
    "%matplotlib inline\n",
    "import numpy as np, time, matplotlib.pyplot as plt, numpy.random as npr, pystan as ps, pickle, pandas\n",
    "from pylab import plot, show, legend\n",
    "from time import time\n",
    "from scipy.stats import *\n",
    "from tqdm import trange\n",
    "import scipy"
   ]
  },
  {
   "cell_type": "code",
   "execution_count": 2,
   "metadata": {
    "scrolled": false
   },
   "outputs": [
    {
     "name": "stderr",
     "output_type": "stream",
     "text": [
      "INFO:pystan:COMPILING THE C++ CODE FOR MODEL anon_model_ffa04d4de18fdd2f47e045a4acd9f11c NOW.\n"
     ]
    }
   ],
   "source": [
    "sm = ps.StanModel(file=\"model.stan\")"
   ]
  },
  {
   "cell_type": "code",
   "execution_count": 7,
   "metadata": {
    "collapsed": true
   },
   "outputs": [],
   "source": [
    "def generate_data_linear_gaussian(mu0, Sigma0, A, C, Q, R, T) :\n",
    "    npr.seed()\n",
    "    scipy.random.seed()\n",
    "    \n",
    "    dim = np.shape(A)[0]\n",
    "    Y = np.zeros((T,dim))\n",
    "    X = np.zeros((T,dim))\n",
    "    X[0] = multivariate_normal.rvs(mean=mu0, cov=Sigma0)\n",
    "    for t in np.arange(1,T) :\n",
    "        X[t] = multivariate_normal.rvs(mean=np.matmul(A,X[t-1]), cov=Q)\n",
    "    for t in range(T) :\n",
    "        Y[t] = multivariate_normal.rvs(mean=np.matmul(C,X[t]), cov=R)\n",
    "    return Y, X"
   ]
  },
  {
   "cell_type": "code",
   "execution_count": 8,
   "metadata": {
    "collapsed": true
   },
   "outputs": [],
   "source": [
    "A = np.asarray([[0.9, -0.3], \n",
    "                [0.2, 1]])\n",
    "C = np.asarray([[-1.1, 0.5],\n",
    "                [-0.3, 0.8]])\n",
    "dim = np.shape(A)[0]\n",
    "sigmax2 = 5e-1\n",
    "sigmay2 = 5e-1\n",
    "Q = sigmax2*np.eye(dim)\n",
    "R = sigmay2*np.eye(dim)\n",
    "mu0 = np.zeros(dim)\n",
    "Sigma0 = np.eye(dim)"
   ]
  },
  {
   "cell_type": "code",
   "execution_count": 9,
   "metadata": {},
   "outputs": [],
   "source": [
    "T = 1000\n",
    "Y, X = generate_data_linear_gaussian(mu0, Sigma0, A, C, Q, R, T)"
   ]
  },
  {
   "cell_type": "code",
   "execution_count": 25,
   "metadata": {
    "collapsed": true
   },
   "outputs": [],
   "source": [
    "tmax = 1000\n",
    "data = dict(n=T, p=dim, m=dim, y=Y, s=1, covariate=np.zeros(T), power=1, c=np.zeros(m))"
   ]
  },
  {
   "cell_type": "code",
   "execution_count": null,
   "metadata": {
    "collapsed": true
   },
   "outputs": [],
   "source": [
    "n_chains = 10\n",
    "\n",
    "start = time()\n",
    "fit = sm.sampling(data=data, thin=1, n_jobs=min(10,n_chains), chains=n_chains, init=\"random\", iter=500)\n",
    "mle = sm.optimizing(data=data)\n",
    "print(round((time()-start)/60,2), \"minutes to run\")\n",
    "trace = fit.extract()"
   ]
  },
  {
   "cell_type": "code",
   "execution_count": null,
   "metadata": {
    "collapsed": true
   },
   "outputs": [],
   "source": [
    "plt.rcParams['figure.figsize'] = (15, 2)\n",
    "for i in range(p) :\n",
    "    plt.subplot(1,p,i+1)\n",
    "    plt.plot(trace['Ztr'][:,:,i])\n",
    "    plt.grid(True)"
   ]
  },
  {
   "cell_type": "code",
   "execution_count": null,
   "metadata": {
    "collapsed": true
   },
   "outputs": [],
   "source": [
    "plt.rcParams['figure.figsize'] = (18, 2)\n",
    "for i in range(p) :\n",
    "    for j in range(s) :\n",
    "        plt.subplot(1,p*s, i*s+j+1) \n",
    "        plt.plot(trace['B'][:,i,j])\n",
    "        plt.grid(True)\n",
    "        if i*s+j+1 > 1 :\n",
    "            plt.yticks(alpha=0)\n",
    "        plt.title(r\"$B$(\"+str(i+1)+str(j+1)+\")\")\n",
    "plt.subplots_adjust(wspace=1e-2)"
   ]
  },
  {
   "cell_type": "code",
   "execution_count": null,
   "metadata": {
    "collapsed": true
   },
   "outputs": [],
   "source": [
    "plt.rcParams['figure.figsize'] = (5, 2)\n",
    "plt.plot(trace['T'][:,0,0])\n",
    "plt.grid(True)"
   ]
  },
  {
   "cell_type": "code",
   "execution_count": null,
   "metadata": {
    "collapsed": true
   },
   "outputs": [],
   "source": []
  },
  {
   "cell_type": "code",
   "execution_count": null,
   "metadata": {
    "collapsed": true
   },
   "outputs": [],
   "source": []
  }
 ],
 "metadata": {
  "kernelspec": {
   "display_name": "Python 3",
   "language": "python",
   "name": "python3"
  },
  "language_info": {
   "codemirror_mode": {
    "name": "ipython",
    "version": 3
   },
   "file_extension": ".py",
   "mimetype": "text/x-python",
   "name": "python",
   "nbconvert_exporter": "python",
   "pygments_lexer": "ipython3",
   "version": "3.6.2"
  }
 },
 "nbformat": 4,
 "nbformat_minor": 2
}
