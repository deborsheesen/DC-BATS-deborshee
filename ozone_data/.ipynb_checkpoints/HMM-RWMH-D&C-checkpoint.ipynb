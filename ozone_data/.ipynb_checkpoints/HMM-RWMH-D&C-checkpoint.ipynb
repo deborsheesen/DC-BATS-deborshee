{
 "cells": [
  {
   "cell_type": "markdown",
   "metadata": {},
   "source": [
    "#### Model: \n",
    "\n",
    "\\begin{eqnarray}\n",
    "\\text{Latent:} \\quad X_t & = & A X_{t-1}  + \\nu_t, \n",
    "\\\\\n",
    "\\text{Observed:} \\quad Y_t & = & C X_t + B Z_t + \\omega_t, \\quad Z_t ~ \\text{are covariates}\n",
    "\\\\\n",
    "\\nu_t & \\sim & \\text{N}(0, Q ),\n",
    "\\\\\n",
    "\\omega_t & \\sim & \\text{N}(0, R).\n",
    "\\end{eqnarray}"
   ]
  },
  {
   "cell_type": "code",
   "execution_count": 1,
   "metadata": {
    "collapsed": true
   },
   "outputs": [],
   "source": [
    "from __future__ import division\n",
    "%matplotlib inline\n",
    "from pykalman import KalmanFilter\n",
    "import numpy as np, numpy.random as npr, matplotlib.pyplot as plt, copy, multiprocessing as mp, csv, pandas\n",
    "from scipy.stats import *\n",
    "from pylab import plot, show, legend\n",
    "from tqdm import trange\n",
    "from ozone_functions import *"
   ]
  },
  {
   "cell_type": "code",
   "execution_count": 2,
   "metadata": {
    "collapsed": true
   },
   "outputs": [],
   "source": [
    "data = pandas.read_csv(\"data.csv\").values\n",
    "data = data[:,1::]"
   ]
  },
  {
   "cell_type": "code",
   "execution_count": 3,
   "metadata": {
    "collapsed": true
   },
   "outputs": [],
   "source": [
    "T = np.shape(data)[0]\n",
    "Y = data[:,0:3]\n",
    "Z = data[:,3::]\n",
    "\n",
    "obs_dim = np.shape(Y)[-1]\n",
    "lat_dim = 1\n",
    "cov_dim = np.shape(Z)[-1]"
   ]
  },
  {
   "cell_type": "code",
   "execution_count": 4,
   "metadata": {
    "collapsed": true
   },
   "outputs": [],
   "source": [
    "A = npr.randn(lat_dim,lat_dim)\n",
    "C = npr.randn(obs_dim,lat_dim)\n",
    "sigmax2 = 1\n",
    "sigmay2 = 1\n",
    "\n",
    "Q = sigmax2*np.eye(lat_dim)\n",
    "R = sigmay2*np.eye(obs_dim)\n",
    "\n",
    "B = npr.randn(obs_dim,cov_dim)\n",
    "b = np.transpose(np.matmul(B,Z.transpose()))"
   ]
  },
  {
   "cell_type": "code",
   "execution_count": 11,
   "metadata": {
    "collapsed": true
   },
   "outputs": [],
   "source": [
    "mu0 = np.zeros(lat_dim)\n",
    "Sigma0 = np.eye(lat_dim)"
   ]
  },
  {
   "cell_type": "code",
   "execution_count": 29,
   "metadata": {
    "collapsed": true
   },
   "outputs": [],
   "source": [
    "n_mcmc = 1000\n",
    "scale = np.asarray([5e-2,5e-2])\n",
    "scale_A = 5e-2*np.ones(np.shape(A))\n",
    "scale_C = 5e-2*np.ones(np.shape(C))\n",
    "scale_B = 5e-2*np.ones(np.shape(B))"
   ]
  },
  {
   "cell_type": "code",
   "execution_count": 30,
   "metadata": {
    "collapsed": true
   },
   "outputs": [],
   "source": [
    "K = 10\n",
    "tstarts = int(T/K)*np.arange(K).astype(int)\n",
    "Ychunks = [Y[tstart:(int(T/K)+tstart)] for tstart in tstarts]\n",
    "Zchunks = [Z[tstart:(int(T/K)+tstart)] for tstart in tstarts]\n",
    "\n",
    "def f(y, z) :\n",
    "    return adaptive_MH(y, Z, A, C, B, sigmax2, sigmay2, mu0, Sigma0, n_mcmc, \n",
    "                       scale, scale_A, scale_C, scale_B, power=K, adapt=False, kappa=3e-1)"
   ]
  },
  {
   "cell_type": "code",
   "execution_count": null,
   "metadata": {
    "scrolled": true
   },
   "outputs": [],
   "source": [
    "pool = mp.Pool(np.minimum(K,10))\n",
    "results = pool.starmap(f, zip(Ychunks,Zchunks))\n",
    "pool.close()"
   ]
  },
  {
   "cell_type": "code",
   "execution_count": null,
   "metadata": {
    "collapsed": true
   },
   "outputs": [],
   "source": []
  }
 ],
 "metadata": {
  "kernelspec": {
   "display_name": "Python 3",
   "language": "python",
   "name": "python3"
  },
  "language_info": {
   "codemirror_mode": {
    "name": "ipython",
    "version": 3
   },
   "file_extension": ".py",
   "mimetype": "text/x-python",
   "name": "python",
   "nbconvert_exporter": "python",
   "pygments_lexer": "ipython3",
   "version": "3.6.2"
  }
 },
 "nbformat": 4,
 "nbformat_minor": 2
}
