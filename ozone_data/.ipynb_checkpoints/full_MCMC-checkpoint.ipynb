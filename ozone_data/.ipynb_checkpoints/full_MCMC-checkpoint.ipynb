{
 "cells": [
  {
   "cell_type": "markdown",
   "metadata": {},
   "source": [
    "#### Model: \n",
    "\n",
    "\\begin{eqnarray}\n",
    "\\text{Latent:} \\quad X_t & = & A X_{t-1}  + \\nu_t, \n",
    "\\\\\n",
    "\\text{Observed:} \\quad Y_t & = & C X_t + B Z_t + \\omega_t, \\quad Z_t ~ \\text{are covariates}\n",
    "\\\\\n",
    "\\nu_t & \\sim & \\text{N}(0, Q ),\n",
    "\\\\\n",
    "\\omega_t & \\sim & \\text{N}(0, R).\n",
    "\\end{eqnarray}"
   ]
  },
  {
   "cell_type": "code",
   "execution_count": 1,
   "metadata": {
    "collapsed": true
   },
   "outputs": [],
   "source": [
    "from __future__ import division\n",
    "%matplotlib inline\n",
    "from pykalman import KalmanFilter\n",
    "import numpy as np, numpy.random as npr, matplotlib.pyplot as plt, copy, multiprocessing as mp, csv, pandas\n",
    "from scipy.stats import *\n",
    "from pylab import plot, show, legend\n",
    "from tqdm import trange\n",
    "from ozone_functions import *"
   ]
  },
  {
   "cell_type": "code",
   "execution_count": 2,
   "metadata": {
    "collapsed": true
   },
   "outputs": [],
   "source": [
    "data = pandas.read_csv(\"data.csv\").values\n",
    "data = data[:,1::]"
   ]
  },
  {
   "cell_type": "code",
   "execution_count": 3,
   "metadata": {
    "collapsed": true
   },
   "outputs": [],
   "source": [
    "T = np.shape(data)[0]\n",
    "Y = data[:,0:3]\n",
    "Z = data[:,3::]\n",
    "\n",
    "obs_dim = np.shape(Y)[-1]\n",
    "lat_dim = 1\n",
    "cov_dim = np.shape(Z)[-1]"
   ]
  },
  {
   "cell_type": "code",
   "execution_count": 4,
   "metadata": {},
   "outputs": [],
   "source": [
    "A = npr.randn(lat_dim,lat_dim)\n",
    "C = npr.randn(obs_dim,lat_dim)\n",
    "sigmax2 = 1\n",
    "sigmay2 = 1\n",
    "\n",
    "Q = sigmax2*np.eye(lat_dim)\n",
    "R = sigmay2*np.eye(obs_dim)\n",
    "\n",
    "B = npr.randn(obs_dim,cov_dim)\n",
    "b = np.transpose(np.matmul(B,Z.transpose()))"
   ]
  },
  {
   "cell_type": "code",
   "execution_count": 5,
   "metadata": {},
   "outputs": [],
   "source": [
    "mu0 = np.zeros(lat_dim)\n",
    "Sigma0 = np.eye(lat_dim)"
   ]
  },
  {
   "cell_type": "code",
   "execution_count": 49,
   "metadata": {
    "collapsed": true
   },
   "outputs": [],
   "source": [
    "n_mcmc = 1000\n",
    "scale = np.asarray([0.15,0.15])\n",
    "scale_A = 0.15*np.ones(np.shape(A))\n",
    "scale_C = 0.15*np.ones(np.shape(C))\n",
    "scale_B = 0.15*np.ones(np.shape(B))"
   ]
  },
  {
   "cell_type": "code",
   "execution_count": null,
   "metadata": {},
   "outputs": [
    {
     "name": "stdout",
     "output_type": "stream",
     "text": [
      "10.0 % run in 4.3 mins; acceptance rate = 0.22\n",
      "20.0 % run in 8.6 mins; acceptance rate = 0.12\n",
      "30.0 % run in 13.0 mins; acceptance rate = 0.09\n"
     ]
    }
   ],
   "source": [
    "log_sigmay2, log_sigmax2, A_chain, C_chain, B_chain, _, __ \\\n",
    "= adaptive_MH(Y, Z, A, C, B, sigmax2, sigmay2, mu0, Sigma0, \n",
    "              n_mcmc, scale, scale_A, scale_C, scale_B, kappa=3e-1, adapt=False)"
   ]
  },
  {
   "cell_type": "code",
   "execution_count": null,
   "metadata": {},
   "outputs": [],
   "source": [
    "plot_chains(log_sigmay2, log_sigmax2, A_chain, C_chain, B_chain)"
   ]
  },
  {
   "cell_type": "code",
   "execution_count": null,
   "metadata": {
    "collapsed": true
   },
   "outputs": [],
   "source": []
  },
  {
   "cell_type": "code",
   "execution_count": null,
   "metadata": {
    "collapsed": true
   },
   "outputs": [],
   "source": []
  }
 ],
 "metadata": {
  "kernelspec": {
   "display_name": "Python 3",
   "language": "python",
   "name": "python3"
  },
  "language_info": {
   "codemirror_mode": {
    "name": "ipython",
    "version": 3
   },
   "file_extension": ".py",
   "mimetype": "text/x-python",
   "name": "python",
   "nbconvert_exporter": "python",
   "pygments_lexer": "ipython3",
   "version": "3.6.2"
  }
 },
 "nbformat": 4,
 "nbformat_minor": 2
}
