{
 "cells": [
  {
   "cell_type": "markdown",
   "metadata": {},
   "source": [
    "#### Model: \n",
    "\n",
    "\\begin{eqnarray}\n",
    "\\text{Latent:} \\quad X_t & = & A X_{t-1}  + \\nu_t, \n",
    "\\\\\n",
    "\\text{Observed:} \\quad Y_t & = & C X_t + B Z_t + \\omega_t, \\quad Z_t ~ \\text{are covariates}\n",
    "\\\\\n",
    "\\nu_t & \\sim & \\text{N}(0, Q ),\n",
    "\\\\\n",
    "\\omega_t & \\sim & \\text{N}(0, R).\n",
    "\\end{eqnarray}"
   ]
  },
  {
   "cell_type": "code",
   "execution_count": 1,
   "metadata": {},
   "outputs": [],
   "source": [
    "from __future__ import division\n",
    "%matplotlib inline\n",
    "from pykalman import KalmanFilter\n",
    "import numpy as np, numpy.random as npr, matplotlib.pyplot as plt, copy, multiprocessing as mp, torch, pandas\n",
    "from scipy.stats import *\n",
    "from pylab import plot, show, legend\n",
    "from tqdm import trange\n",
    "from ozone_functions import *\n",
    "from torch.distributions import multivariate_normal"
   ]
  },
  {
   "cell_type": "code",
   "execution_count": 2,
   "metadata": {
    "collapsed": true
   },
   "outputs": [],
   "source": [
    "data = pandas.read_csv(\"data.csv\").values\n",
    "data = data[:,1::]"
   ]
  },
  {
   "cell_type": "code",
   "execution_count": 8,
   "metadata": {},
   "outputs": [],
   "source": [
    "T = np.shape(data)[0]\n",
    "Y = torch.FloatTensor(data[:,0:3])\n",
    "Z = torch.FloatTensor(data[:,3::])\n",
    "\n",
    "obs_dim = np.shape(Y)[-1]\n",
    "lat_dim = 1\n",
    "cov_dim = np.shape(Z)[-1]"
   ]
  },
  {
   "cell_type": "code",
   "execution_count": 15,
   "metadata": {},
   "outputs": [],
   "source": [
    "A = torch.randn(lat_dim,lat_dim, requires_grad=True)\n",
    "C = torch.randn(obs_dim,lat_dim, requires_grad=True)\n",
    "sigmax2 = torch.tensor(1., requires_grad=True)\n",
    "sigmay2 = torch.tensor(1., requires_grad=True)\n",
    "\n",
    "Q = sigmax2*torch.eye(lat_dim)\n",
    "R = sigmay2*torch.eye(obs_dim)\n",
    "\n",
    "B = torch.randn(obs_dim,cov_dim, requires_grad=True)\n",
    "b = (torch.matmul(B,Z.transpose(0,1))).transpose(0,1)"
   ]
  },
  {
   "cell_type": "code",
   "execution_count": 16,
   "metadata": {
    "collapsed": true
   },
   "outputs": [],
   "source": [
    "mu0 = torch.zeros(lat_dim)\n",
    "Sigma0 = torch.eye(lat_dim)"
   ]
  },
  {
   "cell_type": "raw",
   "metadata": {},
   "source": [
    "filtering_mean = np.zeros((T,lat_dim))\n",
    "predictive_mean = np.zeros((T,lat_dim))\n",
    "filtering_cov = np.zeros((T,lat_dim,lat_dim))\n",
    "predictive_cov = np.zeros((T,lat_dim,lat_dim))\n",
    "\n",
    "filtering_mean[0] = mu0\n",
    "filtering_cov[0] = Sigma0"
   ]
  },
  {
   "cell_type": "raw",
   "metadata": {},
   "source": [
    "for i in trange(1000) :\n",
    "    for t in range(T) :\n",
    "        predictive_mean[t] = A.dot(filtering_mean[t])\n",
    "        predictive_cov[t] = A.dot(filtering_cov[t]).dot(A.transpose())\n",
    "        K = predictive_cov[t].dot(C.transpose()).dot(np.linalg.inv(C.dot(predictive_cov[t]).dot(C.transpose())+R))\n",
    "        filtering_mean[t] = predictive_mean[t] + K.dot(Y[t]-C.dot(predictive_mean[t]))\n",
    "        filtering_cov[t] = (np.eye(lat_dim)-K.dot(C)).dot(predictive_cov[t])"
   ]
  },
  {
   "cell_type": "code",
   "execution_count": null,
   "metadata": {
    "collapsed": true
   },
   "outputs": [],
   "source": []
  },
  {
   "cell_type": "code",
   "execution_count": null,
   "metadata": {
    "collapsed": true
   },
   "outputs": [],
   "source": [
    "def get_lpdf(Y, Z, mu0, Sigma0, A, C, B, Q, R) :\n",
    "    T = np.shape(Y)[0]\n",
    "    filtering_mean = torch.clone(mu0)\n",
    "    filtering_cov = torch.clone(Sigma0)\n",
    "\n",
    "    lpdf = torch.tensor(0.)\n",
    "\n",
    "    for t in trange(T) :\n",
    "        predictive_mean = torch.matmul(A,filtering_mean)\n",
    "        predictive_cov = torch.matmul(A,torch.matmul(filtering_cov,A.transpose(0,1)))\n",
    "\n",
    "        K = torch.matmul(torch.matmul(predictive_cov,C.transpose(0,1)),\\\n",
    "                         (torch.inverse(torch.matmul(torch.matmul(C,predictive_cov),C.transpose(0,1))+R)))\n",
    "        filtering_mean = predictive_mean + torch.matmul(K,(Y[t]- torch.matmul(C,predictive_mean)))\n",
    "        filtering_cov = torch.matmul(torch.eye(lat_dim) - torch.matmul(K,C), predictive_cov) + Q\n",
    "\n",
    "        mean = torch.matmul(C,filtering_mean) + b[t] \n",
    "        cov = torch.matmul(C,torch.matmul(filtering_cov,C.transpose(0,1))) + R\n",
    "\n",
    "        dist = multivariate_normal.MultivariateNormal(loc=mean,covariance_matrix=cov)\n",
    "        lpdf += dist.log_prob(Y[t])\n",
    "    \n",
    "    lpdf.backward()\n",
    "    \n",
    "    return lpdf"
   ]
  },
  {
   "cell_type": "code",
   "execution_count": null,
   "metadata": {
    "collapsed": true
   },
   "outputs": [],
   "source": []
  },
  {
   "cell_type": "code",
   "execution_count": 21,
   "metadata": {},
   "outputs": [
    {
     "name": "stderr",
     "output_type": "stream",
     "text": [
      "100%|██████████| 8760/8760 [00:02<00:00, 4321.03it/s]\n"
     ]
    }
   ],
   "source": [
    "filtering_mean = torch.clone(mu0)\n",
    "filtering_cov = torch.clone(Sigma0)\n",
    "\n",
    "lpdf = torch.tensor(0.)\n",
    "\n",
    "for t in trange(T) :\n",
    "    predictive_mean = torch.matmul(A,filtering_mean)\n",
    "    predictive_cov = torch.matmul(A,torch.matmul(filtering_cov,A.transpose(0,1)))\n",
    "\n",
    "    K = torch.matmul(torch.matmul(predictive_cov,C.transpose(0,1)),\\\n",
    "                     (torch.inverse(torch.matmul(torch.matmul(C,predictive_cov),C.transpose(0,1))+R)))\n",
    "    filtering_mean = predictive_mean + torch.matmul(K,(Y[t]- torch.matmul(C,predictive_mean)))\n",
    "    filtering_cov = torch.matmul(torch.eye(lat_dim) - torch.matmul(K,C), predictive_cov) + Q\n",
    "    \n",
    "    mean = torch.matmul(C,filtering_mean) + b[t] \n",
    "    cov = torch.matmul(C,torch.matmul(filtering_cov,C.transpose(0,1))) + R\n",
    "    \n",
    "    dist = multivariate_normal.MultivariateNormal(loc=mean,covariance_matrix=cov)\n",
    "    lpdf += dist.log_prob(Y[t])"
   ]
  },
  {
   "cell_type": "code",
   "execution_count": 22,
   "metadata": {},
   "outputs": [
    {
     "name": "stdout",
     "output_type": "stream",
     "text": [
      "3.32 s ± 21.4 ms per loop (mean ± std. dev. of 7 runs, 1 loop each)\n"
     ]
    }
   ],
   "source": [
    "%timeit lpdf.backward(retain_graph=True)"
   ]
  },
  {
   "cell_type": "code",
   "execution_count": 23,
   "metadata": {},
   "outputs": [
    {
     "name": "stdout",
     "output_type": "stream",
     "text": [
      "tensor([[522874.1250]])\n",
      "tensor([[-5.1642e+08, -4.4298e+08],\n",
      "        [-4.7735e+08, -4.4539e+08],\n",
      "        [ 1.4134e+08,  1.9870e+08]])\n",
      "tensor([[15343401.],\n",
      "        [18398852.],\n",
      "        [ 1796558.]])\n",
      "tensor(2889435.5000)\n",
      "tensor(4.2366e+08)\n"
     ]
    }
   ],
   "source": [
    "print(A.grad)\n",
    "print(B.grad)\n",
    "print(C.grad)\n",
    "print(sigmax2.grad)\n",
    "print(sigmay2.grad)"
   ]
  },
  {
   "cell_type": "code",
   "execution_count": null,
   "metadata": {
    "collapsed": true
   },
   "outputs": [],
   "source": []
  }
 ],
 "metadata": {
  "kernelspec": {
   "display_name": "Python 3",
   "language": "python",
   "name": "python3"
  },
  "language_info": {
   "codemirror_mode": {
    "name": "ipython",
    "version": 3
   },
   "file_extension": ".py",
   "mimetype": "text/x-python",
   "name": "python",
   "nbconvert_exporter": "python",
   "pygments_lexer": "ipython3",
   "version": "3.6.2"
  }
 },
 "nbformat": 4,
 "nbformat_minor": 2
}
