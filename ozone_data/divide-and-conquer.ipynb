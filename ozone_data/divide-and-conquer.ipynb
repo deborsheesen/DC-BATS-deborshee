{
 "cells": [
  {
   "cell_type": "markdown",
   "metadata": {},
   "source": [
    "#### Model: \n",
    "\n",
    "\\begin{eqnarray}\n",
    "\\text{Latent:} \\quad X_t & = & A X_{t-1}  + \\nu_t, \n",
    "\\\\\n",
    "\\text{Observed:} \\quad Y_t & = & C X_t + B Z_t + \\omega_t, \\quad Z_t ~ \\text{are covariates}\n",
    "\\\\\n",
    "\\nu_t & \\sim & \\text{N}(0, Q ),\n",
    "\\\\\n",
    "\\omega_t & \\sim & \\text{N}(0, R).\n",
    "\\end{eqnarray}"
   ]
  },
  {
   "cell_type": "code",
   "execution_count": 1,
   "metadata": {
    "collapsed": true
   },
   "outputs": [],
   "source": [
    "from __future__ import division\n",
    "%matplotlib inline\n",
    "from pykalman import KalmanFilter\n",
    "import numpy as np, numpy.random as npr, matplotlib.pyplot as plt, copy, multiprocessing as mp, csv, pandas\n",
    "from scipy.stats import *\n",
    "from pylab import plot, show, legend\n",
    "from tqdm import trange\n",
    "from ozone_functions import *"
   ]
  },
  {
   "cell_type": "code",
   "execution_count": 2,
   "metadata": {
    "collapsed": true
   },
   "outputs": [],
   "source": [
    "data = pandas.read_csv(\"data.csv\").values\n",
    "data = data[:,1::]"
   ]
  },
  {
   "cell_type": "code",
   "execution_count": 3,
   "metadata": {
    "collapsed": true
   },
   "outputs": [],
   "source": [
    "T = np.shape(data)[0]\n",
    "Y = data[:,0:3]\n",
    "Z = data[:,3::]\n",
    "\n",
    "obs_dim = np.shape(Y)[-1]\n",
    "lat_dim = 1\n",
    "cov_dim = np.shape(Z)[-1]"
   ]
  },
  {
   "cell_type": "code",
   "execution_count": 4,
   "metadata": {
    "collapsed": true
   },
   "outputs": [],
   "source": [
    "A = npr.randn(lat_dim,lat_dim)\n",
    "C = npr.randn(obs_dim,lat_dim)\n",
    "sigmax2 = 1\n",
    "sigmay2 = 1\n",
    "\n",
    "Q = sigmax2*np.eye(lat_dim)\n",
    "R = sigmay2*np.eye(obs_dim)\n",
    "\n",
    "B = npr.randn(obs_dim,cov_dim)\n",
    "b = np.transpose(np.matmul(B,Z.transpose()))"
   ]
  },
  {
   "cell_type": "code",
   "execution_count": 5,
   "metadata": {
    "collapsed": true
   },
   "outputs": [],
   "source": [
    "mu0 = np.zeros(lat_dim)\n",
    "Sigma0 = np.eye(lat_dim)"
   ]
  },
  {
   "cell_type": "code",
   "execution_count": 6,
   "metadata": {
    "collapsed": true
   },
   "outputs": [],
   "source": [
    "n_mcmc = 10_000\n",
    "scale = np.asarray([3e-2,3e-2])\n",
    "scale_A = 3e-2*np.ones(np.shape(A))\n",
    "scale_C = 3e-2*np.ones(np.shape(C))\n",
    "scale_B = 3e-2*np.ones(np.shape(B))"
   ]
  },
  {
   "cell_type": "code",
   "execution_count": 7,
   "metadata": {
    "collapsed": true
   },
   "outputs": [],
   "source": [
    "K = 10\n",
    "tstarts = int(T/K)*np.arange(K).astype(int)\n",
    "Ychunks = [Y[tstart:(int(T/K)+tstart)] for tstart in tstarts]\n",
    "Zchunks = [Z[tstart:(int(T/K)+tstart)] for tstart in tstarts]\n",
    "\n",
    "def f(y, z) :\n",
    "    return adaptive_MH(y, Z, A, C, B, sigmax2, sigmay2, mu0, Sigma0, n_mcmc, \n",
    "                       scale, scale_A, scale_C, scale_B, power=K, adapt=False, kappa=3e-1)"
   ]
  },
  {
   "cell_type": "code",
   "execution_count": 8,
   "metadata": {
    "scrolled": true
   },
   "outputs": [
    {
     "name": "stdout",
     "output_type": "stream",
     "text": [
      "10.0 % run in 7.8 mins; acceptance rate = 0.28\n",
      "10.0 % run in 8.4 mins; acceptance rate = 0.2\n",
      "10.0 % run in 8.7 mins; acceptance rate = 0.24\n",
      "10.0 % run in 8.7 mins; acceptance rate = 0.25\n",
      "10.0 % run in 8.7 mins; acceptance rate = 0.22\n",
      "10.0 % run in 8.8 mins; acceptance rate = 0.24\n",
      "10.0 % run in 8.9 mins; acceptance rate = 0.28\n",
      "10.0 % run in 9.0 mins; acceptance rate = 0.22\n",
      "10.0 % run in 9.0 mins; acceptance rate = 0.23\n",
      "10.0 % run in 9.0 mins; acceptance rate = 0.17\n",
      "20.0 % run in 16.1 mins; acceptance rate = 0.15\n",
      "20.0 % run in 17.1 mins; acceptance rate = 0.12\n",
      "20.0 % run in 17.1 mins; acceptance rate = 0.1\n",
      "20.0 % run in 17.3 mins; acceptance rate = 0.13\n",
      "20.0 % run in 17.3 mins; acceptance rate = 0.12\n",
      "20.0 % run in 17.4 mins; acceptance rate = 0.08\n",
      "20.0 % run in 17.5 mins; acceptance rate = 0.13\n",
      "20.0 % run in 17.6 mins; acceptance rate = 0.12\n",
      "20.0 % run in 17.9 mins; acceptance rate = 0.12\n",
      "20.0 % run in 18.0 mins; acceptance rate = 0.14\n",
      "30.0 % run in 25.1 mins; acceptance rate = 0.1\n",
      "30.0 % run in 25.7 mins; acceptance rate = 0.07\n",
      "30.0 % run in 25.8 mins; acceptance rate = 0.09\n",
      "30.0 % run in 25.9 mins; acceptance rate = 0.08\n",
      "30.0 % run in 26.0 mins; acceptance rate = 0.09\n",
      "30.0 % run in 26.0 mins; acceptance rate = 0.09\n",
      "30.0 % run in 26.3 mins; acceptance rate = 0.08\n",
      "30.0 % run in 26.4 mins; acceptance rate = 0.06\n",
      "30.0 % run in 26.6 mins; acceptance rate = 0.1\n",
      "30.0 % run in 26.8 mins; acceptance rate = 0.08\n",
      "40.0 % run in 33.9 mins; acceptance rate = 0.05\n",
      "40.0 % run in 34.0 mins; acceptance rate = 0.08\n",
      "40.0 % run in 34.1 mins; acceptance rate = 0.07\n",
      "40.0 % run in 34.4 mins; acceptance rate = 0.07\n",
      "40.0 % run in 34.5 mins; acceptance rate = 0.06\n",
      "40.0 % run in 34.8 mins; acceptance rate = 0.07\n",
      "40.0 % run in 35.0 mins; acceptance rate = 0.04\n",
      "40.0 % run in 35.0 mins; acceptance rate = 0.06\n",
      "40.0 % run in 35.5 mins; acceptance rate = 0.06\n",
      "40.0 % run in 35.8 mins; acceptance rate = 0.08\n",
      "50.0 % run in 42.3 mins; acceptance rate = 0.04\n",
      "50.0 % run in 42.4 mins; acceptance rate = 0.06\n",
      "50.0 % run in 42.5 mins; acceptance rate = 0.06\n",
      "50.0 % run in 42.9 mins; acceptance rate = 0.05\n",
      "50.0 % run in 43.1 mins; acceptance rate = 0.05\n",
      "50.0 % run in 43.7 mins; acceptance rate = 0.05\n",
      "50.0 % run in 44.0 mins; acceptance rate = 0.04\n",
      "50.0 % run in 44.1 mins; acceptance rate = 0.05\n",
      "50.0 % run in 44.5 mins; acceptance rate = 0.05\n",
      "50.0 % run in 45.1 mins; acceptance rate = 0.06\n",
      "60.0 % run in 50.9 mins; acceptance rate = 0.04\n",
      "60.0 % run in 50.9 mins; acceptance rate = 0.05\n",
      "60.0 % run in 51.1 mins; acceptance rate = 0.04\n",
      "60.0 % run in 51.3 mins; acceptance rate = 0.05\n",
      "60.0 % run in 52.1 mins; acceptance rate = 0.04\n",
      "60.0 % run in 52.3 mins; acceptance rate = 0.05\n",
      "60.0 % run in 52.5 mins; acceptance rate = 0.04\n",
      "60.0 % run in 52.6 mins; acceptance rate = 0.03\n",
      "60.0 % run in 53.4 mins; acceptance rate = 0.04\n",
      "60.0 % run in 54.1 mins; acceptance rate = 0.05\n",
      "70.0 % run in 59.2 mins; acceptance rate = 0.04\n",
      "70.0 % run in 59.8 mins; acceptance rate = 0.03\n",
      "70.0 % run in 59.9 mins; acceptance rate = 0.05\n",
      "70.0 % run in 60.0 mins; acceptance rate = 0.04\n",
      "70.0 % run in 61.1 mins; acceptance rate = 0.04\n",
      "70.0 % run in 61.1 mins; acceptance rate = 0.04\n",
      "70.0 % run in 61.2 mins; acceptance rate = 0.03\n",
      "70.0 % run in 61.6 mins; acceptance rate = 0.04\n",
      "70.0 % run in 61.9 mins; acceptance rate = 0.04\n",
      "70.0 % run in 62.5 mins; acceptance rate = 0.05\n",
      "80.0 % run in 68.0 mins; acceptance rate = 0.03\n",
      "80.0 % run in 68.2 mins; acceptance rate = 0.03\n",
      "80.0 % run in 68.4 mins; acceptance rate = 0.04\n",
      "80.0 % run in 68.7 mins; acceptance rate = 0.04\n",
      "80.0 % run in 69.5 mins; acceptance rate = 0.04\n",
      "80.0 % run in 69.7 mins; acceptance rate = 0.02\n",
      "80.0 % run in 69.9 mins; acceptance rate = 0.03\n",
      "80.0 % run in 70.1 mins; acceptance rate = 0.03\n",
      "80.0 % run in 70.6 mins; acceptance rate = 0.03\n",
      "80.0 % run in 71.0 mins; acceptance rate = 0.04\n",
      "90.0 % run in 76.4 mins; acceptance rate = 0.02\n",
      "90.0 % run in 77.2 mins; acceptance rate = 0.03\n",
      "90.0 % run in 77.3 mins; acceptance rate = 0.04\n",
      "90.0 % run in 77.5 mins; acceptance rate = 0.04\n",
      "90.0 % run in 77.7 mins; acceptance rate = 0.02\n",
      "90.0 % run in 78.2 mins; acceptance rate = 0.03\n",
      "90.0 % run in 78.5 mins; acceptance rate = 0.03\n",
      "90.0 % run in 79.0 mins; acceptance rate = 0.03\n",
      "90.0 % run in 79.5 mins; acceptance rate = 0.03\n",
      "90.0 % run in 79.7 mins; acceptance rate = 0.04\n",
      "100.0 % run in 85.1 mins; acceptance rate = 0.02\n",
      "2.22 % acceptance rate\n",
      "100.0 % run in 85.8 mins; acceptance rate = 0.03\n",
      "3.18 % acceptance rate\n",
      "100.0 % run in 85.9 mins; acceptance rate = 0.02\n",
      "1.83 % acceptance rate\n",
      "100.0 % run in 86.0 mins; acceptance rate = 0.03\n",
      "3.33 % acceptance rate\n",
      "100.0 % run in 86.1 mins; acceptance rate = 0.03\n",
      "2.74 % acceptance rate\n",
      "100.0 % run in 86.2 mins; acceptance rate = 0.03\n",
      "2.93 % acceptance rate\n",
      "100.0 % run in 86.5 mins; acceptance rate = 0.03\n",
      "2.72 % acceptance rate\n",
      "100.0 % run in 86.9 mins; acceptance rate = 0.03\n",
      "2.72 % acceptance rate\n",
      "100.0 % run in 87.1 mins; acceptance rate = 0.03\n",
      "2.76 % acceptance rate\n",
      "100.0 % run in 87.3 mins; acceptance rate = 0.03\n",
      "3.29 % acceptance rate\n"
     ]
    }
   ],
   "source": [
    "pool = mp.Pool(np.minimum(K,10))\n",
    "results = pool.starmap(f, zip(Ychunks,Zchunks))\n",
    "pool.close()"
   ]
  },
  {
   "cell_type": "code",
   "execution_count": null,
   "metadata": {
    "collapsed": true
   },
   "outputs": [],
   "source": []
  },
  {
   "cell_type": "code",
   "execution_count": null,
   "metadata": {
    "collapsed": true
   },
   "outputs": [],
   "source": []
  }
 ],
 "metadata": {
  "kernelspec": {
   "display_name": "Python 3",
   "language": "python",
   "name": "python3"
  },
  "language_info": {
   "codemirror_mode": {
    "name": "ipython",
    "version": 3
   },
   "file_extension": ".py",
   "mimetype": "text/x-python",
   "name": "python",
   "nbconvert_exporter": "python",
   "pygments_lexer": "ipython3",
   "version": "3.6.2"
  }
 },
 "nbformat": 4,
 "nbformat_minor": 2
}
