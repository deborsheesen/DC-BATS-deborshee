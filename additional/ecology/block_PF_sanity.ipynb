{
 "cells": [
  {
   "cell_type": "markdown",
   "metadata": {},
   "source": [
    "### Sanity checks:"
   ]
  },
  {
   "cell_type": "code",
   "execution_count": 1,
   "metadata": {
    "collapsed": true
   },
   "outputs": [],
   "source": [
    "# Calling libraries:\n",
    "from __future__ import division\n",
    "%matplotlib inline\n",
    "import numpy as np, time, matplotlib.pyplot as plt, math, pandas, numpy.random as npr, multiprocessing as mp, gc\n",
    "from pylab import plot, show, legend\n",
    "from time import time\n",
    "from scipy.stats import *\n",
    "from tqdm import trange\n",
    "from ecology_functions import *\n",
    "gc.enable()"
   ]
  },
  {
   "cell_type": "code",
   "execution_count": 2,
   "metadata": {
    "collapsed": true
   },
   "outputs": [],
   "source": [
    "gc.collect();"
   ]
  },
  {
   "cell_type": "code",
   "execution_count": 3,
   "metadata": {
    "collapsed": true
   },
   "outputs": [],
   "source": [
    "T = 100\n",
    "I = 5    # number of locations\n",
    "J = 5    # number of species\n",
    "K = 3    # number of latent factors"
   ]
  },
  {
   "cell_type": "code",
   "execution_count": 4,
   "metadata": {
    "collapsed": true
   },
   "outputs": [],
   "source": [
    "lmbda = npr.randn(J,K)\n",
    "alpha = npr.randn(J)\n",
    "c = 0\n",
    "phi = 0.5\n",
    "logsigmasq = 0\n",
    "x_0 = npr.randn(I,K)\n",
    "\n",
    "theta = [alpha, lmbda, c, phi, logsigmasq]\n",
    "Y, X = simulate_data(x_0, T, J, theta)"
   ]
  },
  {
   "cell_type": "code",
   "execution_count": 5,
   "metadata": {
    "collapsed": true
   },
   "outputs": [],
   "source": [
    "n_particles = 1000\n",
    "alpha_grad, lmbda_grad, c_grad, phi_grad, logsigmasq_grad, logNC = \\\n",
    "get_grads(Y, x_0, n_particles, theta, Tmax=T, Imax=I, Jmax=J, Kmax=K, rep=500)"
   ]
  },
  {
   "cell_type": "code",
   "execution_count": 15,
   "metadata": {},
   "outputs": [
    {
     "data": {
      "text/plain": [
       "array([[-15.2 ,  -2.3 ,  13.9 ,   1.63,  -5.12],\n",
       "       [-14.03,  -4.9 ,  15.98,   0.94,  -7.05]])"
      ]
     },
     "execution_count": 15,
     "metadata": {},
     "output_type": "execute_result"
    }
   ],
   "source": [
    "np.round(np.mean(alpha_grad,0),2)"
   ]
  },
  {
   "cell_type": "code",
   "execution_count": 7,
   "metadata": {},
   "outputs": [
    {
     "data": {
      "text/plain": [
       "array([[ 2.8,  4.7,  4.9,  5.4,  5.6],\n",
       "       [17.3, 30.4, 31.8, 33.2, 35.4]])"
      ]
     },
     "execution_count": 7,
     "metadata": {},
     "output_type": "execute_result"
    }
   ],
   "source": [
    "np.round(np.var(alpha_grad,0),1)"
   ]
  },
  {
   "cell_type": "code",
   "execution_count": 8,
   "metadata": {},
   "outputs": [
    {
     "data": {
      "text/plain": [
       "array([6.2, 6.5, 6.5, 6.2, 6.3])"
      ]
     },
     "execution_count": 8,
     "metadata": {},
     "output_type": "execute_result"
    }
   ],
   "source": [
    "np.round(np.var(alpha_grad,0)[1]/np.var(alpha_grad,0)[0],1)"
   ]
  },
  {
   "cell_type": "code",
   "execution_count": 16,
   "metadata": {},
   "outputs": [
    {
     "data": {
      "text/plain": [
       "array([[[-4.89,  6.86, -2.59],\n",
       "        [-1.23, -6.49,  3.17],\n",
       "        [ 6.89, -4.43,  5.31],\n",
       "        [ 0.47,  3.17,  1.63],\n",
       "        [-1.12,  2.72,  4.25]],\n",
       "\n",
       "       [[-7.82,  6.59, -5.54],\n",
       "        [-3.44, -8.26, -2.8 ],\n",
       "        [ 5.33,  0.72,  6.42],\n",
       "        [-1.85, -2.66,  0.93],\n",
       "        [ 1.63,  0.34, -0.65]]])"
      ]
     },
     "execution_count": 16,
     "metadata": {},
     "output_type": "execute_result"
    }
   ],
   "source": [
    "np.round(np.mean(lmbda_grad,0),2)"
   ]
  },
  {
   "cell_type": "code",
   "execution_count": 10,
   "metadata": {},
   "outputs": [
    {
     "data": {
      "text/plain": [
       "array([[[ 8. , 12. , 15. ],\n",
       "        [ 7.8, 10.6, 10.8],\n",
       "        [ 8.2,  7. , 12. ],\n",
       "        [ 6.9,  7.4, 11.4],\n",
       "        [ 5.1, 10.8,  9.5]],\n",
       "\n",
       "       [[47.8, 67.9, 76.7],\n",
       "        [44. , 66.1, 65.9],\n",
       "        [51. , 52.2, 70.6],\n",
       "        [42.7, 45.1, 68.3],\n",
       "        [26.5, 63.6, 56.2]]])"
      ]
     },
     "execution_count": 10,
     "metadata": {},
     "output_type": "execute_result"
    }
   ],
   "source": [
    "np.round(np.var(lmbda_grad,0),1)"
   ]
  },
  {
   "cell_type": "code",
   "execution_count": 11,
   "metadata": {},
   "outputs": [
    {
     "data": {
      "text/plain": [
       "array([[5.9, 5.7, 5.1],\n",
       "       [5.6, 6.2, 6.1],\n",
       "       [6.2, 7.4, 5.9],\n",
       "       [6.1, 6.1, 6. ],\n",
       "       [5.2, 5.9, 5.9]])"
      ]
     },
     "execution_count": 11,
     "metadata": {},
     "output_type": "execute_result"
    }
   ],
   "source": [
    "np.round(np.var(lmbda_grad,0)[1]/np.var(lmbda_grad,0)[0],1)"
   ]
  },
  {
   "cell_type": "code",
   "execution_count": 12,
   "metadata": {},
   "outputs": [
    {
     "data": {
      "image/png": "[encoded data removed]",
      "text/plain": [
       "<Figure size 288x216 with 1 Axes>"
      ]
     },
     "metadata": {},
     "output_type": "display_data"
    }
   ],
   "source": [
    "fig = plt.rcParams['figure.figsize'] = (4, 3)\n",
    "plt.hist(logNC[:,0], bins=25, alpha=0.5, color=\"red\")\n",
    "plt.hist(logNC[:,1], bins=25, alpha=0.5, color=\"blue\")\n",
    "plt.grid(True);"
   ]
  },
  {
   "cell_type": "code",
   "execution_count": 13,
   "metadata": {},
   "outputs": [
    {
     "data": {
      "image/png": "[encoded data removed]",
      "text/plain": [
       "<Figure size 720x180 with 3 Axes>"
      ]
     },
     "metadata": {},
     "output_type": "display_data"
    }
   ],
   "source": [
    "fig = plt.rcParams['figure.figsize'] = (10, 2.5)\n",
    "plt.subplot(131)\n",
    "plt.hist(c_grad[:,0], bins=25, alpha=0.5, color=\"red\")\n",
    "plt.hist(c_grad[:,1], bins=25, alpha=0.5, color=\"blue\")\n",
    "plt.grid(True)\n",
    "plt.subplot(132)\n",
    "plt.hist(phi_grad[:,0], bins=25, alpha=0.5, color=\"red\")\n",
    "plt.hist(phi_grad[:,1], bins=25, alpha=0.5, color=\"blue\")\n",
    "plt.grid(True)\n",
    "plt.subplot(133)\n",
    "plt.hist(logsigmasq_grad[:,0], bins=25, alpha=0.5, color=\"red\")\n",
    "plt.hist(logsigmasq_grad[:,1], bins=25, alpha=0.5, color=\"blue\")\n",
    "plt.grid(True)"
   ]
  },
  {
   "cell_type": "code",
   "execution_count": 14,
   "metadata": {
    "scrolled": true
   },
   "outputs": [
    {
     "data": {
      "image/png": "[encoded data removed]",
      "text/plain": [
       "<Figure size 720x360 with 15 Axes>"
      ]
     },
     "metadata": {},
     "output_type": "display_data"
    }
   ],
   "source": [
    "fig = plt.rcParams['figure.figsize'] = (10, 5)\n",
    "for k in range(K) :\n",
    "    for j in range(J) :\n",
    "        idx = k*J + j + 1\n",
    "        plt.subplot(K,J,idx)\n",
    "        plt.hist(lmbda_grad[:,0,j,k], bins=25, alpha=0.5, color=\"red\")\n",
    "        plt.hist(lmbda_grad[:,1,j,k], bins=25, alpha=0.5, color=\"blue\")\n",
    "        plt.grid(True)"
   ]
  },
  {
   "cell_type": "code",
   "execution_count": null,
   "metadata": {
    "collapsed": true
   },
   "outputs": [],
   "source": []
  },
  {
   "cell_type": "code",
   "execution_count": null,
   "metadata": {
    "collapsed": true
   },
   "outputs": [],
   "source": []
  }
 ],
 "metadata": {
  "kernelspec": {
   "display_name": "Python 3",
   "language": "python",
   "name": "python3"
  },
  "language_info": {
   "codemirror_mode": {
    "name": "ipython",
    "version": 3
   },
   "file_extension": ".py",
   "mimetype": "text/x-python",
   "name": "python",
   "nbconvert_exporter": "python",
   "pygments_lexer": "ipython3",
   "version": "3.6.2"
  }
 },
 "nbformat": 4,
 "nbformat_minor": 2
}
