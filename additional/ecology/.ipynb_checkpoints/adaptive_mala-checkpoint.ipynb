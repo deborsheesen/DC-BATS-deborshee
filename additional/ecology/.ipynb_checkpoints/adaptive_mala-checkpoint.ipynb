{
 "cells": [
  {
   "cell_type": "code",
   "execution_count": 1,
   "metadata": {
    "collapsed": true
   },
   "outputs": [],
   "source": [
    "# Calling libraries:\n",
    "from __future__ import division\n",
    "%matplotlib inline\n",
    "import numpy as np, time, matplotlib.pyplot as plt, math, pandas, numpy.random as npr, multiprocessing as mp, copy\n",
    "from pylab import plot, show, legend\n",
    "from time import time\n",
    "from scipy.stats import *\n",
    "from tqdm import trange\n",
    "from ecology_functions import *"
   ]
  },
  {
   "cell_type": "code",
   "execution_count": 2,
   "metadata": {
    "collapsed": true
   },
   "outputs": [],
   "source": [
    "def p_1(sigma, epsilon, A) :\n",
    "    return epsilon*(sigma<epsilon) + sigma*(epsilon<=sigma<=A) + A*(sigma>A)\n",
    "\n",
    "def p_2(Sigma, A) :\n",
    "    absSigma = np.linalg.norm(Sigma)\n",
    "    return Sigma*(absSigma<=A) + (A/absSigma)*Sigma*(absSigma>=A)\n",
    "\n",
    "def p_3(x, A) :\n",
    "    absx = np.abs(x)\n",
    "    return x*(absx<=A) + (A/absx)*x*(absx>A)"
   ]
  },
  {
   "cell_type": "code",
   "execution_count": 3,
   "metadata": {
    "collapsed": true
   },
   "outputs": [],
   "source": [
    "def adapt(theta, mu, Gamma, sigma, gamma, accept_prob, taubar, epsilon_1, A, update) :\n",
    "    alpha, lmbda, c, phi, logsigmasq = theta[:]\n",
    "    mu_alpha, mu_lmbda, mu_c, mu_phi, mu_logsigmasq = mu[:]\n",
    "    Gamma_alpha, Gamma_lmbda, Gamma_c, Gamma_phi, Gamma_logsigmasq = Gamma[:]\n",
    "    \n",
    "    for i in range(5) :\n",
    "        if update[i] : \n",
    "            mu[i] = p_3(mu[i] + gamma*(theta[i].flatten()-mu[i]), A) \n",
    "            Gamma[i] = p_2(Gamma[i] + gamma*((theta[i].flatten()-mu[i])*((theta[i].flatten()-mu[i]).transpose()) - Gamma[i]), A)\n",
    "    \n",
    "    sigma = p_1(sigma + gamma*(accept_prob-taubar), epsilon_1, A)\n",
    "    \n",
    "    return mu, Gamma, sigma"
   ]
  },
  {
   "cell_type": "code",
   "execution_count": 4,
   "metadata": {
    "collapsed": true
   },
   "outputs": [],
   "source": [
    "def propose_MALA(theta, grad, sigma, Gamma, epsilon_2, update) :\n",
    "    npr.seed()\n",
    "    scipy.random.seed()\n",
    "    \n",
    "    shapes = [np.prod(np.shape(theta[i])).astype(int) for i in range(5)]\n",
    "    Lmbda = [Gamma[i] + epsilon_2*np.eye(shapes[i]) for i in range(5)]\n",
    "    prop = [theta[i].flatten() + update[i]*(sigma**2*np.diag(Lmbda[i])*(grad[i].flatten()) \\\n",
    "                                  + np.sqrt(2*sigma**2*np.diag(Lmbda[i]))*npr.randn(shapes[i])) \\\n",
    "            for i in range(5)]\n",
    "    \n",
    "    return [np.reshape(prop[i], np.shape(theta[i])) for i in range(5)]"
   ]
  },
  {
   "cell_type": "code",
   "execution_count": 5,
   "metadata": {
    "collapsed": true
   },
   "outputs": [],
   "source": [
    "def transition_prob_MALA(theta_curr, theta_prop, ll_curr, ll_prop, grad_curr, grad_prop, \n",
    "                         sigma, Gamma, epsilon_2, power, update) :\n",
    "    log_prior_curr, log_prior_prop = log_prior(theta_curr), log_prior(theta_prop) \n",
    "    a = power*(ll_prop-ll_curr) + (log_prior_prop-log_prior_curr)\n",
    "    \n",
    "    J, K = np.shape(theta_curr[1])\n",
    "    \n",
    "    tau_alpha = sigma*2*np.diag(Gamma[0] + epsilon_2*np.eye(J))\n",
    "    tau_lmbda = sigma*2*np.diag(Gamma[1] + epsilon_2*np.eye(J*K))\n",
    "    tau_c = sigma*2*np.diag(Gamma[2] + epsilon_2*np.eye(1))\n",
    "    tau_phi = sigma*2*np.diag(Gamma[3] + epsilon_2*np.eye(1))\n",
    "    tau_logsigmasq = sigma*2*np.diag(Gamma[4] + epsilon_2*np.eye(1))\n",
    "    \n",
    "    tau = [tau_alpha, np.reshape(tau_lmbda, [J,K]), tau_c, tau_phi, tau_logsigmasq]\n",
    "    \n",
    "    b1 = -np.sum([np.linalg.norm((theta_curr[i] - theta_prop[i] - update[i]*tau[i]*grad_curr[i])/(2*np.sqrt(tau[i])))**2 \\\n",
    "                  for i in range(5)])\n",
    "    b2 = -np.sum([np.linalg.norm((theta_prop[i] - theta_curr[i] - update[i]*tau[i]*grad_prop[i])/(2*np.sqrt(tau[i])))**2 \\\n",
    "                  for i in range(5)])\n",
    "    return a + b1 - b2"
   ]
  },
  {
   "cell_type": "code",
   "execution_count": 28,
   "metadata": {
    "collapsed": true
   },
   "outputs": [],
   "source": [
    "def pMCMC_MALA_blockPF_adaptive(Y, x_0, n_particles, theta_0, n_mcmc, sigma, Gamma, mu, \n",
    "                                gamma, A, epsilon_1, epsilon_2, taubar, update, power=1) :\n",
    "    \n",
    "    np.random.seed()\n",
    "    scipy.random.seed()\n",
    "    \n",
    "    alpha_chain, lmbda_chain, c_chain, phi_chain, logsigmasq_chain, lls, theta_mu, theta_m2 = initialise(theta_0, n_mcmc)\n",
    "    theta_chain = [alpha_chain, lmbda_chain, c_chain, phi_chain, logsigmasq_chain]\n",
    "    \n",
    "    theta_curr = [alpha_chain[0], lmbda_chain[0], c_chain[0], phi_chain[0], logsigmasq_chain[0]]    \n",
    "    ll_curr, grad_curr = block_PF(Y, x_0, n_particles, theta_curr, calc_grad=True)\n",
    "    accepted = 0\n",
    "    last_jump = 0\n",
    "    \n",
    "    accept_probs = np.zeros(n_mcmc)\n",
    "    sigma_vals = np.zeros(n_mcmc+1)\n",
    "    sigma_vals[0] = sigma\n",
    "    \n",
    "    for n in trange(n_mcmc) :\n",
    "        theta_prop = propose_MALA(theta_curr, grad_curr, sigma_vals[n], Gamma, epsilon_2, update)\n",
    "        ll_prop, grad_prop = block_PF(Y, x_0, n_particles, theta_prop, calc_grad=True)\n",
    "        log_accept_prob = transition_prob_MALA(theta_curr, theta_prop, ll_curr, ll_prop, grad_curr, grad_prop, \n",
    "                                               sigma, Gamma, epsilon_2, power, update)\n",
    "        accept_probs[n] = np.exp(log_accept_prob)\n",
    "        \n",
    "        if np.log(npr.rand()) < log_accept_prob :\n",
    "            ll_curr = np.copy(ll_prop)\n",
    "            theta_curr = np.copy(theta_prop)\n",
    "            grad_curr = np.copy(grad_prop)\n",
    "            accepted += 1\n",
    "            last_jump = n\n",
    "        else :\n",
    "            if n - last_jump > 50 :\n",
    "                ll_curr, grad_curr = block_PF(Y, x_0, n_particles, theta_curr, calc_grad=True)\n",
    "        mu, Gamma, sigma_vals[n+1] = adapt(theta_curr, mu, Gamma, sigma_vals[n], gamma[n], \n",
    "                                           accept_probs[n], taubar, epsilon_1, A, update)\n",
    "       \n",
    "        theta_chain = push(theta_chain, theta_curr, n+1)\n",
    "\n",
    "    print(100*accepted/n_mcmc, \"% acceptance rate\")\n",
    "    return theta_chain, accept_probs, sigma_vals"
   ]
  },
  {
   "cell_type": "markdown",
   "metadata": {},
   "source": [
    "#### Simulate observations:"
   ]
  },
  {
   "cell_type": "code",
   "execution_count": 29,
   "metadata": {
    "collapsed": true
   },
   "outputs": [],
   "source": [
    "T = 100\n",
    "I = 5    # number of locations\n",
    "J = 3    # number of species\n",
    "K = 2    # number of latent factors"
   ]
  },
  {
   "cell_type": "code",
   "execution_count": 30,
   "metadata": {
    "collapsed": true
   },
   "outputs": [],
   "source": [
    "lmbda = npr.randn(J,K)\n",
    "alpha = npr.randn(J)\n",
    "c = 0\n",
    "phi = 0.5\n",
    "logsigmasq = 0\n",
    "x_0 = npr.randn(I,K)\n",
    "\n",
    "theta = [alpha, lmbda, c, phi, logsigmasq]\n",
    "Y, X = simulate_data(x_0, T, J, theta)"
   ]
  },
  {
   "cell_type": "markdown",
   "metadata": {},
   "source": [
    "#### Initialise:"
   ]
  },
  {
   "cell_type": "code",
   "execution_count": 31,
   "metadata": {
    "collapsed": true
   },
   "outputs": [],
   "source": [
    "mu_alpha = 1e-4*np.ones(J)\n",
    "mu_lmbda = 1e-4*np.ones(J*K)\n",
    "mu_c = 1e-4\n",
    "mu_phi = 1e-4\n",
    "mu_logsigmasq = 1e-4\n",
    "mu = [mu_alpha, mu_lmbda, mu_c, mu_phi, mu_logsigmasq]\n",
    "\n",
    "sigma = 1e-2"
   ]
  },
  {
   "cell_type": "code",
   "execution_count": 32,
   "metadata": {
    "collapsed": true
   },
   "outputs": [],
   "source": [
    "A = 1e1\n",
    "epsilon_1 = 1e-4\n",
    "epsilon_2 = 1e-4\n",
    "\n",
    "Gamma_alpha = np.eye(J)/100\n",
    "Gamma_lmbda = np.eye(J*K)/100\n",
    "Gamma_c = np.eye(1)/100\n",
    "Gamma_phi = np.eye(1)/100\n",
    "Gamma_logsigmasq = np.eye(1)/100\n",
    "Gamma = [Gamma_alpha, Gamma_lmbda, Gamma_c, Gamma_phi, Gamma_logsigmasq]"
   ]
  },
  {
   "cell_type": "code",
   "execution_count": 33,
   "metadata": {
    "collapsed": true
   },
   "outputs": [],
   "source": [
    "taubar = 0.15\n",
    "n_mcmc = 1000\n",
    "gamma = 0.5/np.arange(1,n_mcmc+1)"
   ]
  },
  {
   "cell_type": "code",
   "execution_count": 34,
   "metadata": {},
   "outputs": [
    {
     "name": "stderr",
     "output_type": "stream",
     "text": [
      "/home/postdoc/dsen/.local/lib/python3.6/site-packages/numpy/lib/function_base.py:792: VisibleDeprecationWarning: Creating an ndarray from ragged nested sequences (which is a list-or-tuple of lists-or-tuples-or ndarrays with different lengths or shapes) is deprecated. If you meant to do this, you must specify 'dtype=object' when creating the ndarray\n",
      "  return array(a, order=order, subok=subok, copy=True)\n",
      "100%|██████████| 1000/1000 [10:48<00:00,  1.35it/s]"
     ]
    },
    {
     "name": "stdout",
     "output_type": "stream",
     "text": [
      "0.6 % acceptance rate\n"
     ]
    },
    {
     "name": "stderr",
     "output_type": "stream",
     "text": [
      "\n"
     ]
    }
   ],
   "source": [
    "n_particles = 1000\n",
    "update = [1, 0, 0, 0, 0]\n",
    "theta_chain, accept_probs, sigma_vals = pMCMC_MALA_blockPF_adaptive(Y, x_0, n_particles, theta, n_mcmc, sigma, Gamma, mu, \n",
    "                                                        gamma, A, epsilon_1, epsilon_2, taubar, update, power=1)"
   ]
  },
  {
   "cell_type": "code",
   "execution_count": 36,
   "metadata": {},
   "outputs": [
    {
     "data": {
      "image/png": "[encoded data removed]",
      "text/plain": [
       "<Figure size 432x288 with 1 Axes>"
      ]
     },
     "metadata": {},
     "output_type": "display_data"
    }
   ],
   "source": [
    "plt.plot(theta_chain[0])\n",
    "plt.grid(True)"
   ]
  },
  {
   "cell_type": "code",
   "execution_count": null,
   "metadata": {
    "collapsed": true
   },
   "outputs": [],
   "source": []
  }
 ],
 "metadata": {
  "kernelspec": {
   "display_name": "Python 3",
   "language": "python",
   "name": "python3"
  },
  "language_info": {
   "codemirror_mode": {
    "name": "ipython",
    "version": 3
   },
   "file_extension": ".py",
   "mimetype": "text/x-python",
   "name": "python",
   "nbconvert_exporter": "python",
   "pygments_lexer": "ipython3",
   "version": "3.6.2"
  }
 },
 "nbformat": 4,
 "nbformat_minor": 2
}
