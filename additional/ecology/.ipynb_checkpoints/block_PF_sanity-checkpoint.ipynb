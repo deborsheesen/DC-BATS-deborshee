{
 "cells": [
  {
   "cell_type": "markdown",
   "metadata": {},
   "source": [
    "### Sanity checks:"
   ]
  },
  {
   "cell_type": "code",
   "execution_count": 1,
   "metadata": {
    "collapsed": true
   },
   "outputs": [],
   "source": [
    "# Calling libraries:\n",
    "from __future__ import division\n",
    "%matplotlib inline\n",
    "import numpy as np, time, matplotlib.pyplot as plt, math, pandas, numpy.random as npr, multiprocessing as mp, gc\n",
    "from pylab import plot, show, legend\n",
    "from time import time\n",
    "from scipy.stats import *\n",
    "from tqdm import trange\n",
    "from ecology_functions import *\n",
    "gc.enable()"
   ]
  },
  {
   "cell_type": "code",
   "execution_count": 2,
   "metadata": {
    "collapsed": true
   },
   "outputs": [],
   "source": [
    "gc.collect();"
   ]
  },
  {
   "cell_type": "code",
   "execution_count": 3,
   "metadata": {
    "collapsed": true
   },
   "outputs": [],
   "source": [
    "T = 100\n",
    "I = 5    # number of locations\n",
    "J = 3    # number of species\n",
    "K = 2    # number of latent factors"
   ]
  },
  {
   "cell_type": "code",
   "execution_count": 4,
   "metadata": {
    "collapsed": true
   },
   "outputs": [],
   "source": [
    "lmbda = npr.randn(J,K)\n",
    "alpha = npr.randn(J)\n",
    "c = 0\n",
    "phi = 0.5\n",
    "logsigmasq = 0\n",
    "x_0 = npr.randn(I,K)\n",
    "\n",
    "theta = [alpha, lmbda, c, phi, logsigmasq]\n",
    "Y, X = simulate_data(x_0, T, J, theta)"
   ]
  },
  {
   "cell_type": "code",
   "execution_count": 5,
   "metadata": {},
   "outputs": [],
   "source": [
    "n_particles = 1000\n",
    "alpha_grad, lmbda_grad, c_grad, phi_grad, logsigmasq_grad, logNC = \\\n",
    "get_grads(Y, x_0, n_particles, theta, Tmax=T, Imax=I, Jmax=J, Kmax=K, rep=500)"
   ]
  },
  {
   "cell_type": "code",
   "execution_count": 6,
   "metadata": {},
   "outputs": [
    {
     "data": {
      "text/plain": [
       "array([[-10.67284516,  -1.04538133,  -6.02312036],\n",
       "       [-10.78132956,  -1.51135135,  -6.78370484]])"
      ]
     },
     "execution_count": 6,
     "metadata": {},
     "output_type": "execute_result"
    }
   ],
   "source": [
    "np.mean(alpha_grad,0)"
   ]
  },
  {
   "cell_type": "code",
   "execution_count": 7,
   "metadata": {},
   "outputs": [
    {
     "data": {
      "text/plain": [
       "array([[ 2.76644719,  3.05876482,  5.24401548],\n",
       "       [18.86956807, 21.09983212, 37.36910039]])"
      ]
     },
     "execution_count": 7,
     "metadata": {},
     "output_type": "execute_result"
    }
   ],
   "source": [
    "np.var(alpha_grad,0)"
   ]
  },
  {
   "cell_type": "code",
   "execution_count": 16,
   "metadata": {},
   "outputs": [
    {
     "data": {
      "text/plain": [
       "array([6.8, 6.9, 7.1])"
      ]
     },
     "execution_count": 16,
     "metadata": {},
     "output_type": "execute_result"
    }
   ],
   "source": [
    "np.round(np.var(alpha_grad,0)[1]/np.var(alpha_grad,0)[0],1)"
   ]
  },
  {
   "cell_type": "code",
   "execution_count": 9,
   "metadata": {},
   "outputs": [
    {
     "data": {
      "text/plain": [
       "array([[[ 0.87364159,  0.69107206],\n",
       "        [-7.3211338 ,  0.13066709],\n",
       "        [ 0.593416  , 12.34349051]],\n",
       "\n",
       "       [[ 1.66864074,  1.15167871],\n",
       "        [-6.89607588, -0.32048541],\n",
       "        [ 2.82384795, 11.87526515]]])"
      ]
     },
     "execution_count": 9,
     "metadata": {},
     "output_type": "execute_result"
    }
   ],
   "source": [
    "np.mean(lmbda_grad,0)"
   ]
  },
  {
   "cell_type": "code",
   "execution_count": 10,
   "metadata": {},
   "outputs": [
    {
     "data": {
      "text/plain": [
       "array([[[ 9.14985109,  4.88350319],\n",
       "        [ 5.96936828,  2.92855959],\n",
       "        [ 5.67016379,  8.01615177]],\n",
       "\n",
       "       [[54.23762924, 29.81007841],\n",
       "        [48.58409888, 21.9025233 ],\n",
       "        [37.01824535, 54.72222488]]])"
      ]
     },
     "execution_count": 10,
     "metadata": {},
     "output_type": "execute_result"
    }
   ],
   "source": [
    "np.var(lmbda_grad,0)"
   ]
  },
  {
   "cell_type": "code",
   "execution_count": 17,
   "metadata": {},
   "outputs": [
    {
     "data": {
      "text/plain": [
       "array([[5.9, 6.1],\n",
       "       [8.1, 7.5],\n",
       "       [6.5, 6.8]])"
      ]
     },
     "execution_count": 17,
     "metadata": {},
     "output_type": "execute_result"
    }
   ],
   "source": [
    "np.round(np.var(lmbda_grad,0)[1]/np.var(lmbda_grad,0)[0],1)"
   ]
  },
  {
   "cell_type": "code",
   "execution_count": 12,
   "metadata": {},
   "outputs": [
    {
     "data": {
      "image/png": "[encoded data removed]",
      "text/plain": [
       "<Figure size 288x216 with 1 Axes>"
      ]
     },
     "metadata": {},
     "output_type": "display_data"
    }
   ],
   "source": [
    "fig = plt.rcParams['figure.figsize'] = (4, 3)\n",
    "plt.hist(logNC[:,0], bins=25, alpha=0.5, color=\"red\")\n",
    "plt.hist(logNC[:,1], bins=25, alpha=0.5, color=\"blue\")\n",
    "plt.grid(True);"
   ]
  },
  {
   "cell_type": "code",
   "execution_count": 13,
   "metadata": {},
   "outputs": [
    {
     "data": {
      "image/png": "[encoded data removed]",
      "text/plain": [
       "<Figure size 720x180 with 3 Axes>"
      ]
     },
     "metadata": {},
     "output_type": "display_data"
    }
   ],
   "source": [
    "fig = plt.rcParams['figure.figsize'] = (10, 2.5)\n",
    "plt.subplot(131)\n",
    "plt.hist(c_grad[:,0], bins=25, alpha=0.5, color=\"red\")\n",
    "plt.hist(c_grad[:,1], bins=25, alpha=0.5, color=\"blue\")\n",
    "plt.grid(True)\n",
    "plt.subplot(132)\n",
    "plt.hist(phi_grad[:,0], bins=25, alpha=0.5, color=\"red\")\n",
    "plt.hist(phi_grad[:,1], bins=25, alpha=0.5, color=\"blue\")\n",
    "plt.grid(True)\n",
    "plt.subplot(133)\n",
    "plt.hist(logsigmasq_grad[:,0], bins=25, alpha=0.5, color=\"red\")\n",
    "plt.hist(logsigmasq_grad[:,1], bins=25, alpha=0.5, color=\"blue\")\n",
    "plt.grid(True)"
   ]
  },
  {
   "cell_type": "code",
   "execution_count": 14,
   "metadata": {
    "scrolled": true
   },
   "outputs": [
    {
     "data": {
      "image/png": "[encoded data removed]",
      "text/plain": [
       "<Figure size 720x360 with 6 Axes>"
      ]
     },
     "metadata": {},
     "output_type": "display_data"
    }
   ],
   "source": [
    "fig = plt.rcParams['figure.figsize'] = (10, 5)\n",
    "for k in range(K) :\n",
    "    for j in range(J) :\n",
    "        idx = k*J + j + 1\n",
    "        plt.subplot(K,J,idx)\n",
    "        plt.hist(lmbda_grad[:,0,j,k], bins=25, alpha=0.5, color=\"red\")\n",
    "        plt.hist(lmbda_grad[:,1,j,k], bins=25, alpha=0.5, color=\"blue\")\n",
    "        plt.grid(True)"
   ]
  },
  {
   "cell_type": "code",
   "execution_count": null,
   "metadata": {
    "collapsed": true
   },
   "outputs": [],
   "source": []
  },
  {
   "cell_type": "code",
   "execution_count": null,
   "metadata": {
    "collapsed": true
   },
   "outputs": [],
   "source": []
  }
 ],
 "metadata": {
  "kernelspec": {
   "display_name": "Python 3",
   "language": "python",
   "name": "python3"
  },
  "language_info": {
   "codemirror_mode": {
    "name": "ipython",
    "version": 3
   },
   "file_extension": ".py",
   "mimetype": "text/x-python",
   "name": "python",
   "nbconvert_exporter": "python",
   "pygments_lexer": "ipython3",
   "version": "3.6.2"
  }
 },
 "nbformat": 4,
 "nbformat_minor": 2
}
