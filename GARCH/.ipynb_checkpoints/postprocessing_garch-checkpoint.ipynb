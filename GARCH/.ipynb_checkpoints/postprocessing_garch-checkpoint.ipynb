{
 "cells": [
  {
   "cell_type": "code",
   "execution_count": 17,
   "metadata": {
    "collapsed": true
   },
   "outputs": [],
   "source": [
    "# Calling libraries:\n",
    "from __future__ import division\n",
    "%matplotlib inline\n",
    "import numpy as np, time, matplotlib.pyplot as plt, math, pandas, numpy.random as npr, pystan as ps, pickle\n",
    "from pylab import plot, show, legend\n",
    "from functions import *"
   ]
  },
  {
   "cell_type": "code",
   "execution_count": 18,
   "metadata": {
    "collapsed": true
   },
   "outputs": [],
   "source": [
    "file = open(\"/xtmp/DC-BATS_data/garch/full_mcmc.pkl\", \"rb\")\n",
    "trace_full = pickle.load(file)"
   ]
  },
  {
   "cell_type": "code",
   "execution_count": 27,
   "metadata": {},
   "outputs": [],
   "source": [
    "m = 10\n",
    "n_mcmc, p = np.shape(trace_full['beta'])\n",
    "q = np.shape(trace_full['alpha'])[1]\n",
    "d = np.shape(trace_full['b'])[1]\n",
    "\n",
    "beta_sample = np.zeros((m,n_mcmc,p))\n",
    "alpha_sample = np.zeros((m,n_mcmc,q))\n",
    "b_sample = np.zeros((m,n_mcmc,d))\n",
    "omega_sample = np.zeros((m,n_mcmc))\n",
    "\n",
    "beta_mle = np.zeros((m,p))\n",
    "alpha_mle = np.zeros((m,q))\n",
    "b_mle = np.zeros((m,d))\n",
    "omega_mle = np.zeros(m)\n",
    "\n",
    "for i in range(m) :\n",
    "    file = open(\"/xtmp/DC-BATS_data/garch/mcmc_wb_chunk\"+str(i+1)+\".pkl\", \"rb\")\n",
    "    trace_dc = pickle.load(file)\n",
    "    beta_sample[i] = trace_dc['beta']\n",
    "    alpha_sample[i] = trace_dc['alpha']\n",
    "    b_sample[i] = trace_dc['b']\n",
    "    omega_sample[i] = trace_dc['omega']\n",
    "    \n",
    "    file = open(\"/xtmp/DC-BATS_data/garch/mle_chunk\"+str(i+1)+\".pkl\", \"rb\")\n",
    "    mle_dc = pickle.load(file)\n",
    "    beta_mle[i] = mle_dc['beta']\n",
    "    alpha_mle[i] = mle_dc['alpha']\n",
    "    b_mle[i] = mle_dc['b']\n",
    "    omega_mle[i] = mle_dc['omega']    "
   ]
  },
  {
   "cell_type": "code",
   "execution_count": 28,
   "metadata": {},
   "outputs": [
    {
     "name": "stderr",
     "output_type": "stream",
     "text": [
      "100%|██████████| 5000/5000 [00:00<00:00, 37043.91it/s]\n",
      "100%|██████████| 5000/5000 [00:00<00:00, 38357.74it/s]\n",
      "100%|██████████| 5000/5000 [00:00<00:00, 24767.98it/s]\n"
     ]
    },
    {
     "ename": "ValueError",
     "evalue": "not enough values to unpack (expected 3, got 2)",
     "output_type": "error",
     "traceback": [
      "\u001b[0;31m---------------------------------------------------------------------------\u001b[0m",
      "\u001b[0;31mValueError\u001b[0m                                Traceback (most recent call last)",
      "\u001b[0;32m<ipython-input-28-63531e6a3242>\u001b[0m in \u001b[0;36m<module>\u001b[0;34m()\u001b[0m\n\u001b[1;32m      2\u001b[0m \u001b[0malpha_dpMC\u001b[0m \u001b[0;34m=\u001b[0m \u001b[0mdouble_parallel_MC\u001b[0m\u001b[0;34m(\u001b[0m\u001b[0malpha_sample\u001b[0m\u001b[0;34m,\u001b[0m \u001b[0malpha_mle\u001b[0m\u001b[0;34m)\u001b[0m\u001b[0;34m\u001b[0m\u001b[0m\n\u001b[1;32m      3\u001b[0m \u001b[0mb_dpMC\u001b[0m \u001b[0;34m=\u001b[0m \u001b[0mdouble_parallel_MC\u001b[0m\u001b[0;34m(\u001b[0m\u001b[0mb_sample\u001b[0m\u001b[0;34m,\u001b[0m \u001b[0mb_mle\u001b[0m\u001b[0;34m)\u001b[0m\u001b[0;34m\u001b[0m\u001b[0m\n\u001b[0;32m----> 4\u001b[0;31m \u001b[0momega_dpMC\u001b[0m \u001b[0;34m=\u001b[0m \u001b[0mdouble_parallel_MC\u001b[0m\u001b[0;34m(\u001b[0m\u001b[0momega_sample\u001b[0m\u001b[0;34m,\u001b[0m \u001b[0momega_mle\u001b[0m\u001b[0;34m)\u001b[0m\u001b[0;34m\u001b[0m\u001b[0m\n\u001b[0m",
      "\u001b[0;32m~/Desktop/codes/DC-BATS/GARCH/functions.py\u001b[0m in \u001b[0;36mdouble_parallel_MC\u001b[0;34m(samples, mle)\u001b[0m\n\u001b[1;32m      5\u001b[0m \u001b[0;34m\u001b[0m\u001b[0m\n\u001b[1;32m      6\u001b[0m \u001b[0;32mdef\u001b[0m \u001b[0mdouble_parallel_MC\u001b[0m\u001b[0;34m(\u001b[0m\u001b[0msamples\u001b[0m\u001b[0;34m,\u001b[0m \u001b[0mmle\u001b[0m\u001b[0;34m)\u001b[0m \u001b[0;34m:\u001b[0m\u001b[0;34m\u001b[0m\u001b[0m\n\u001b[0;32m----> 7\u001b[0;31m     \u001b[0mm\u001b[0m\u001b[0;34m,\u001b[0m \u001b[0mn_mcmc\u001b[0m\u001b[0;34m,\u001b[0m \u001b[0mp\u001b[0m \u001b[0;34m=\u001b[0m \u001b[0mnp\u001b[0m\u001b[0;34m.\u001b[0m\u001b[0mshape\u001b[0m\u001b[0;34m(\u001b[0m\u001b[0msamples\u001b[0m\u001b[0;34m)\u001b[0m\u001b[0;34m\u001b[0m\u001b[0m\n\u001b[0m\u001b[1;32m      8\u001b[0m     \u001b[0;32massert\u001b[0m \u001b[0mm\u001b[0m\u001b[0;34m,\u001b[0m \u001b[0mp\u001b[0m \u001b[0;34m==\u001b[0m \u001b[0mnp\u001b[0m\u001b[0;34m.\u001b[0m\u001b[0mshape\u001b[0m\u001b[0;34m(\u001b[0m\u001b[0mmle\u001b[0m\u001b[0;34m)\u001b[0m\u001b[0;34m\u001b[0m\u001b[0m\n\u001b[1;32m      9\u001b[0m \u001b[0;34m\u001b[0m\u001b[0m\n",
      "\u001b[0;31mValueError\u001b[0m: not enough values to unpack (expected 3, got 2)"
     ]
    }
   ],
   "source": [
    "beta_dpMC = double_parallel_MC(beta_sample, beta_mle)\n",
    "alpha_dpMC = double_parallel_MC(alpha_sample, alpha_mle)\n",
    "b_dpMC = double_parallel_MC(b_sample, b_mle)\n",
    "omega_dpMC = double_parallel_MC(np.reshape(omega_sample,[*np.shape(omega_sample),1]), omega_mle)"
   ]
  },
  {
   "cell_type": "code",
   "execution_count": 21,
   "metadata": {},
   "outputs": [
    {
     "data": {
      "text/plain": [
       "(10, 5000, 5)"
      ]
     },
     "execution_count": 21,
     "metadata": {},
     "output_type": "execute_result"
    }
   ],
   "source": [
    "np.shape(beta_dpMC)"
   ]
  },
  {
   "cell_type": "code",
   "execution_count": 22,
   "metadata": {},
   "outputs": [],
   "source": [
    "beta_ci_dpMC = np.percentile(np.reshape(beta_dpMC, [np.prod(np.shape(beta_dpMC)[0:2]),np.shape(beta_dpMC)[-1]]), \n",
    "                              q=[2.5,97.5], axis=0)\n",
    "alpha_ci_dpMC = np.percentile(np.reshape(alpha_dpMC, [np.prod(np.shape(alpha_dpMC)[0:2]),np.shape(alpha_dpMC)[-1]]), \n",
    "                              q=[2.5,97.5], axis=0)\n",
    "b_ci_dpMC = np.percentile(np.reshape(b_dpMC, [np.prod(np.shape(b_dpMC)[0:2]),np.shape(b_dpMC)[-1]]), \n",
    "                          q=[2.5,97.5], axis=0)"
   ]
  },
  {
   "cell_type": "code",
   "execution_count": 23,
   "metadata": {
    "collapsed": true
   },
   "outputs": [],
   "source": [
    "file = open(\"/xtmp/DC-BATS_data/garch/full_mcmc.pkl\", \"rb\")\n",
    "trace = pickle.load(file)\n",
    "\n",
    "b_ci_full = np.percentile(trace['b'],axis=0,q=[2.5,97.5])\n",
    "beta_ci_full = np.percentile(trace['beta'],axis=0,q=[2.5,97.5])\n",
    "alpha_ci_full = np.percentile(trace['alpha'],axis=0,q=[2.5,97.5])\n",
    "omega_ci_full = np.percentile(trace['omega'],axis=0,q=[2.5,97.5])\n",
    "\n",
    "b_ci_dc = np.zeros((2,d))\n",
    "beta_ci_dc = np.zeros((2,p))\n",
    "alpha_ci_dc = np.zeros((2,q))\n",
    "omega_ci_dc = np.zeros(2)\n",
    "for i in range(m) :\n",
    "    file = open(\"/xtmp/DC-BATS_data/garch/mcmc_wb_chunk\"+str(i+1)+\".pkl\", \"rb\")\n",
    "    trace = pickle.load(file)\n",
    "    b_ci_dc += np.percentile(trace['b'],axis=0,q=[2.5,97.5])/m\n",
    "    beta_ci_dc += np.percentile(trace['beta'],axis=0,q=[2.5,97.5])/m\n",
    "    alpha_ci_dc += np.percentile(trace['alpha'],axis=0,q=[2.5,97.5])/m\n",
    "    omega_ci_dc += np.percentile(trace['omega'],axis=0,q=[2.5,97.5])/m"
   ]
  },
  {
   "cell_type": "code",
   "execution_count": 24,
   "metadata": {},
   "outputs": [
    {
     "data": {
      "text/plain": [
       "<matplotlib.legend.Legend at 0x7fa5b401bf28>"
      ]
     },
     "execution_count": 24,
     "metadata": {},
     "output_type": "execute_result"
    },
    {
     "data": {
      "text/plain": [
       "<Figure size 1152x252 with 0 Axes>"
      ]
     },
     "metadata": {},
     "output_type": "display_data"
    },
    {
     "data": {
      "image/png": "[encoded data removed]",
      "text/plain": [
       "<Figure size 1152x252 with 4 Axes>"
      ]
     },
     "metadata": {},
     "output_type": "display_data"
    }
   ],
   "source": [
    "fig = plt.figure(figsize=(16,3.5))\n",
    "plt.rcParams['axes.grid'] = True\n",
    "f, (a0, a1, a2, a3) = plt.subplots(1, 4, gridspec_kw={'width_ratios': [d, p, q, 1]}, figsize=(16,3.5))\n",
    "\n",
    "# a0.plot(np.arange(1,d+1), b, \"ro\")\n",
    "for i in range(d) :\n",
    "    a0.plot([i+0.8,i+0.8], b_ci_dc[:,i], \"b-\")\n",
    "    a0.plot([i+1.2,i+1.2], b_ci_full[:,i], \"g-\")\n",
    "    a0.plot([i+1,i+1], b_ci_dpMC[:,i], \"r-\")\n",
    "a0.axis(xmin=0,xmax=d+1)\n",
    "\n",
    "# a1.plot(np.arange(1,p+1), beta, \"ro\")\n",
    "for i in range(p) :\n",
    "    a1.plot([i+0.8,i+0.8], beta_ci_dc[:,i], \"b-\")\n",
    "    a1.plot([i+1.2,i+1.2], beta_ci_full[:,i], \"g-\")\n",
    "    a1.plot([i+1,i+1], beta_ci_dpMC[:,i], \"r-\")\n",
    "a1.axis(xmin=0,xmax=p+1)\n",
    "\n",
    "# a2.plot(np.arange(1,q+1), alpha, \"ro\")\n",
    "for i in range(q) :\n",
    "    a2.plot([i+0.8,i+0.8], alpha_ci_dc[:,i], \"b-\")\n",
    "    a2.plot([i+1.2,i+1.2], alpha_ci_full[:,i], \"g-\")\n",
    "    a2.plot([i+1,i+1], alpha_ci_dpMC[:,i], \"r-\")\n",
    "a2.axis(xmin=0,xmax=q+1)\n",
    "\n",
    "# a3.plot(1, omega, \"ro\")\n",
    "a3.plot([0.8,0.8], omega_ci_dc, \"b-\", label=\"Divide-and-conquer\")\n",
    "a3.plot([1.2,1.2], omega_ci_full, \"g-\", label=\"MCMC on full data\")\n",
    "a3.axis(xmin=0,xmax=2)\n",
    "\n",
    "plt.text(x=-32, y=0.2, s=r\"$b$\", fontsize=13)\n",
    "plt.text(x=-15, y=0.2, s=r\"$\\beta$\", fontsize=13)\n",
    "plt.text(x=-5, y=0.2, s=r\"$\\alpha$\", fontsize=13)\n",
    "plt.text(x=0.6, y=0.2, s=r\"$\\omega$\", fontsize=13)\n",
    "plt.text(x=-25, y=0.21, s=r\"Credible intervals\", fontsize=14)\n",
    "plt.legend(ncol=2, loc=(-6,1.15))\n",
    "# f.savefig('garch_CI.pdf', bbox_inches='tight', dpi=2000)"
   ]
  },
  {
   "cell_type": "code",
   "execution_count": null,
   "metadata": {
    "collapsed": true
   },
   "outputs": [],
   "source": []
  }
 ],
 "metadata": {
  "kernelspec": {
   "display_name": "Python 3",
   "language": "python",
   "name": "python3"
  },
  "language_info": {
   "codemirror_mode": {
    "name": "ipython",
    "version": 3
   },
   "file_extension": ".py",
   "mimetype": "text/x-python",
   "name": "python",
   "nbconvert_exporter": "python",
   "pygments_lexer": "ipython3",
   "version": "3.6.2"
  }
 },
 "nbformat": 4,
 "nbformat_minor": 2
}
