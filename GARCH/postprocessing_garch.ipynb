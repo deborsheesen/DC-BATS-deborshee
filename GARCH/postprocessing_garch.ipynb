{
 "cells": [
  {
   "cell_type": "code",
   "execution_count": 1,
   "metadata": {
    "collapsed": true
   },
   "outputs": [],
   "source": [
    "# Calling libraries:\n",
    "from __future__ import division\n",
    "%matplotlib inline\n",
    "import numpy as np, time, matplotlib.pyplot as plt, math, pandas, numpy.random as npr, pystan as ps, pickle\n",
    "from pylab import plot, show, legend\n",
    "from functions_garch import *"
   ]
  },
  {
   "cell_type": "code",
   "execution_count": 2,
   "metadata": {
    "collapsed": true
   },
   "outputs": [],
   "source": [
    "file = open(\"/xtmp/DC-BATS_data/garch/full_mcmc.pkl\", \"rb\")\n",
    "trace_full = pickle.load(file)"
   ]
  },
  {
   "cell_type": "code",
   "execution_count": 7,
   "metadata": {},
   "outputs": [],
   "source": [
    "m = 10\n",
    "n_mcmc, p = np.shape(trace_full['beta'])\n",
    "q = np.shape(trace_full['alpha'])[1]\n",
    "d = np.shape(trace_full['b'])[1]\n",
    "\n",
    "samples = np.zeros((m,n_mcmc,p+q+d+1))\n",
    "mle = np.zeros((m,p+q+d+1))\n",
    "for i in range(m) :\n",
    "    file = open(\"/xtmp/DC-BATS_data/garch/mcmc_wb_chunk\"+str(i+1)+\".pkl\", \"rb\")\n",
    "    trace_dc = pickle.load(file)\n",
    "    samples[i,:,0:p] = trace_dc['beta']\n",
    "    samples[i,:,p:(p+q)] = trace_dc['alpha']\n",
    "    samples[i,:,(p+q):(p+q+d)] = trace_dc['b']\n",
    "    samples[i,:,(p+q+d):(p+q+d+1)] = np.reshape(trace_dc['omega'], [n_mcmc,1])\n",
    "    \n",
    "    file = open(\"/xtmp/DC-BATS_data/garch/mle_chunk\"+str(i+1)+\".pkl\", \"rb\")\n",
    "    mle_dc = pickle.load(file)\n",
    "    mle[i,0:p] = mle_dc['beta']\n",
    "    mle[i,p:(p+q)] = mle_dc['alpha']\n",
    "    mle[i,(p+q):(p+q+d)] = mle_dc['b']\n",
    "    mle[i,(p+q+d):(p+q+d+1)] = mle_dc['omega']"
   ]
  },
  {
   "cell_type": "code",
   "execution_count": 8,
   "metadata": {},
   "outputs": [
    {
     "name": "stderr",
     "output_type": "stream",
     "text": [
      "100%|██████████| 5000/5000 [00:00<00:00, 20943.58it/s]\n"
     ]
    }
   ],
   "source": [
    "samples_combined = double_parallel_MC(samples, mle)\n",
    "dpMC_CI = np.percentile(np.reshape(samples_combined, [np.prod(np.shape(samples_combined)[0:2]),np.shape(samples_combined)[-1]]), \n",
    "                        q=[2.5,97.5], axis=0)\n",
    "beta_ci_dpMC = dpMC_CI[:,0:p]\n",
    "alpha_ci_dpMC = dpMC_CI[:,p:(p+q)]\n",
    "b_ci_dpMC = dpMC_CI[:,(p+q):(p+q+d)]\n",
    "omega_ci_dpMC = dpMC_CI[:,(p+q+d):(p+q+d+1)]"
   ]
  },
  {
   "cell_type": "code",
   "execution_count": 9,
   "metadata": {
    "collapsed": true
   },
   "outputs": [],
   "source": [
    "file = open(\"/xtmp/DC-BATS_data/garch/full_mcmc.pkl\", \"rb\")\n",
    "trace = pickle.load(file)\n",
    "\n",
    "b_ci_full = np.percentile(trace['b'],axis=0,q=[2.5,97.5])\n",
    "beta_ci_full = np.percentile(trace['beta'],axis=0,q=[2.5,97.5])\n",
    "alpha_ci_full = np.percentile(trace['alpha'],axis=0,q=[2.5,97.5])\n",
    "omega_ci_full = np.percentile(trace['omega'],axis=0,q=[2.5,97.5])\n",
    "\n",
    "b_ci_dc = np.zeros((2,d))\n",
    "beta_ci_dc = np.zeros((2,p))\n",
    "alpha_ci_dc = np.zeros((2,q))\n",
    "omega_ci_dc = np.zeros(2)\n",
    "for i in range(m) :\n",
    "    file = open(\"/xtmp/DC-BATS_data/garch/mcmc_wb_chunk\"+str(i+1)+\".pkl\", \"rb\")\n",
    "    trace = pickle.load(file)\n",
    "    b_ci_dc += np.percentile(trace['b'],axis=0,q=[2.5,97.5])/m\n",
    "    beta_ci_dc += np.percentile(trace['beta'],axis=0,q=[2.5,97.5])/m\n",
    "    alpha_ci_dc += np.percentile(trace['alpha'],axis=0,q=[2.5,97.5])/m\n",
    "    omega_ci_dc += np.percentile(trace['omega'],axis=0,q=[2.5,97.5])/m"
   ]
  },
  {
   "cell_type": "code",
   "execution_count": 11,
   "metadata": {},
   "outputs": [
    {
     "data": {
      "image/png": "[encoded data removed]",
      "text/plain": [
       "<Figure size 1152x216 with 4 Axes>"
      ]
     },
     "metadata": {},
     "output_type": "display_data"
    }
   ],
   "source": [
    "plt.rcParams['axes.grid'] = True\n",
    "f, (a0, a1, a2, a3) = plt.subplots(1, 4, gridspec_kw={'width_ratios': [d, p, q, 1]}, figsize=(16,3))\n",
    "\n",
    "# a0.plot(np.arange(1,d+1), b, \"ro\")\n",
    "for i in range(d) :\n",
    "    a0.plot([i+0.8,i+0.8], b_ci_dc[:,i], \"b-\")\n",
    "    a0.plot([i+1.2,i+1.2], b_ci_full[:,i], \"g-\")\n",
    "    a0.plot([i+1,i+1], b_ci_dpMC[:,i], \"r-\")\n",
    "a0.axis(xmin=0,xmax=d+1)\n",
    "\n",
    "# a1.plot(np.arange(1,p+1), beta, \"ro\")\n",
    "for i in range(p) :\n",
    "    a1.plot([i+0.8,i+0.8], beta_ci_dc[:,i], \"b-\")\n",
    "    a1.plot([i+1.2,i+1.2], beta_ci_full[:,i], \"g-\")\n",
    "    a1.plot([i+1,i+1], beta_ci_dpMC[:,i], \"r-\")\n",
    "a1.axis(xmin=0,xmax=p+1)\n",
    "\n",
    "# a2.plot(np.arange(1,q+1), alpha, \"ro\")\n",
    "for i in range(q) :\n",
    "    a2.plot([i+0.8,i+0.8], alpha_ci_dc[:,i], \"b-\")\n",
    "    a2.plot([i+1.2,i+1.2], alpha_ci_full[:,i], \"g-\")\n",
    "    a2.plot([i+1,i+1], alpha_ci_dpMC[:,i], \"r-\")\n",
    "a2.axis(xmin=0,xmax=q+1)\n",
    "\n",
    "# a3.plot(1, omega, \"ro\")\n",
    "a3.plot([0.8,0.8], omega_ci_dc, \"b-\", label=\"Divide-and-conquer\")\n",
    "a3.plot([1.2,1.2], omega_ci_full, \"g-\", label=\"MCMC on full data\")\n",
    "a3.plot([1,1], omega_ci_dpMC, \"r-\", label=\"double parallel MC\")\n",
    "a3.axis(xmin=0,xmax=2)\n",
    "\n",
    "plt.text(x=-32.5, y=1.2, s=r\"$b$\", fontsize=14)\n",
    "plt.text(x=-15, y=1.2, s=r\"$\\beta$\", fontsize=14)\n",
    "plt.text(x=-5, y=1.2, s=r\"$\\alpha$\", fontsize=14)\n",
    "plt.text(x=0.6, y=1.2, s=r\"$\\omega$\", fontsize=14)\n",
    "plt.text(x=-25, y=1.3, s=r\"Credible intervals\", fontsize=15)\n",
    "plt.legend(ncol=3, loc=(-15,1.25))\n",
    "f.savefig('garch_CI.pdf', bbox_inches='tight', dpi=2000)"
   ]
  },
  {
   "cell_type": "code",
   "execution_count": null,
   "metadata": {
    "collapsed": true
   },
   "outputs": [],
   "source": []
  }
 ],
 "metadata": {
  "kernelspec": {
   "display_name": "Python 3",
   "language": "python",
   "name": "python3"
  },
  "language_info": {
   "codemirror_mode": {
    "name": "ipython",
    "version": 3
   },
   "file_extension": ".py",
   "mimetype": "text/x-python",
   "name": "python",
   "nbconvert_exporter": "python",
   "pygments_lexer": "ipython3",
   "version": "3.6.2"
  }
 },
 "nbformat": 4,
 "nbformat_minor": 2
}
