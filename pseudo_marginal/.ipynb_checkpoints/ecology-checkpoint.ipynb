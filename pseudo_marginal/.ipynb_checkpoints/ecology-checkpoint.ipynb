{
 "cells": [
  {
   "cell_type": "code",
   "execution_count": 1,
   "metadata": {
    "collapsed": true
   },
   "outputs": [],
   "source": [
    "# Calling libraries:\n",
    "from __future__ import division\n",
    "%matplotlib inline\n",
    "import numpy as np, time, matplotlib.pyplot as plt, math, pandas, numpy.random as npr, multiprocessing as mp\n",
    "from pylab import plot, show, legend\n",
    "from time import time\n",
    "from scipy.stats import *\n",
    "from tqdm import trange\n",
    "from ecology_functions import *"
   ]
  },
  {
   "cell_type": "code",
   "execution_count": 2,
   "metadata": {
    "collapsed": true
   },
   "outputs": [],
   "source": [
    "T = 100\n",
    "n_locations = 3  # number of locations\n",
    "n_species = 3 # number of species\n",
    "n_factors = 2  # number of latent factors"
   ]
  },
  {
   "cell_type": "code",
   "execution_count": 3,
   "metadata": {
    "collapsed": true
   },
   "outputs": [],
   "source": [
    "lmbda = npr.randn(n_species,n_factors)\n",
    "alpha = 0\n",
    "c = 0\n",
    "phi = 0.1\n",
    "logsigmasq = 0\n",
    "x_0 = np.zeros((n_locations,n_factors))\n",
    "\n",
    "theta = [alpha, lmbda, c, phi, logsigmasq]"
   ]
  },
  {
   "cell_type": "code",
   "execution_count": 4,
   "metadata": {},
   "outputs": [],
   "source": [
    "Y, X = simulate_data(x_0, T, n_species, theta)"
   ]
  },
  {
   "cell_type": "code",
   "execution_count": 5,
   "metadata": {},
   "outputs": [
    {
     "name": "stdout",
     "output_type": "stream",
     "text": [
      "330.6483966572092\n"
     ]
    }
   ],
   "source": [
    "n_particles = 1_000\n",
    "logNC = bootstrap_PF(npr.randn(n_locations,n_factors), n_particles, theta, Y)\n",
    "print(logNC)"
   ]
  },
  {
   "cell_type": "raw",
   "metadata": {},
   "source": [
    "j = 1\n",
    "k = 0\n",
    "ci = np.percentile(particles[1:,j,k], axis=1, q=[2.5,97.5])\n",
    "plt.rcParams['figure.figsize'] = (16, 3.5)\n",
    "plt.plot(1+np.arange(T), X[1:,j,k], 'bo-', markersize=3, lw=0.5)\n",
    "plt.fill_between(1+np.arange(T), ci[0], ci[1], color='red', alpha=.3)\n",
    "plt.xlim(0,T+1)\n",
    "plt.grid(True)"
   ]
  },
  {
   "cell_type": "code",
   "execution_count": 6,
   "metadata": {
    "collapsed": true
   },
   "outputs": [],
   "source": [
    "n_particles = T\n",
    "n_mcmc = 5_000\n",
    "eps = 2e-3\n",
    "scale = [eps, eps*np.ones(np.shape(lmbda)), eps, eps, eps]\n",
    "theta_0 = theta"
   ]
  },
  {
   "cell_type": "code",
   "execution_count": 7,
   "metadata": {},
   "outputs": [
    {
     "name": "stderr",
     "output_type": "stream",
     "text": [
      "/home/postdoc/dsen/.local/lib/python3.6/site-packages/numpy/lib/function_base.py:792: VisibleDeprecationWarning: Creating an ndarray from ragged nested sequences (which is a list-or-tuple of lists-or-tuples-or ndarrays with different lengths or shapes) is deprecated. If you meant to do this, you must specify 'dtype=object' when creating the ndarray\n",
      "  return array(a, order=order, subok=subok, copy=True)\n",
      "100%|██████████| 5000/5000 [01:15<00:00, 66.18it/s]"
     ]
    },
    {
     "name": "stdout",
     "output_type": "stream",
     "text": [
      "8.82 % acceptance rate\n"
     ]
    },
    {
     "name": "stderr",
     "output_type": "stream",
     "text": [
      "\n"
     ]
    }
   ],
   "source": [
    "theta_chain, scale = pMCMC(x_0, Y, theta_0, n_particles, n_mcmc, scale, power=1, adapt=False)"
   ]
  },
  {
   "cell_type": "code",
   "execution_count": 23,
   "metadata": {
    "scrolled": true
   },
   "outputs": [
    {
     "data": {
      "image/png": "[encoded data removed]",
      "text/plain": [
       "<Figure size 432x288 with 1 Axes>"
      ]
     },
     "metadata": {},
     "output_type": "display_data"
    }
   ],
   "source": [
    "plt.plot(theta_chain[3])\n",
    "plt.grid(True)"
   ]
  },
  {
   "cell_type": "code",
   "execution_count": 24,
   "metadata": {},
   "outputs": [
    {
     "data": {
      "text/plain": [
       "[0.03518994422474691, array([[0.2091643 , 1.49297066],\n",
       "        [1.51529553, 0.0821273 ],\n",
       "        [0.70723767, 0.59256426]]), 25.550339114016605, 0.2570696988035494, 2.280171746163676]"
      ]
     },
     "execution_count": 24,
     "metadata": {},
     "output_type": "execute_result"
    }
   ],
   "source": [
    "scale"
   ]
  },
  {
   "cell_type": "code",
   "execution_count": 25,
   "metadata": {},
   "outputs": [
    {
     "data": {
      "text/plain": [
       "[0, array([[-0.87545877, -0.80766281],\n",
       "        [-1.46257812, -0.03173571],\n",
       "        [-1.82637941, -2.1117889 ]]), 0, 0.1, 0]"
      ]
     },
     "execution_count": 25,
     "metadata": {},
     "output_type": "execute_result"
    }
   ],
   "source": [
    "theta"
   ]
  },
  {
   "cell_type": "code",
   "execution_count": null,
   "metadata": {
    "collapsed": true
   },
   "outputs": [],
   "source": []
  }
 ],
 "metadata": {
  "kernelspec": {
   "display_name": "Python 3",
   "language": "python",
   "name": "python3"
  },
  "language_info": {
   "codemirror_mode": {
    "name": "ipython",
    "version": 3
   },
   "file_extension": ".py",
   "mimetype": "text/x-python",
   "name": "python",
   "nbconvert_exporter": "python",
   "pygments_lexer": "ipython3",
   "version": "3.6.2"
  }
 },
 "nbformat": 4,
 "nbformat_minor": 2
}
