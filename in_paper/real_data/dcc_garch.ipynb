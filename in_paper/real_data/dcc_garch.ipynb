{
 "cells": [
  {
   "cell_type": "code",
   "execution_count": 1,
   "metadata": {
    "collapsed": true
   },
   "outputs": [],
   "source": [
    "# Calling libraries:\n",
    "from __future__ import division\n",
    "%matplotlib inline\n",
    "import numpy as np, time, matplotlib.pyplot as plt, numpy.random as npr, pystan as ps, pickle, pandas\n",
    "from pylab import plot, show, legend\n",
    "from time import time\n",
    "from scipy.stats import *\n",
    "from tqdm import trange"
   ]
  },
  {
   "cell_type": "code",
   "execution_count": 2,
   "metadata": {},
   "outputs": [
    {
     "name": "stderr",
     "output_type": "stream",
     "text": [
      "INFO:pystan:COMPILING THE C++ CODE FOR MODEL anon_model_a71eb389c5b594fa2df29531bd697d94 NOW.\n"
     ]
    }
   ],
   "source": [
    "sm = ps.StanModel(file=\"dcc_garch.stan\")"
   ]
  },
  {
   "cell_type": "code",
   "execution_count": 3,
   "metadata": {
    "collapsed": true
   },
   "outputs": [],
   "source": [
    "Y = pandas.read_csv(\"la_pm_log_positive.csv\").values\n",
    "T, dim = np.shape(Y)"
   ]
  },
  {
   "cell_type": "code",
   "execution_count": 4,
   "metadata": {
    "collapsed": true
   },
   "outputs": [],
   "source": [
    "sigma1_0 = 1\n",
    "sigma2_0 = 1\n",
    "nu = 4"
   ]
  },
  {
   "cell_type": "markdown",
   "metadata": {},
   "source": [
    "### Divide-and-conquer:"
   ]
  },
  {
   "cell_type": "code",
   "execution_count": 5,
   "metadata": {
    "collapsed": true
   },
   "outputs": [],
   "source": [
    "K = 10\n",
    "tstarts = np.arange(K).astype(int)\n",
    "tends = 1 + tstarts\n",
    "tstarts *= int(T/K)\n",
    "tends *= int(T/K)"
   ]
  },
  {
   "cell_type": "code",
   "execution_count": null,
   "metadata": {},
   "outputs": [
    {
     "name": "stderr",
     "output_type": "stream",
     "text": [
      "WARNING:pystan:965 of 5000 iterations ended with a divergence (19.3 %).\n",
      "WARNING:pystan:Try running with adapt_delta larger than 0.8 to remove the divergences.\n"
     ]
    },
    {
     "name": "stdout",
     "output_type": "stream",
     "text": [
      "2.3 minutes to run\n",
      "2.65 minutes to run\n",
      "1.71 minutes to run\n",
      "3.84 minutes to run\n",
      "3.38 minutes to run\n"
     ]
    },
    {
     "name": "stderr",
     "output_type": "stream",
     "text": [
      "WARNING:pystan:152 of 5000 iterations saturated the maximum tree depth of 10 (3.04 %)\n",
      "WARNING:pystan:Run again with max_treedepth larger than 10 to avoid saturation\n"
     ]
    },
    {
     "name": "stdout",
     "output_type": "stream",
     "text": [
      "11.7 minutes to run\n",
      "2.27 minutes to run\n"
     ]
    },
    {
     "name": "stderr",
     "output_type": "stream",
     "text": [
      "WARNING:pystan:1472 of 5000 iterations ended with a divergence (29.4 %).\n",
      "WARNING:pystan:Try running with adapt_delta larger than 0.8 to remove the divergences.\n"
     ]
    },
    {
     "name": "stdout",
     "output_type": "stream",
     "text": [
      "4.29 minutes to run\n",
      "4.17 minutes to run\n",
      "1.59 minutes to run\n"
     ]
    }
   ],
   "source": [
    "n_chains = 10\n",
    "for k in range(K) :\n",
    "    start = time()\n",
    "    tstart, tend = tstarts[k], tends[k]\n",
    "    data = dict(T=tend-tstart, dim=dim, nu=nu, Y=Y[tstart:tend], sigma1_0=sigma1_0, sigma2_0=sigma2_0, power=K)\n",
    "    fit = sm.sampling(data=data, thin=1, n_jobs=min(10,n_chains), chains=n_chains, init=\"random\", iter=1_000)\n",
    "    file = open(\"/xtmp/DC-BATS_data/real_data/dcc_garch_chunk\"+str(k+1)+\"_mcmc.pkl\", \"wb\")\n",
    "    pickle.dump(fit.extract(), file)\n",
    "    file.close()\n",
    "    print(round((time()-start)/60,2), \"minutes to run\")"
   ]
  },
  {
   "cell_type": "markdown",
   "metadata": {},
   "source": [
    "### MCMC on full data:"
   ]
  },
  {
   "cell_type": "code",
   "execution_count": 10,
   "metadata": {},
   "outputs": [
    {
     "name": "stderr",
     "output_type": "stream",
     "text": [
      "WARNING:pystan:42 of 5000 iterations ended with a divergence (0.84 %).\n",
      "WARNING:pystan:Try running with adapt_delta larger than 0.8 to remove the divergences.\n"
     ]
    },
    {
     "name": "stdout",
     "output_type": "stream",
     "text": [
      "23.82 minutes to run\n"
     ]
    }
   ],
   "source": [
    "start = time()\n",
    "data = dict(T=T, dim=dim, nu=nu, Y=Y, sigma1_0=sigma1_0, sigma2_0=sigma2_0, power=1)\n",
    "fit = sm.sampling(data=data, thin=1, n_jobs=min(10,n_chains), chains=n_chains, init=\"random\", iter=1_000)\n",
    "file = open(\"/xtmp/DC-BATS_data/real_data/dcc_garch_fulldata_mcmc.pkl\", \"wb\")\n",
    "pickle.dump(fit.extract(), file)\n",
    "file.close()\n",
    "print(round((time()-start)/60,2), \"minutes to run\")"
   ]
  },
  {
   "cell_type": "markdown",
   "metadata": {},
   "source": [
    "### Compare:"
   ]
  },
  {
   "cell_type": "code",
   "execution_count": 11,
   "metadata": {
    "collapsed": true
   },
   "outputs": [],
   "source": [
    "params = ['a1', 'a2', 'b1', 'b2', 'r', 'w1', 'w2', 'mu1', 'mu2']\n",
    "ci_full = np.zeros((2,len(params)))\n",
    "ci_dc = np.zeros((2,len(params)))\n",
    "\n",
    "for k in range(K) :\n",
    "    file = open(\"/xtmp/DC-BATS_data/real_data/dcc_garch_chunk\"+str(k+1)+\"_mcmc.pkl\", \"rb\")\n",
    "    trace = pickle.load(file)\n",
    "    for (i, param) in enumerate(params) :\n",
    "        ci_dc[:,i] += np.percentile(trace[param], q=[2.5,97.5])/K\n",
    "    file.close()\n",
    "\n",
    "file = open(\"/xtmp/DC-BATS_data/real_data/dcc_garch_fulldata_mcmc.pkl\", \"rb\")\n",
    "trace = pickle.load(file)\n",
    "for (i, param) in enumerate(params) :\n",
    "    ci_full[:,i] = np.percentile(trace[param], q=[2.5,97.5])\n",
    "file.close()"
   ]
  },
  {
   "cell_type": "code",
   "execution_count": 28,
   "metadata": {},
   "outputs": [
    {
     "data": {
      "text/plain": [
       "array([[5.11703299e-01, 6.50176340e-01, 6.20423826e-02, 8.59306659e-05,\n",
       "        2.57459930e-01, 1.21611575e-01, 2.00871265e-01, 3.11904062e+00,\n",
       "        1.94973925e+00],\n",
       "       [5.85367399e-01, 7.30133586e-01, 1.32131039e-01, 1.09041229e-02,\n",
       "        2.78448540e-01, 1.42075581e-01, 2.24454252e-01, 3.14439461e+00,\n",
       "        1.97900590e+00]])"
      ]
     },
     "execution_count": 28,
     "metadata": {},
     "output_type": "execute_result"
    }
   ],
   "source": [
    "ci_dc"
   ]
  },
  {
   "cell_type": "code",
   "execution_count": 29,
   "metadata": {},
   "outputs": [
    {
     "data": {
      "text/plain": [
       "array([[5.32926835e-01, 8.76283419e-01, 1.20831701e-01, 6.00019231e-05,\n",
       "        2.32319226e-01, 9.06966829e-02, 1.22579026e-01, 3.24929022e+00,\n",
       "        2.09534453e+00],\n",
       "       [6.19223816e-01, 9.76039186e-01, 2.11648382e-01, 7.45822725e-03,\n",
       "        2.53858338e-01, 1.10146544e-01, 1.40392496e-01, 3.27664423e+00,\n",
       "        2.12381878e+00]])"
      ]
     },
     "execution_count": 29,
     "metadata": {},
     "output_type": "execute_result"
    }
   ],
   "source": [
    "ci_full"
   ]
  },
  {
   "cell_type": "code",
   "execution_count": 22,
   "metadata": {},
   "outputs": [
    {
     "data": {
      "image/png": "[encoded data removed]",
      "text/plain": [
       "<Figure size 1080x216 with 1 Axes>"
      ]
     },
     "metadata": {},
     "output_type": "display_data"
    }
   ],
   "source": [
    "plt.rcParams['figure.figsize'] = (15, 3)\n",
    "for (i, param) in enumerate(params) :\n",
    "    plt.plot([i+0.9,i+0.9], np.log(ci_full[:,i]), \"b-\")\n",
    "    plt.plot([i+1.1,i+1.1], np.log(ci_dc[:,i]), \"r-\")\n",
    "plt.grid(True)\n",
    "plt.xticks(ticks=np.arange(1,len(params)), labels=params);"
   ]
  },
  {
   "cell_type": "code",
   "execution_count": null,
   "metadata": {
    "collapsed": true
   },
   "outputs": [],
   "source": []
  }
 ],
 "metadata": {
  "kernelspec": {
   "display_name": "Python 3",
   "language": "python",
   "name": "python3"
  },
  "language_info": {
   "codemirror_mode": {
    "name": "ipython",
    "version": 3
   },
   "file_extension": ".py",
   "mimetype": "text/x-python",
   "name": "python",
   "nbconvert_exporter": "python",
   "pygments_lexer": "ipython3",
   "version": "3.6.2"
  }
 },
 "nbformat": 4,
 "nbformat_minor": 2
}
