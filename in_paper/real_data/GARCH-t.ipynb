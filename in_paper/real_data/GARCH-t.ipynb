{
 "cells": [
  {
   "cell_type": "code",
   "execution_count": 1,
   "metadata": {
    "collapsed": true
   },
   "outputs": [],
   "source": [
    "# Calling libraries:\n",
    "from __future__ import division\n",
    "%matplotlib inline\n",
    "import numpy as np, time, matplotlib.pyplot as plt, numpy.random as npr, pystan as ps, pickle, pandas\n",
    "from pylab import plot, show, legend\n",
    "from time import time\n",
    "from scipy.stats import *\n",
    "from tqdm import trange"
   ]
  },
  {
   "cell_type": "code",
   "execution_count": 2,
   "metadata": {},
   "outputs": [
    {
     "name": "stderr",
     "output_type": "stream",
     "text": [
      "INFO:pystan:COMPILING THE C++ CODE FOR MODEL anon_model_c2d2b11f53ac18648f7d8b74054e190a NOW.\n"
     ]
    }
   ],
   "source": [
    "sm = ps.StanModel(file=\"garch_t.stan\")"
   ]
  },
  {
   "cell_type": "code",
   "execution_count": 6,
   "metadata": {
    "collapsed": true
   },
   "outputs": [],
   "source": [
    "dat = pandas.read_csv(\"la_pm_positive.csv\").values\n",
    "Y = dat[:,1]\n",
    "T = len(Y)"
   ]
  },
  {
   "cell_type": "code",
   "execution_count": 7,
   "metadata": {},
   "outputs": [],
   "source": [
    "p = 1\n",
    "q = 1\n",
    "r = np.maximum(p,q)\n",
    "nu = 4"
   ]
  },
  {
   "cell_type": "markdown",
   "metadata": {},
   "source": [
    "### Divide-and-conquer:"
   ]
  },
  {
   "cell_type": "code",
   "execution_count": 8,
   "metadata": {},
   "outputs": [],
   "source": [
    "K = 10\n",
    "tstarts = np.arange(K).astype(int)\n",
    "tends = 1 + tstarts\n",
    "tstarts *= int(T/K)\n",
    "tends *= int(T/K)"
   ]
  },
  {
   "cell_type": "code",
   "execution_count": 9,
   "metadata": {},
   "outputs": [
    {
     "name": "stdout",
     "output_type": "stream",
     "text": [
      "0.19 minutes to run\n",
      "0.21 minutes to run\n",
      "0.24 minutes to run\n"
     ]
    },
    {
     "name": "stderr",
     "output_type": "stream",
     "text": [
      "WARNING:pystan:2 of 5000 iterations ended with a divergence (0.04 %).\n",
      "WARNING:pystan:Try running with adapt_delta larger than 0.8 to remove the divergences.\n"
     ]
    },
    {
     "name": "stdout",
     "output_type": "stream",
     "text": [
      "0.22 minutes to run\n",
      "0.23 minutes to run\n",
      "0.22 minutes to run\n",
      "0.19 minutes to run\n"
     ]
    },
    {
     "name": "stderr",
     "output_type": "stream",
     "text": [
      "WARNING:pystan:1 of 5000 iterations ended with a divergence (0.02 %).\n",
      "WARNING:pystan:Try running with adapt_delta larger than 0.8 to remove the divergences.\n"
     ]
    },
    {
     "name": "stdout",
     "output_type": "stream",
     "text": [
      "0.23 minutes to run\n",
      "0.19 minutes to run\n",
      "0.22 minutes to run\n"
     ]
    }
   ],
   "source": [
    "n_chains = 10\n",
    "for k in range(K) :\n",
    "    start = time()\n",
    "    tstart, tend = tstarts[k], tends[k]\n",
    "    data = dict(T=tend-tstart, p=p, q=q, r=r, nu=nu, y=Y[tstart:tend], power=K)\n",
    "    fit = sm.sampling(data=data, thin=1, n_jobs=min(10,n_chains), chains=n_chains, init=\"random\", iter=1_000)\n",
    "    file = open(\"/xtmp/DC-BATS_data/real_data/garch_t_chunk\"+str(k+1)+\"_mcmc.pkl\", \"wb\")\n",
    "    pickle.dump(fit.extract(), file)\n",
    "    file.close()\n",
    "    mle = sm.optimizing(data=data)\n",
    "    file = open(\"/xtmp/DC-BATS_data/real_data/garch_t_chunk\"+str(k+1)+\"_mle.pkl\", \"wb\")\n",
    "    pickle.dump(fit.extract(), file)\n",
    "    file.close()\n",
    "    print(round((time()-start)/60,2), \"minutes to run\")"
   ]
  },
  {
   "cell_type": "markdown",
   "metadata": {},
   "source": [
    "### MCMC on full data:"
   ]
  },
  {
   "cell_type": "code",
   "execution_count": 12,
   "metadata": {},
   "outputs": [
    {
     "name": "stdout",
     "output_type": "stream",
     "text": [
      "3.32 minutes to run\n"
     ]
    }
   ],
   "source": [
    "start = time()\n",
    "data = dict(T=T, p=p, q=q, r=r, nu=nu, y=Y, power=1)\n",
    "fit = sm.sampling(data=data, thin=1, n_jobs=min(10,n_chains), chains=n_chains, init=\"random\", iter=1_000)\n",
    "file = open(\"/xtmp/DC-BATS_data/real_data/garch_t_fulldata_mcmc.pkl\", \"wb\")\n",
    "pickle.dump(fit.extract(), file)\n",
    "file.close()\n",
    "print(round((time()-start)/60,2), \"minutes to run\")"
   ]
  },
  {
   "cell_type": "code",
   "execution_count": null,
   "metadata": {
    "collapsed": true
   },
   "outputs": [],
   "source": []
  }
 ],
 "metadata": {
  "kernelspec": {
   "display_name": "Python 3",
   "language": "python",
   "name": "python3"
  }
 },
 "nbformat": 4,
 "nbformat_minor": 2
}
