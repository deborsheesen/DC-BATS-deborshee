{
 "cells": [
  {
   "cell_type": "code",
   "execution_count": 1,
   "metadata": {
    "collapsed": true
   },
   "outputs": [],
   "source": [
    "# Calling libraries:\n",
    "from __future__ import division\n",
    "%matplotlib inline\n",
    "import numpy as np, time, matplotlib.pyplot as plt, numpy.random as npr, pystan as ps, pickle\n",
    "from pylab import plot, show, legend\n",
    "from time import time\n",
    "from scipy.stats import *\n",
    "from tqdm import trange\n",
    "from functions import *"
   ]
  },
  {
   "cell_type": "code",
   "execution_count": 2,
   "metadata": {
    "collapsed": true
   },
   "outputs": [],
   "source": [
    "file = open(\"/xtmp/DC-BATS_data/binary_AR/full_mcmc.pkl\", \"rb\")\n",
    "trace_full = pickle.load(file)"
   ]
  },
  {
   "cell_type": "code",
   "execution_count": 34,
   "metadata": {
    "collapsed": true
   },
   "outputs": [],
   "source": [
    "m = 10\n",
    "n_mcmc, p = np.shape(trace_full['alpha'])\n",
    "q = np.shape(trace_full['b'])[1]\n",
    "\n",
    "alpha_sample = np.zeros((m,n_mcmc,p))\n",
    "b_sample = np.zeros((m,n_mcmc,q))\n",
    "c_sample = np.zeros((m,n_mcmc))\n",
    "alpha_mle = np.zeros((m,p))\n",
    "b_mle = np.zeros((m,q))\n",
    "c_mle = np.zeros(m)\n",
    "\n",
    "for i in range(m) :\n",
    "    file = open(\"/xtmp/DC-BATS_data/binary_AR/mcmc_wb_chunk\"+str(i+1)+\".pkl\", \"rb\")\n",
    "    trace_dc = pickle.load(file)\n",
    "    alpha_sample[i] = trace_dc['alpha']\n",
    "    b_sample[i] = trace_dc['b']\n",
    "    c_sample[i] = trace_dc['c']\n",
    "    \n",
    "    file = open(\"/xtmp/DC-BATS_data/binary_AR/mle_chunk\"+str(i+1)+\".pkl\", \"rb\")\n",
    "    mle_dc = pickle.load(file)\n",
    "    alpha_mle[i] = mle_dc['alpha']\n",
    "    b_mle[i] = mle_dc['b']\n",
    "    c_mle[i] = mle_dc['c']"
   ]
  },
  {
   "cell_type": "code",
   "execution_count": 35,
   "metadata": {},
   "outputs": [
    {
     "name": "stderr",
     "output_type": "stream",
     "text": [
      "100%|██████████| 5000/5000 [00:00<00:00, 13016.98it/s]\n",
      "100%|██████████| 5000/5000 [00:00<00:00, 16108.93it/s]\n",
      "100%|██████████| 5000/5000 [00:00<00:00, 19260.25it/s]\n"
     ]
    }
   ],
   "source": [
    "alpha_dpMC = double_parallel_MC(alpha_sample, alpha_mle)\n",
    "b_dpMC = double_parallel_MC(b_sample, b_mle)\n",
    "c_dpMC = double_parallel_MC(np.reshape(c_sample,[*np.shape(c_sample),1]), \n",
    "                                np.reshape(c_mle,[*np.shape(c_mle),1]))"
   ]
  },
  {
   "cell_type": "code",
   "execution_count": 44,
   "metadata": {},
   "outputs": [],
   "source": [
    "samples = np.zeros((m,n_mcmc,p+q+1))\n",
    "mle = np.zeros((m,p+q+1))\n",
    "for i in range(m) :\n",
    "    file = open(\"/xtmp/DC-BATS_data/binary_AR/mcmc_wb_chunk\"+str(i+1)+\".pkl\", \"rb\")\n",
    "    trace_dc = pickle.load(file)\n",
    "    samples[i,:,0:p] = trace_dc['alpha']\n",
    "    samples[i,:,p:(p+q)] = trace_dc['b']\n",
    "    samples[i,:,(p+q):(p+q+1)] = np.reshape(trace_dc['c'], [n_mcmc,1])\n",
    "    \n",
    "    file = open(\"/xtmp/DC-BATS_data/binary_AR/mle_chunk\"+str(i+1)+\".pkl\", \"rb\")\n",
    "    mle_dc = pickle.load(file)\n",
    "    mle[i,0:p] = mle_dc['alpha']\n",
    "    mle[i,p:(p+q)] = mle_dc['b']\n",
    "    mle[i,(p+q):(p+q+1)] = mle_dc['c']"
   ]
  },
  {
   "cell_type": "code",
   "execution_count": null,
   "metadata": {
    "collapsed": true
   },
   "outputs": [],
   "source": [
    "dpMC_CI = "
   ]
  },
  {
   "cell_type": "code",
   "execution_count": null,
   "metadata": {
    "collapsed": true
   },
   "outputs": [],
   "source": []
  },
  {
   "cell_type": "code",
   "execution_count": 6,
   "metadata": {},
   "outputs": [
    {
     "data": {
      "text/plain": [
       "(10, 5000, 10)"
      ]
     },
     "execution_count": 6,
     "metadata": {},
     "output_type": "execute_result"
    }
   ],
   "source": [
    "np.shape(alpha_dpMC)"
   ]
  },
  {
   "cell_type": "code",
   "execution_count": 36,
   "metadata": {
    "collapsed": true
   },
   "outputs": [],
   "source": [
    "alpha_ci_dpMC = np.percentile(np.reshape(alpha_dpMC, [np.prod(np.shape(alpha_dpMC)[0:2]),np.shape(alpha_dpMC)[-1]]), \n",
    "                              q=[2.5,97.5], axis=0)\n",
    "b_ci_dpMC = np.percentile(np.reshape(b_dpMC, [np.prod(np.shape(b_dpMC)[0:2]),np.shape(b_dpMC)[-1]]), \n",
    "                          q=[2.5,97.5], axis=0)\n",
    "c_ci_dpMC = np.percentile(np.reshape(c_dpMC, [np.prod(np.shape(c_dpMC)[0:2]),np.shape(c_dpMC)[-1]]), \n",
    "                          q=[2.5,97.5], axis=0)"
   ]
  },
  {
   "cell_type": "code",
   "execution_count": 37,
   "metadata": {
    "collapsed": true
   },
   "outputs": [],
   "source": [
    "file = open(\"/xtmp/DC-BATS_data/binary_AR/full_mcmc.pkl\", \"rb\")\n",
    "trace = pickle.load(file)\n",
    "c_ci_full = np.percentile(trace['c'],axis=0,q=[2.5,97.5])\n",
    "alpha_ci_full = np.percentile(trace['alpha'],axis=0,q=[2.5,97.5])\n",
    "b_ci_full = np.percentile(trace['b'],axis=0,q=[2.5,97.5])\n",
    "\n",
    "c_ci_dc = np.zeros(2)\n",
    "alpha_ci_dc = np.zeros((2,p))\n",
    "b_ci_dc = np.zeros((2,q))\n",
    "for i in range(m) :\n",
    "    file = open(\"/xtmp/DC-BATS_data/binary_AR/mcmc_wb_chunk\"+str(i+1)+\".pkl\", \"rb\")\n",
    "    trace = pickle.load(file)\n",
    "    c_ci_dc += np.percentile(trace['c'],axis=0,q=[2.5,97.5])/m\n",
    "    alpha_ci_dc += np.percentile(trace['alpha'],axis=0,q=[2.5,97.5])/m\n",
    "    b_ci_dc += np.percentile(trace['b'],axis=0,q=[2.5,97.5])/m"
   ]
  },
  {
   "cell_type": "code",
   "execution_count": 42,
   "metadata": {},
   "outputs": [
    {
     "data": {
      "image/png": "[encoded data removed]",
      "text/plain": [
       "<Figure size 720x180 with 3 Axes>"
      ]
     },
     "metadata": {},
     "output_type": "display_data"
    }
   ],
   "source": [
    "plt.rcParams['axes.grid'] = True\n",
    "f, (a0, a1, a2) = plt.subplots(1, 3, gridspec_kw={'width_ratios': [1, p, q]}, figsize=(10,2.5))\n",
    "\n",
    "# a0.plot(1, c, \"ro\")\n",
    "a0.plot([0.8,0.8], c_ci_dc, \"b-\")\n",
    "a0.plot([1.2,1.2], c_ci_full, \"g-\")\n",
    "a0.plot([1,1], c_ci_dpMC, \"r-\")\n",
    "a0.axis(xmin=0,xmax=2)\n",
    "\n",
    "# a1.plot(np.arange(1,p+1), alph, \"ro\")\n",
    "for i in range(p) :\n",
    "    a1.plot([i+0.8,i+0.8], alpha_ci_dc[:,i], \"b-\")\n",
    "    a1.plot([i+1.2,i+1.2], alpha_ci_full[:,i], \"g-\")\n",
    "    a1.plot([i+1,i+1], alpha_ci_dpMC[:,i], \"r-\")\n",
    "\n",
    "# a2.plot(np.arange(1,q+1), b, \"ro\")\n",
    "for i in range(q) :\n",
    "    if i < (q-1) :\n",
    "        a2.plot([i+0.8,i+0.8], b_ci_dc[:,i], \"b-\")\n",
    "        a2.plot([i+1.2,i+1.2], b_ci_full[:,i], \"g-\")\n",
    "        a2.plot([i+1,i+1], b_ci_dpMC[:,i], \"r-\")\n",
    "    if i == (q-1) :\n",
    "        a2.plot([i+0.8,i+0.8], b_ci_dc[:,i], \"b-\", label=\"Wasserstein barycenter\")\n",
    "        a2.plot([i+1.2,i+1.2], b_ci_full[:,i], \"g-\", label=\"MCMC on full data\")\n",
    "        a2.plot([i+1,i+1], b_ci_full[:,i], \"r-\", label=\"Double parallel Monte Carlo\")\n",
    "    \n",
    "plt.text(x=-11, y=14, s=r\"$c$\", fontsize=13)\n",
    "plt.text(x=-5.5, y=14, s=r\"$\\alpha$\", fontsize=13)\n",
    "plt.text(x=3, y=14, s=r\"$b$\", fontsize=13)\n",
    "plt.text(x=-5, y=16.5, s=r\"Credible intervals\", fontsize=14)\n",
    "plt.legend(ncol=3, loc=(-2.4,1.25))\n",
    "f.savefig('binary_AR_CI.pdf', bbox_inches='tight', dpi=500)"
   ]
  },
  {
   "cell_type": "code",
   "execution_count": null,
   "metadata": {
    "collapsed": true
   },
   "outputs": [],
   "source": []
  }
 ],
 "metadata": {
  "kernelspec": {
   "display_name": "Python 3",
   "language": "python",
   "name": "python3"
  },
  "language_info": {
   "codemirror_mode": {
    "name": "ipython",
    "version": 3
   },
   "file_extension": ".py",
   "mimetype": "text/x-python",
   "name": "python",
   "nbconvert_exporter": "python",
   "pygments_lexer": "ipython3",
   "version": "3.6.2"
  }
 },
 "nbformat": 4,
 "nbformat_minor": 2
}
