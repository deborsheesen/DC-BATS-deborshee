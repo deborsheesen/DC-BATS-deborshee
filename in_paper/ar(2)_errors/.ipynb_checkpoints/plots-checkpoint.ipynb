{
 "cells": [
  {
   "cell_type": "code",
   "execution_count": 1,
   "metadata": {
    "collapsed": true
   },
   "outputs": [],
   "source": [
    "from __future__ import division\n",
    "get_ipython().magic('matplotlib inline')\n",
    "import numpy as np, matplotlib.pyplot as plt, math, numpy.random as npr, pystan as ps\n",
    "from pylab import plot, show, legend"
   ]
  },
  {
   "cell_type": "code",
   "execution_count": 6,
   "metadata": {},
   "outputs": [],
   "source": [
    "beta = np.load('/xtmp/DC-BATS_data/ar(2)_errors/beta.npy')\n",
    "beta_vals_1 = np.load('/xtmp/DC-BATS_data/ar(2)_errors/beta_vals_1.npy')\n",
    "beta_vals_2 = np.load('/xtmp/DC-BATS_data/ar(2)_errors/beta_vals_2.npy')\n",
    "beta_full = np.load('/xtmp/DC-BATS_data/ar(2)_errors/beta_full.npy')"
   ]
  },
  {
   "cell_type": "code",
   "execution_count": 7,
   "metadata": {
    "collapsed": true
   },
   "outputs": [],
   "source": [
    "p = np.shape(beta_vals_1)[2]\n",
    "beta_CI_1 = np.zeros((p,2,10))\n",
    "for i in range(p) :\n",
    "    beta_CI_1[i] = np.percentile(beta_vals_1[:,:,i],axis=1,q=[2.5,97.5])\n",
    "beta_CI_2 = np.zeros((p,2,20))\n",
    "for i in range(p) :\n",
    "    beta_CI_2[i] = np.percentile(beta_vals_2[:,:,i],axis=1,q=[2.5,97.5])"
   ]
  },
  {
   "cell_type": "code",
   "execution_count": 9,
   "metadata": {
    "collapsed": true
   },
   "outputs": [],
   "source": [
    "beta_ci_1 = np.mean(beta_CI_1,-1)\n",
    "beta_ci_2 = np.mean(beta_CI_2,-1)\n",
    "beta_CI = np.percentile(beta_full, [2.5,97.5], axis=0)"
   ]
  },
  {
   "cell_type": "code",
   "execution_count": 21,
   "metadata": {},
   "outputs": [
    {
     "data": {
      "image/png": "[encoded data removed]",
      "text/plain": [
       "<Figure size 864x360 with 1 Axes>"
      ]
     },
     "metadata": {},
     "output_type": "display_data"
    }
   ],
   "source": [
    "fig = plt.figure(figsize=(12,5))\n",
    "plt.plot(np.arange(1,p+1), beta, \"yo\")\n",
    "for i in range(p) :\n",
    "    plt.plot([i+0.5,i+0.5], beta_ci_1[i], \"r-\")\n",
    "    plt.plot([i+1.5,i+1.5], beta_ci_2[i], \"b-\")\n",
    "    plt.plot([i+1,i+1], beta_CI[:,i], \"g-\")\n",
    "plt.plot([i+0.5,i+0.5], beta_ci_1[i], \"r-\", label=r\"Averaging $m=10$ subposteriors\")\n",
    "plt.plot([i+1.5,i+1.5], beta_ci_2[i], \"b-\", label=r\"Averaging $m=20$ subposteriors\")\n",
    "plt.plot([i+1,i+1], beta_CI[:,i], \"g-\", label=r\"MCMC on full data\")\n",
    "plt.grid(True)\n",
    "plt.xlabel(r\"$\\beta$ index\", fontsize=13)\n",
    "plt.ylabel(r\"$\\beta$\", fontsize=13)\n",
    "plt.title(r\"Credible intervals for $\\beta$ using divide-and-conquer\", fontsize=14);\n",
    "# fig.savefig('CI_ar(2)_errors.pdf', bbox_inches='tight', dpi=2000)"
   ]
  },
  {
   "cell_type": "code",
   "execution_count": null,
   "metadata": {
    "collapsed": true
   },
   "outputs": [],
   "source": []
  }
 ],
 "metadata": {
  "kernelspec": {
   "display_name": "Python 3",
   "language": "python",
   "name": "python3"
  },
  "language_info": {
   "codemirror_mode": {
    "name": "ipython",
    "version": 3
   },
   "file_extension": ".py",
   "mimetype": "text/x-python",
   "name": "python",
   "nbconvert_exporter": "python",
   "pygments_lexer": "ipython3",
   "version": "3.6.2"
  }
 },
 "nbformat": 4,
 "nbformat_minor": 2
}
