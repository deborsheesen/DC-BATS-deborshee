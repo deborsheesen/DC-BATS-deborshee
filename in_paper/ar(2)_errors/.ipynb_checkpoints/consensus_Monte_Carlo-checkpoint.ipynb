{
 "cells": [
  {
   "cell_type": "markdown",
   "metadata": {},
   "source": [
    "### Consensus Monte Carlo"
   ]
  },
  {
   "cell_type": "code",
   "execution_count": 1,
   "metadata": {
    "collapsed": true
   },
   "outputs": [],
   "source": [
    "from __future__ import division\n",
    "get_ipython().magic('matplotlib inline')\n",
    "import numpy as np, matplotlib.pyplot as plt, math, numpy.random as npr, pystan as ps\n",
    "from pylab import plot, show, legend\n",
    "from time import time\n",
    "from tqdm import trange"
   ]
  },
  {
   "cell_type": "code",
   "execution_count": 2,
   "metadata": {
    "collapsed": true
   },
   "outputs": [],
   "source": [
    "beta = np.load('/xtmp/DC-BATS_data/ar(2)_errors/beta.npy')\n",
    "beta_vals_1 = np.load('/xtmp/DC-BATS_data/ar(2)_errors/beta_vals_1.npy')\n",
    "beta_vals_2 = np.load('/xtmp/DC-BATS_data/ar(2)_errors/beta_vals_2.npy')\n",
    "beta_vals = np.load('/xtmp/DC-BATS_data/ar(2)_errors/beta_full.npy')"
   ]
  },
  {
   "cell_type": "code",
   "execution_count": 3,
   "metadata": {},
   "outputs": [
    {
     "data": {
      "text/plain": [
       "(10, 5000, 50)"
      ]
     },
     "execution_count": 3,
     "metadata": {},
     "output_type": "execute_result"
    }
   ],
   "source": [
    "np.shape(beta_vals_1)"
   ]
  },
  {
   "cell_type": "code",
   "execution_count": 4,
   "metadata": {
    "collapsed": true
   },
   "outputs": [],
   "source": [
    "K_1 = np.shape(beta_vals_1)[0]\n",
    "K_2 = np.shape(beta_vals_2)[0]\n",
    "n_mcmc_1 = np.shape(beta_vals_1)[1]\n",
    "n_mcmc_2 = np.shape(beta_vals_2)[1]\n",
    "p = np.shape(beta_vals_1)[2]\n",
    "\n",
    "covs_1 = np.zeros((K_1,p,p))\n",
    "covs_2 = np.zeros((K_2,p,p))\n",
    "for i in range(K_1) :\n",
    "    covs_1[i] = np.cov(beta_vals_1[i],rowvar=False)\n",
    "for i in range(K_2) :\n",
    "    covs_2[i] = np.cov(beta_vals_2[i],rowvar=False)"
   ]
  },
  {
   "cell_type": "code",
   "execution_count": 23,
   "metadata": {},
   "outputs": [],
   "source": [
    "CI_cmc_1 = np.zeros((2,p))\n",
    "CI_cmc_2 = np.zeros((2,p))\n",
    "for i in range(K_1) :\n",
    "    CI_cmc_1[0] += np.matmul(covs_1[i],(np.percentile(beta_vals_1, 2.5, axis=1))[i])\n",
    "    CI_cmc_1[1] += np.matmul(covs_1[i],(np.percentile(beta_vals_1, 97.5, axis=1))[i])\n",
    "for i in range(K_2) :\n",
    "    CI_cmc_2[0] += np.matmul(covs_2[i],(np.percentile(beta_vals_2, 2.5, axis=1))[i])\n",
    "    CI_cmc_2[1] += np.matmul(covs_2[i],(np.percentile(beta_vals_2, 97.5, axis=1))[i])"
   ]
  },
  {
   "cell_type": "code",
   "execution_count": 24,
   "metadata": {
    "collapsed": true
   },
   "outputs": [],
   "source": [
    "CI_cmc_1[0] = np.matmul(np.linalg.inv(np.sum(covs_1,0)),CI_cmc_1[0])\n",
    "CI_cmc_1[1] = np.matmul(np.linalg.inv(np.sum(covs_1,0)),CI_cmc_1[1])\n",
    "CI_cmc_2[0] = np.matmul(np.linalg.inv(np.sum(covs_2,0)),CI_cmc_2[0])\n",
    "CI_cmc_2[1] = np.matmul(np.linalg.inv(np.sum(covs_2,0)),CI_cmc_2[1])"
   ]
  },
  {
   "cell_type": "code",
   "execution_count": 25,
   "metadata": {},
   "outputs": [
    {
     "data": {
      "text/plain": [
       "(2, 50)"
      ]
     },
     "execution_count": 25,
     "metadata": {},
     "output_type": "execute_result"
    }
   ],
   "source": [
    "np.shape(CI_cmc_1)"
   ]
  },
  {
   "cell_type": "code",
   "execution_count": 26,
   "metadata": {},
   "outputs": [
    {
     "data": {
      "image/png": "[encoded data removed]",
      "text/plain": [
       "<Figure size 1152x288 with 2 Axes>"
      ]
     },
     "metadata": {},
     "output_type": "display_data"
    }
   ],
   "source": [
    "fig = plt.figure(figsize=(16,4))\n",
    "plt.subplot(121)\n",
    "plt.plot(np.arange(1,p+1), beta, \"o\")\n",
    "for i in range(p) :\n",
    "    plt.plot([i+1,i+1], CI_cmc_1[:,i], \"r-\")\n",
    "plt.grid(True)\n",
    "plt.xlabel(r\"$\\beta$ index\", fontsize=12)\n",
    "plt.ylabel(r\"$\\beta$\", fontsize=12)\n",
    "plt.title(r\"$m=10$\")\n",
    "plt.subplot(122)\n",
    "plt.plot(np.arange(1,p+1), beta, \"o\")\n",
    "for i in range(p) :\n",
    "    plt.plot([i+1,i+1], CI_cmc_2[:,i], \"r-\")\n",
    "plt.grid(True)\n",
    "plt.title(r\"$m=20$\")\n",
    "plt.xlabel(r\"$\\beta$ index\", fontsize=12)\n",
    "plt.ylabel(r\"$\\beta$\", fontsize=12)\n",
    "plt.suptitle(r\"Credible intervals for $\\beta$ for consensus Monte Carlo\", fontsize=14);"
   ]
  },
  {
   "cell_type": "code",
   "execution_count": 27,
   "metadata": {},
   "outputs": [
    {
     "name": "stdout",
     "output_type": "stream",
     "text": [
      "0.020550591602056755\n",
      "0.020548668840652165\n"
     ]
    }
   ],
   "source": [
    "print(np.mean(np.abs(CI_cmc_1[1]-CI_cmc_1[0])))\n",
    "print(np.mean(np.abs(CI_cmc_2[1]-CI_cmc_2[0])))"
   ]
  },
  {
   "cell_type": "code",
   "execution_count": null,
   "metadata": {
    "collapsed": true
   },
   "outputs": [],
   "source": []
  }
 ],
 "metadata": {
  "kernelspec": {
   "display_name": "Python 3",
   "language": "python",
   "name": "python3"
  },
  "language_info": {
   "codemirror_mode": {
    "name": "ipython",
    "version": 3
   },
   "file_extension": ".py",
   "mimetype": "text/x-python",
   "name": "python",
   "nbconvert_exporter": "python",
   "pygments_lexer": "ipython3",
   "version": "3.6.2"
  }
 },
 "nbformat": 4,
 "nbformat_minor": 2
}
