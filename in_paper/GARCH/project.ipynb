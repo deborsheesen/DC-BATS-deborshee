{
 "cells": [
  {
   "cell_type": "markdown",
   "metadata": {},
   "source": [
    "#### Separate project"
   ]
  },
  {
   "cell_type": "code",
   "execution_count": 65,
   "metadata": {
    "collapsed": true
   },
   "outputs": [],
   "source": [
    "# Calling libraries:\n",
    "from __future__ import division\n",
    "%matplotlib inline\n",
    "import numpy as np, time, matplotlib.pyplot as plt, math, pandas, numpy.random as npr\n",
    "from pylab import plot, show, legend\n",
    "from time import time\n",
    "from tqdm import trange\n",
    "from scipy import integrate\n",
    "from scipy.stats import *"
   ]
  },
  {
   "cell_type": "code",
   "execution_count": 17,
   "metadata": {
    "collapsed": true
   },
   "outputs": [],
   "source": [
    "A = np.ones((2,1))\n",
    "P = A*np.linalg.inv(np.matmul(A.transpose(),A))*(A.transpose())"
   ]
  },
  {
   "cell_type": "code",
   "execution_count": 39,
   "metadata": {
    "collapsed": true
   },
   "outputs": [],
   "source": [
    "d = 2\n",
    "theta0 = np.zeros(2)\n",
    "n = 10**3\n",
    "X = npr.randn(n,2) + theta0\n",
    "Xbar = np.mean(X,0)"
   ]
  },
  {
   "cell_type": "code",
   "execution_count": 26,
   "metadata": {
    "collapsed": true
   },
   "outputs": [],
   "source": [
    "I = np.eye(2)\n",
    "Lambda0 = np.reshape([[1, 0.3], [0.3, 1]], (2,2))"
   ]
  },
  {
   "cell_type": "code",
   "execution_count": 48,
   "metadata": {
    "collapsed": true
   },
   "outputs": [],
   "source": [
    "Lambdastr = Lambda0 + n*I\n",
    "thetastr = np.matmul(np.linalg.inv(Lambdastr), np.matmul(Lambda0,np.reshape(theta0,(2,1))) + np.reshape(n*Xbar, (2,1)))"
   ]
  },
  {
   "cell_type": "code",
   "execution_count": 49,
   "metadata": {},
   "outputs": [
    {
     "data": {
      "text/plain": [
       "array([[ 0.03312007],\n",
       "       [-0.08040601]])"
      ]
     },
     "execution_count": 49,
     "metadata": {},
     "output_type": "execute_result"
    }
   ],
   "source": [
    "thetastr"
   ]
  },
  {
   "cell_type": "code",
   "execution_count": 50,
   "metadata": {
    "collapsed": true
   },
   "outputs": [],
   "source": [
    "thetatd = np.reshape([0,0], (2,1))"
   ]
  },
  {
   "cell_type": "code",
   "execution_count": 51,
   "metadata": {},
   "outputs": [
    {
     "data": {
      "text/plain": [
       "array([[0, 0]])"
      ]
     },
     "execution_count": 51,
     "metadata": {},
     "output_type": "execute_result"
    }
   ],
   "source": [
    "thetatd.transpose()"
   ]
  },
  {
   "cell_type": "code",
   "execution_count": 81,
   "metadata": {
    "collapsed": true
   },
   "outputs": [],
   "source": [
    "def f(td) :\n",
    "    thetatd = td*np.ones((2,1))\n",
    "    return -1/2*((1/np.matmul(np.matmul(P.transpose(),np.linalg.inv(Lambdastr)), P)[0,0] - n)*thetatd[0]**2 \\\n",
    "    -2*np.matmul(thetatd.transpose(),(np.matmul(np.matmul(np.matmul(P.transpose(),np.linalg.inv(Lambdastr)), P), thetastr) \\\n",
    "                                      - np.reshape(n*Xbar, (2,1)))))\n",
    "f = np.vectorize(f)"
   ]
  },
  {
   "cell_type": "code",
   "execution_count": 87,
   "metadata": {},
   "outputs": [
    {
     "data": {
      "image/png": "[encoded data removed]",
      "text/plain": [
       "<Figure size 432x288 with 1 Axes>"
      ]
     },
     "metadata": {},
     "output_type": "display_data"
    }
   ],
   "source": [
    "xvals = np.linspace(-2,2.2,1000)\n",
    "plt.plot(xvals,f(xvals))\n",
    "plt.grid(True)"
   ]
  },
  {
   "cell_type": "code",
   "execution_count": 23,
   "metadata": {},
   "outputs": [
    {
     "data": {
      "text/plain": [
       "(10000, 2)"
      ]
     },
     "execution_count": 23,
     "metadata": {},
     "output_type": "execute_result"
    }
   ],
   "source": [
    "np.shape(X)"
   ]
  },
  {
   "cell_type": "code",
   "execution_count": null,
   "metadata": {
    "collapsed": true
   },
   "outputs": [],
   "source": [
    "x0 = 0\n",
    "eps = 1e-5\n",
    "\n",
    "n = 10**5\n",
    "theta = np.zeros(2)\n",
    "Sigma = np.eye(2)\n",
    "Sigma_inv = np.linalg.inv(Sigma)\n",
    "\n",
    "mu0 = np.zeros((2,1))\n",
    "Sigma0 = np.eye(2)\n",
    "Sigma0_inv = np.linalg.inv(Sigma0)"
   ]
  },
  {
   "cell_type": "code",
   "execution_count": 71,
   "metadata": {},
   "outputs": [
    {
     "name": "stderr",
     "output_type": "stream",
     "text": [
      "100%|██████████| 100/100 [03:07<00:00,  2.00s/it]\n"
     ]
    }
   ],
   "source": [
    "rep = 100\n",
    "val = np.zeros(rep)\n",
    "\n",
    "for r in trange(rep) :\n",
    "    X = npr.multivariate_normal(theta, Sigma, n)\n",
    "    Xbar = np.reshape(np.mean(X,0), [2,1])\n",
    "\n",
    "    Sigma_post = np.linalg.inv(Sigma0_inv + n*Sigma_inv) \n",
    "    mu_post = np.matmul(Sigma_post, (np.matmul(Sigma0_inv, mu0) + n*np.matmul(Sigma_inv,Xbar)))\n",
    "    Sigma_post_inv = np.linalg.inv(Sigma_post)\n",
    "    \n",
    "    a, b, d = Sigma_post_inv[0,0], Sigma_post_inv[0,1], Sigma_post_inv[1,1]\n",
    "    mux, muy = mu_post[0][0], mu_post[1][0]\n",
    "\n",
    "    def f(x, y):\n",
    "        return np.exp(-( (a+b)*(x-mux)**2 + (b+d)*(y-muy)**2 + (a+2*b+d)*(x-mux)*(y-muy)) )\n",
    "\n",
    "    def bounds_y():\n",
    "        return [-np.inf, np.inf]\n",
    "\n",
    "    def bounds_x(y):\n",
    "        return [x0 - eps/(2**1.5) - y, x0 + eps/(2**1.5) + y]\n",
    "\n",
    "    val[r] = integrate.nquad(f, [bounds_x, bounds_y])[0]"
   ]
  },
  {
   "cell_type": "code",
   "execution_count": 72,
   "metadata": {},
   "outputs": [
    {
     "data": {
      "text/plain": [
       "array([ 0.0443745 ,  0.04168105,  0.02546684,  0.02635776, -0.03865749,\n",
       "        0.06456079,  0.04871713,  0.00826637,  0.05051744, -0.02383875,\n",
       "        0.03917883,  0.00355187,  0.03787824, -0.00680805, -0.05958694,\n",
       "        0.00579831, -0.00340255, -0.01846829, -0.02753539,  0.04686863,\n",
       "        0.01858167,  0.0034202 ,  0.04451024,  0.03283876,  0.04509993,\n",
       "        0.03774679, -0.05902058, -0.03705677, -0.03365332, -0.05117399,\n",
       "        0.048639  , -0.02943512,  0.0397204 , -0.03640145,  0.01414423,\n",
       "        0.01277261, -0.02959109, -0.01239404,  0.00934016, -0.0452335 ,\n",
       "        0.05654501, -0.03542475,  0.0007286 , -0.01785254,  0.03163051,\n",
       "        0.03722428, -0.05428167,  0.03424086,  0.05262049,  0.00351854,\n",
       "        0.04294152,  0.05527389, -0.05155361,  0.06360364, -0.01300597,\n",
       "       -0.02283199, -0.02759294,  0.04607709,  0.01745962,  0.04926478,\n",
       "        0.0237242 , -0.02751521, -0.04420103,  0.04188471, -0.0288488 ,\n",
       "        0.05342546, -0.07092104, -0.04525549, -0.02228019, -0.05100058,\n",
       "        0.04010636, -0.0365008 , -0.04767466,  0.05710616, -0.0229785 ,\n",
       "       -0.03385825,  0.04076914, -0.03892945,  0.02170663,  0.00668918,\n",
       "       -0.04681591,  0.04773475, -0.04225946,  0.05025119, -0.04307055,\n",
       "       -0.03852503, -0.01011355, -0.02284529,  0.02679252,  0.01607186,\n",
       "        0.05195442,  0.02536831, -0.05107839,  0.04145397,  0.0150049 ,\n",
       "        0.03936815, -0.03352417, -0.0266353 , -0.01301669, -0.01469865])"
      ]
     },
     "execution_count": 72,
     "metadata": {},
     "output_type": "execute_result"
    }
   ],
   "source": [
    "val"
   ]
  },
  {
   "cell_type": "code",
   "execution_count": 73,
   "metadata": {},
   "outputs": [
    {
     "data": {
      "text/plain": [
       "0.0029322471447937883"
      ]
     },
     "execution_count": 73,
     "metadata": {},
     "output_type": "execute_result"
    }
   ],
   "source": [
    "np.mean(val)"
   ]
  },
  {
   "cell_type": "code",
   "execution_count": null,
   "metadata": {
    "collapsed": true
   },
   "outputs": [],
   "source": []
  }
 ],
 "metadata": {
  "kernelspec": {
   "display_name": "Python 3",
   "language": "python",
   "name": "python3"
  },
  "language_info": {
   "codemirror_mode": {
    "name": "ipython",
    "version": 3
   },
   "file_extension": ".py",
   "mimetype": "text/x-python",
   "name": "python",
   "nbconvert_exporter": "python",
   "pygments_lexer": "ipython3",
   "version": "3.6.2"
  }
 },
 "nbformat": 4,
 "nbformat_minor": 2
}
