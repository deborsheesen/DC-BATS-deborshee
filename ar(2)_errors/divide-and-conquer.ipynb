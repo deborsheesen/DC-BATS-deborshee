{
 "cells": [
  {
   "cell_type": "markdown",
   "metadata": {},
   "source": [
    "#### Consensus Monte Carlo (CMC) and semiparametric density of products (SDP).\n",
    "\n",
    "Incorrect in this notebook because likelihoods have been raised to a power instead of prior being raised."
   ]
  },
  {
   "cell_type": "code",
   "execution_count": 1,
   "metadata": {
    "collapsed": true
   },
   "outputs": [],
   "source": [
    "from __future__ import division\n",
    "get_ipython().magic('matplotlib inline')\n",
    "import numpy as np, matplotlib.pyplot as plt, math, numpy.random as npr, pystan as ps\n",
    "from pylab import plot, show, legend\n",
    "from time import time\n",
    "from tqdm import trange\n",
    "import rpy2.robjects as robjects\n",
    "import rpy2.robjects.numpy2ri\n",
    "rpy2.robjects.numpy2ri.activate()"
   ]
  },
  {
   "cell_type": "code",
   "execution_count": 2,
   "metadata": {},
   "outputs": [
    {
     "data": {
      "text/html": [
       "\n",
       "        <span>ListVector with 2 elements.</span>\n",
       "        <table>\n",
       "        <tbody>\n",
       "        \n",
       "          <tr>\n",
       "            <th>\n",
       "            value\n",
       "            </th>\n",
       "            <td>\n",
       "            <rpy2.rinterface.SexpClosure object at 0x7f69a8312948> [RTYPES.CLOSXP]\n",
       "            </td>\n",
       "          </tr>\n",
       "        \n",
       "          <tr>\n",
       "            <th>\n",
       "            visible\n",
       "            </th>\n",
       "            <td>\n",
       "            <rpy2.rinterface.BoolSexpVector object at 0x7f69a831b788> [RTYPES.LGLSXP]\n",
       "            </td>\n",
       "          </tr>\n",
       "        \n",
       "        </tbody>\n",
       "        </table>\n",
       "        "
      ],
      "text/plain": [
       "R object with classes: ('list',) mapped to:\n",
       "[SexpClosure, BoolSexpVector]\n",
       "  value: <class 'rpy2.rinterface.SexpClosure'>\n",
       "  <rpy2.rinterface.SexpClosure object at 0x7f69a831bf48> [RTYPES.CLOSXP]\n",
       "  visible: <class 'rpy2.rinterface.BoolSexpVector'>\n",
       "  <rpy2.rinterface.BoolSexpVector object at 0x7f69a831bf08> [RTYPES.LGLSXP]"
      ]
     },
     "execution_count": 2,
     "metadata": {},
     "output_type": "execute_result"
    }
   ],
   "source": [
    "r = robjects.r\n",
    "r['source']('consensusMCcov.R')\n",
    "r['source']('semiparamDPE.R')"
   ]
  },
  {
   "cell_type": "code",
   "execution_count": 23,
   "metadata": {
    "collapsed": true
   },
   "outputs": [],
   "source": [
    "beta = np.load('/xtmp/DC-BATS_data/ar(2)_errors/beta.npy')\n",
    "beta_vals_1 = np.transpose(np.load('/xtmp/DC-BATS_data/ar(2)_errors/beta_vals_1.npy'))\n",
    "beta_vals_2 = np.transpose(np.load('/xtmp/DC-BATS_data/ar(2)_errors/beta_vals_2.npy'))\n",
    "beta_vals = np.load('/xtmp/DC-BATS_data/ar(2)_errors/beta_full.npy')\n",
    "p = np.shape(beta_vals_1)[0]"
   ]
  },
  {
   "cell_type": "code",
   "execution_count": 4,
   "metadata": {
    "collapsed": true
   },
   "outputs": [],
   "source": [
    "res_1 = r['consensusMCcov'](beta_vals_1)\n",
    "res_2 = r['consensusMCcov'](beta_vals_2)"
   ]
  },
  {
   "cell_type": "code",
   "execution_count": 5,
   "metadata": {
    "collapsed": true
   },
   "outputs": [],
   "source": [
    "cmc_ci_1 = np.percentile(res_1,[2.5,97.5],axis=1)\n",
    "cmc_ci_2 = np.percentile(res_2,[2.5,97.5],axis=1)"
   ]
  },
  {
   "cell_type": "code",
   "execution_count": 6,
   "metadata": {},
   "outputs": [
    {
     "data": {
      "image/png": "[encoded data removed]",
      "text/plain": [
       "<Figure size 1152x288 with 2 Axes>"
      ]
     },
     "metadata": {},
     "output_type": "display_data"
    }
   ],
   "source": [
    "fig = plt.figure(figsize=(16,4))\n",
    "plt.subplot(121)\n",
    "plt.plot(np.arange(1,p+1), beta, \"o\")\n",
    "for i in range(p) :\n",
    "    plt.plot([i+1,i+1], cmc_ci_1[:,i], \"r-\")\n",
    "plt.grid(True)\n",
    "plt.xlabel(r\"$\\beta$ index\", fontsize=12)\n",
    "plt.ylabel(r\"$\\beta$\", fontsize=12)\n",
    "plt.title(r\"$m=10$\")\n",
    "plt.subplot(122)\n",
    "plt.plot(np.arange(1,p+1), beta, \"o\")\n",
    "for i in range(p) :\n",
    "    plt.plot([i+1,i+1], cmc_ci_2[:,i], \"r-\")\n",
    "plt.grid(True)\n",
    "plt.title(r\"$m=20$\")\n",
    "plt.xlabel(r\"$\\beta$ index\", fontsize=12)\n",
    "plt.ylabel(r\"$\\beta$\", fontsize=12)\n",
    "plt.suptitle(r\"Credible intervals for $\\beta$ for consensus Monte Carlo\", fontsize=14);"
   ]
  },
  {
   "cell_type": "code",
   "execution_count": 7,
   "metadata": {},
   "outputs": [
    {
     "name": "stdout",
     "output_type": "stream",
     "text": [
      "0.006372139104880253\n",
      "0.004507472571727853\n"
     ]
    }
   ],
   "source": [
    "print(np.mean(np.abs(cmc_ci_1[1]-cmc_ci_1[0])))\n",
    "print(np.mean(np.abs(cmc_ci_2[1]-cmc_ci_2[0])))"
   ]
  },
  {
   "cell_type": "code",
   "execution_count": 8,
   "metadata": {
    "collapsed": true
   },
   "outputs": [],
   "source": [
    "res_1 = r['semiparamDPE'](beta_vals_1)\n",
    "res_2 = r['semiparamDPE'](beta_vals_2)\n",
    "\n",
    "sdp_ci_1 = np.percentile(res_1,[2.5,97.5],axis=1)\n",
    "sdp_ci_2 = np.percentile(res_2,[2.5,97.5],axis=1)"
   ]
  },
  {
   "cell_type": "code",
   "execution_count": 10,
   "metadata": {},
   "outputs": [
    {
     "name": "stdout",
     "output_type": "stream",
     "text": [
      "0.006422196822533504\n",
      "0.004516341168762026\n"
     ]
    }
   ],
   "source": [
    "print(np.mean(np.abs(sdp_ci_1[1]-sdp_ci_1[0])))\n",
    "print(np.mean(np.abs(sdp_ci_2[1]-sdp_ci_2[0])))"
   ]
  },
  {
   "cell_type": "code",
   "execution_count": 11,
   "metadata": {},
   "outputs": [
    {
     "data": {
      "image/png": "[encoded data removed]",
      "text/plain": [
       "<Figure size 1152x288 with 2 Axes>"
      ]
     },
     "metadata": {},
     "output_type": "display_data"
    }
   ],
   "source": [
    "fig = plt.figure(figsize=(16,4))\n",
    "plt.subplot(121)\n",
    "plt.plot(np.arange(1,p+1), beta, \"o\")\n",
    "for i in range(p) :\n",
    "    plt.plot([i+1,i+1], sdp_ci_1[:,i], \"r-\")\n",
    "plt.grid(True)\n",
    "plt.xlabel(r\"$\\beta$ index\", fontsize=12)\n",
    "plt.ylabel(r\"$\\beta$\", fontsize=12)\n",
    "plt.title(r\"$m=10$\")\n",
    "plt.subplot(122)\n",
    "plt.plot(np.arange(1,p+1), beta, \"o\")\n",
    "for i in range(p) :\n",
    "    plt.plot([i+1,i+1], sdp_ci_2[:,i], \"r-\")\n",
    "plt.grid(True)\n",
    "plt.title(r\"$m=20$\")\n",
    "plt.xlabel(r\"$\\beta$ index\", fontsize=12)\n",
    "plt.ylabel(r\"$\\beta$\", fontsize=12)\n",
    "plt.suptitle(r\"Credible intervals for $\\beta$ for consensus Monte Carlo\", fontsize=14);"
   ]
  },
  {
   "cell_type": "code",
   "execution_count": 12,
   "metadata": {},
   "outputs": [
    {
     "data": {
      "text/plain": [
       "(50, 5000, 10)"
      ]
     },
     "execution_count": 12,
     "metadata": {},
     "output_type": "execute_result"
    }
   ],
   "source": [
    "np.shape(beta_vals_1)"
   ]
  },
  {
   "cell_type": "code",
   "execution_count": 13,
   "metadata": {},
   "outputs": [
    {
     "data": {
      "text/plain": [
       "array([0.1422343 , 0.12571957, 0.13497209, ..., 0.1320742 , 0.14665633,\n",
       "       0.13071202])"
      ]
     },
     "execution_count": 13,
     "metadata": {},
     "output_type": "execute_result"
    }
   ],
   "source": [
    "beta_vals_1[0,:,0]"
   ]
  },
  {
   "cell_type": "code",
   "execution_count": 15,
   "metadata": {},
   "outputs": [
    {
     "data": {
      "image/png": "[encoded data removed]",
      "text/plain": [
       "<Figure size 432x288 with 1 Axes>"
      ]
     },
     "metadata": {},
     "output_type": "display_data"
    }
   ],
   "source": [
    "j = 1\n",
    "i = 1\n",
    "plt.hist(beta_vals_1[j,:,i], bins=100)\n",
    "plt.show()"
   ]
  },
  {
   "cell_type": "code",
   "execution_count": 36,
   "metadata": {
    "collapsed": true
   },
   "outputs": [],
   "source": [
    "K_1 = np.shape(beta_vals_1)[-1]\n",
    "gauss_test_1 = np.zeros((p,K_1)).astype(int)\n",
    "K_2 = np.shape(beta_vals_2)[-1]\n",
    "gauss_test_2 = np.zeros((p,K_2)).astype(int)\n",
    "from scipy.stats import shapiro\n",
    "for j in range(p) :\n",
    "    for i in range(K_1) :\n",
    "        gauss_test_1[j,i] = shapiro(beta_vals_1[j,:,i])[1]>0.05\n",
    "    for i in range(K_2) :\n",
    "        gauss_test_2[j,i] = shapiro(beta_vals_2[j,:,i])[1]>0.05"
   ]
  },
  {
   "cell_type": "code",
   "execution_count": 37,
   "metadata": {},
   "outputs": [
    {
     "data": {
      "text/plain": [
       "(466, 943)"
      ]
     },
     "execution_count": 37,
     "metadata": {},
     "output_type": "execute_result"
    }
   ],
   "source": [
    "np.sum(gauss_test_1), np.sum(gauss_test_2)"
   ]
  },
  {
   "cell_type": "code",
   "execution_count": null,
   "metadata": {
    "collapsed": true
   },
   "outputs": [],
   "source": []
  }
 ],
 "metadata": {
  "kernelspec": {
   "display_name": "Python 3",
   "language": "python",
   "name": "python3"
  },
  "language_info": {
   "codemirror_mode": {
    "name": "ipython",
    "version": 3
   },
   "file_extension": ".py",
   "mimetype": "text/x-python",
   "name": "python",
   "nbconvert_exporter": "python",
   "pygments_lexer": "ipython3",
   "version": "3.6.2"
  }
 },
 "nbformat": 4,
 "nbformat_minor": 2
}
