{
 "cells": [
  {
   "cell_type": "code",
   "execution_count": 1,
   "metadata": {
    "collapsed": true
   },
   "outputs": [],
   "source": [
    "# Calling libraries:\n",
    "from __future__ import division\n",
    "%matplotlib inline\n",
    "import numpy as np, time, matplotlib.pyplot as plt, math, pandas, numpy.random as npr, pystan as ps, pickle\n",
    "from pylab import plot, show, legend\n",
    "from time import time\n",
    "from scipy.stats import *\n",
    "from Ricker_functions import *"
   ]
  },
  {
   "cell_type": "code",
   "execution_count": 2,
   "metadata": {},
   "outputs": [
    {
     "name": "stderr",
     "output_type": "stream",
     "text": [
      "INFO:pystan:COMPILING THE C++ CODE FOR MODEL anon_model_8ca37cfdeda3808e1d98ed8092a80410 NOW.\n"
     ]
    }
   ],
   "source": [
    "sm = ps.StanModel(file=\"MFSVM_WB.stan\")"
   ]
  },
  {
   "cell_type": "markdown",
   "metadata": {},
   "source": [
    "#### Specify model parameters:"
   ]
  },
  {
   "cell_type": "code",
   "execution_count": 3,
   "metadata": {
    "collapsed": true
   },
   "outputs": [],
   "source": [
    "T = 2000\n",
    "m = 5\n",
    "r = 2\n",
    "# Lambda = npr.randn(m,r)\n",
    "# mu = np.append(npr.randn(m),np.zeros(r))\n",
    "# phi = npr.rand(m+r)\n",
    "# sigma = np.ones(m+r)\n",
    "# phi_tr = 2*phi-1;"
   ]
  },
  {
   "cell_type": "markdown",
   "metadata": {},
   "source": [
    "#### Generate synthetic data:"
   ]
  },
  {
   "cell_type": "code",
   "execution_count": 4,
   "metadata": {
    "collapsed": true
   },
   "outputs": [],
   "source": [
    "# y = np.zeros((T,m))\n",
    "# h = np.zeros((T+1,m+r))\n",
    "# f = np.zeros((T,r))\n",
    "# h[0] = mu + sigma/np.sqrt(1-phi_tr**2)*npr.randn(m+r)\n",
    "# for t in range(T) :\n",
    "#     h[t+1] = mu + phi_tr*(h[t]-mu) + sigma*npr.randn(m+r)\n",
    "#     f[t] = np.exp(h[t+1,m:(m+r)]/2)*npr.randn(r)\n",
    "#     y[t] = np.matmul(Lambda,f[t]) + np.exp(h[t+1,0:m]/2)*npr.randn(m)\n",
    "    \n",
    "# data = dict(y=y, h=h, f=f, Lambda=Lambda, mu=mu, phi=phi, sigma=sigma)\n",
    "# file = open(\"/xtmp/DC-BATS_data/MFSVM_HMM/data_mfsvm.pkl\", \"wb\")\n",
    "# pickle.dump(data, file)\n",
    "# file.close()"
   ]
  },
  {
   "cell_type": "code",
   "execution_count": 4,
   "metadata": {
    "collapsed": true
   },
   "outputs": [],
   "source": [
    "file = open(\"/xtmp/DC-BATS_data/MFSVM_HMM/data_mfsvm.pkl\", \"rb\")\n",
    "dat = pickle.load(file)\n",
    "y, h, f, Lambda, mu, phi, sigma = dat['y'], dat['h'], dat['f'], dat['Lambda'], dat['mu'], dat['phi'], dat['sigma']\n",
    "T = len(y)"
   ]
  },
  {
   "cell_type": "markdown",
   "metadata": {},
   "source": [
    "#### Specify prior hyperparameters:"
   ]
  },
  {
   "cell_type": "code",
   "execution_count": 5,
   "metadata": {
    "collapsed": true
   },
   "outputs": [],
   "source": [
    "a0, b0 = 1., 1.\n",
    "bmu, Bmu = 0., 1.\n",
    "Bsigma = 1.\n",
    "BLambda = 1."
   ]
  },
  {
   "cell_type": "markdown",
   "metadata": {},
   "source": [
    "#### Run Stan on full data:"
   ]
  },
  {
   "cell_type": "code",
   "execution_count": null,
   "metadata": {
    "collapsed": true
   },
   "outputs": [],
   "source": [
    "n_chains = 10\n",
    "\n",
    "data = dict(T=T, m=m, r=r, y=y, a0=a0, b0=b0, bmu=bmu, Bmu=Bmu, Bsigma=Bsigma, BLambda=BLambda, power=1.)\n",
    "start = time()\n",
    "fit = sm.sampling(data=data, thin=1, n_jobs=min(10,n_chains), chains=n_chains, init=\"random\", iter=1_000)\n",
    "print(round((time()-start)/60,2), \"minutes to run\")\n",
    "trace = fit.extract()"
   ]
  },
  {
   "cell_type": "code",
   "execution_count": null,
   "metadata": {
    "collapsed": true
   },
   "outputs": [],
   "source": [
    "file = open(\"/xtmp/DC-BATS_data/MFSVM_HMM/full_mcmc.pkl\", \"wb\")\n",
    "pickle.dump(trace, file)\n",
    "file.close()"
   ]
  },
  {
   "cell_type": "markdown",
   "metadata": {
    "collapsed": true
   },
   "source": [
    "#### Divide and conquer:"
   ]
  },
  {
   "cell_type": "code",
   "execution_count": 7,
   "metadata": {
    "collapsed": true
   },
   "outputs": [],
   "source": [
    "m = 5\n",
    "tstarts = np.arange(m).astype(int)\n",
    "tends = 1 + tstarts\n",
    "tstarts *= int(T/m)\n",
    "tends *= int(T/m)"
   ]
  },
  {
   "cell_type": "code",
   "execution_count": null,
   "metadata": {},
   "outputs": [
    {
     "name": "stderr",
     "output_type": "stream",
     "text": [
      "WARNING:pystan:Maximum (flat) parameter count (1000) exceeded: skipping diagnostic tests for n_eff and Rhat.\n",
      "To run all diagnostics call pystan.check_hmc_diagnostics(fit)\n",
      "WARNING:pystan:109 of 5000 iterations ended with a divergence (2.18 %).\n",
      "WARNING:pystan:Try running with adapt_delta larger than 0.8 to remove the divergences.\n",
      "WARNING:pystan:4891 of 5000 iterations saturated the maximum tree depth of 10 (97.8 %)\n",
      "WARNING:pystan:Run again with max_treedepth larger than 10 to avoid saturation\n",
      "WARNING:pystan:Maximum (flat) parameter count (1000) exceeded: skipping diagnostic tests for n_eff and Rhat.\n",
      "To run all diagnostics call pystan.check_hmc_diagnostics(fit)\n",
      "WARNING:pystan:69 of 5000 iterations ended with a divergence (1.38 %).\n",
      "WARNING:pystan:Try running with adapt_delta larger than 0.8 to remove the divergences.\n",
      "WARNING:pystan:4931 of 5000 iterations saturated the maximum tree depth of 10 (98.6 %)\n",
      "WARNING:pystan:Run again with max_treedepth larger than 10 to avoid saturation\n",
      "WARNING:pystan:Maximum (flat) parameter count (1000) exceeded: skipping diagnostic tests for n_eff and Rhat.\n",
      "To run all diagnostics call pystan.check_hmc_diagnostics(fit)\n",
      "WARNING:pystan:134 of 5000 iterations ended with a divergence (2.68 %).\n",
      "WARNING:pystan:Try running with adapt_delta larger than 0.8 to remove the divergences.\n",
      "WARNING:pystan:4866 of 5000 iterations saturated the maximum tree depth of 10 (97.3 %)\n",
      "WARNING:pystan:Run again with max_treedepth larger than 10 to avoid saturation\n"
     ]
    }
   ],
   "source": [
    "for i in range(m) :\n",
    "    tstart, tend = tstarts[i], tends[i]\n",
    "    data = dict(T=tend-tstart, m=m, r=r, y=y[tstart:tend], a0=a0, b0=b0, bmu=bmu, Bmu=Bmu, Bsigma=Bsigma, BLambda=BLambda, \n",
    "                power=T/(tend-tstart))\n",
    "    fit = sm.sampling(data=data, thin=1, n_jobs=min(10,n_chains), chains=n_chains, init=\"random\", iter=1_000)\n",
    "    trace = fit.extract()\n",
    "    file = open(\"/xtmp/DC-BATS_data/MFSVM_HMM/mcmc_wb_chunk\"+str(i+1)+\".pkl\", \"wb\")\n",
    "    pickle.dump(trace, file)\n",
    "    file.close()"
   ]
  },
  {
   "cell_type": "code",
   "execution_count": null,
   "metadata": {
    "collapsed": true
   },
   "outputs": [],
   "source": [
    "for i in range(m) :\n",
    "    tstart, tend = tstarts[i], tends[i]\n",
    "    data = dict(T=tend-tstart, m=m, r=r, y=y[tstart:tend], a0=a0, b0=b0, bmu=bmu, Bmu=Bmu, Bsigma=Bsigma, BLambda=BLambda, \n",
    "                power=1)\n",
    "    fit = sm.sampling(data=data, thin=1, n_jobs=min(10,n_chains), chains=n_chains, init=\"random\", iter=1_000)\n",
    "    trace = fit.extract()\n",
    "    file = open(\"/xtmp/DC-BATS_data/MFSVM_HMM/mcmc_wb_chunk\"+str(i+1)+\"_nopower.pkl\", \"wb\")\n",
    "    pickle.dump(trace, file)\n",
    "    file.close()"
   ]
  },
  {
   "cell_type": "code",
   "execution_count": 11,
   "metadata": {},
   "outputs": [
    {
     "data": {
      "text/plain": [
       "1"
      ]
     },
     "execution_count": 11,
     "metadata": {},
     "output_type": "execute_result"
    }
   ],
   "source": [
    "1"
   ]
  },
  {
   "cell_type": "code",
   "execution_count": 26,
   "metadata": {},
   "outputs": [
    {
     "data": {
      "text/plain": [
       "[<matplotlib.lines.Line2D at 0x7fb02871e2b0>]"
      ]
     },
     "execution_count": 26,
     "metadata": {},
     "output_type": "execute_result"
    },
    {
     "data": {
      "image/png": "[encoded data removed]",
      "text/plain": [
       "<Figure size 1080x252 with 3 Axes>"
      ]
     },
     "metadata": {},
     "output_type": "display_data"
    }
   ],
   "source": [
    "i = 1\n",
    "k = 2\n",
    "plt.rcParams['figure.figsize'] = (15, 3.5)\n",
    "plt.subplot(131)\n",
    "file = open(\"/xtmp/DC-BATS_data/MFSVM_HMM/mcmc_wb_chunk\"+str(i+1)+\"_nopower.pkl\", \"rb\")\n",
    "trace = pickle.load(file)\n",
    "plt.plot(trace['mu'][:,i])\n",
    "plt.subplot(132)\n",
    "file = open(\"/xtmp/DC-BATS_data/MFSVM_HMM/mcmc_wb_chunk\"+str(i+1)+\".pkl\", \"rb\")\n",
    "trace = pickle.load(file)\n",
    "plt.plot(trace['mu'][:,i])\n",
    "plt.subplot(133)\n",
    "file = open(\"/xtmp/DC-BATS_data/MFSVM_HMM/full_mcmc.pkl\", \"rb\")\n",
    "trace = pickle.load(file)\n",
    "plt.plot(trace['mu'][:,i])"
   ]
  },
  {
   "cell_type": "code",
   "execution_count": null,
   "metadata": {
    "collapsed": true
   },
   "outputs": [],
   "source": []
  }
 ],
 "metadata": {
  "kernelspec": {
   "display_name": "Python 3",
   "language": "python",
   "name": "python3"
  },
  "language_info": {
   "codemirror_mode": {
    "name": "ipython",
    "version": 3
   },
   "file_extension": ".py",
   "mimetype": "text/x-python",
   "name": "python",
   "nbconvert_exporter": "python",
   "pygments_lexer": "ipython3",
   "version": "3.6.2"
  }
 },
 "nbformat": 4,
 "nbformat_minor": 2
}
