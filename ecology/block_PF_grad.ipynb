{
 "cells": [
  {
   "cell_type": "code",
   "execution_count": 1,
   "metadata": {
    "collapsed": true
   },
   "outputs": [],
   "source": [
    "# Calling libraries:\n",
    "from __future__ import division\n",
    "%matplotlib inline\n",
    "import numpy as np, time, matplotlib.pyplot as plt, math, pandas, numpy.random as npr, multiprocessing as mp\n",
    "from pylab import plot, show, legend\n",
    "from time import time\n",
    "from scipy.stats import *\n",
    "from tqdm import trange\n",
    "from ecology_functions import *"
   ]
  },
  {
   "cell_type": "code",
   "execution_count": 2,
   "metadata": {
    "collapsed": true
   },
   "outputs": [],
   "source": [
    "T = 100\n",
    "I = 5   # number of locations\n",
    "J = 3   # number of species\n",
    "K = 2    # number of latent factors"
   ]
  },
  {
   "cell_type": "code",
   "execution_count": 3,
   "metadata": {
    "collapsed": true
   },
   "outputs": [],
   "source": [
    "lmbda = npr.randn(J,K)\n",
    "alpha = npr.randn(J)\n",
    "c = 0\n",
    "phi = 0.5\n",
    "logsigmasq = 0\n",
    "x_0 = npr.randn(I,K)\n",
    "\n",
    "theta = [alpha, lmbda, c, phi, logsigmasq]\n",
    "Y, X = simulate_data(x_0, T, J, theta)"
   ]
  },
  {
   "cell_type": "code",
   "execution_count": 4,
   "metadata": {
    "collapsed": true
   },
   "outputs": [],
   "source": [
    "def f1(n_particles) :\n",
    "    return block_pf(Y, x_0, n_particles, theta, calc_grad=True)\n",
    "def f2(n_particles) :\n",
    "    return bootstrap_PF_grad(x_0, n_particles, theta, Y, calc_grad=True)\n",
    "\n",
    "n_particles = 1000\n",
    "rep = 500\n",
    "\n",
    "pool = mp.Pool(10)\n",
    "results1 = pool.map(f1, [n_particles for n_particles in [n_particles]*rep])\n",
    "results2 = pool.map(f2, [n_particles for n_particles in [n_particles]*rep])\n",
    "pool.close()\n",
    "\n",
    "logNC = np.zeros((rep,2))\n",
    "alpha_grad = np.zeros((rep,2,J))\n",
    "lmbda_grad = np.zeros((rep,2,J,K))\n",
    "c_grad = np.zeros((rep,2))\n",
    "phi_grad = np.zeros((rep,2))\n",
    "logsigmasq_grad = np.zeros((rep,2))\n",
    "\n",
    "for r in range(rep) :\n",
    "    alpha_grad[r,0], lmbda_grad[r,0], c_grad[r,0], phi_grad[r,0], logsigmasq_grad[r,0] = results1[r][1][:]\n",
    "    alpha_grad[r,1], lmbda_grad[r,1], c_grad[r,1], phi_grad[r,1], logsigmasq_grad[r,1] = results2[r][1][:]\n",
    "    logNC[r,0], logNC[r,1] = results1[r][0], results2[r][0]"
   ]
  },
  {
   "cell_type": "code",
   "execution_count": 5,
   "metadata": {},
   "outputs": [
    {
     "name": "stdout",
     "output_type": "stream",
     "text": [
      "[-955.36698135 -956.16626824]\n",
      "[4.27620774 5.47342564]\n"
     ]
    }
   ],
   "source": [
    "print(np.mean(logNC,0))\n",
    "print(np.var(logNC,0))"
   ]
  },
  {
   "cell_type": "code",
   "execution_count": 6,
   "metadata": {},
   "outputs": [
    {
     "name": "stdout",
     "output_type": "stream",
     "text": [
      "[ 8.61494627 15.83586478]\n",
      "[[1.78867191e-13 1.79601817e-13 1.89413156e-13]\n",
      " [1.84355924e-13 1.84355924e-13 1.88742407e-13]]\n",
      "[[[ 3.69785426  4.81721736]\n",
      "  [ 3.92809863  4.61683877]\n",
      "  [ 3.76778944  5.11683978]]\n",
      "\n",
      " [[10.52721419 16.00483004]\n",
      "  [10.17989058 16.11701341]\n",
      "  [11.15887236 16.12151248]]]\n",
      "[15.18738785 52.33795356]\n",
      "[ 7.55354238 19.38763925]\n"
     ]
    }
   ],
   "source": [
    "print(np.std(c_grad,0))\n",
    "print(np.std(alpha_grad,0))\n",
    "print(np.std(lmbda_grad,0))\n",
    "print(np.std(phi_grad,0))\n",
    "print(np.std(logsigmasq_grad,0))"
   ]
  },
  {
   "cell_type": "code",
   "execution_count": 8,
   "metadata": {},
   "outputs": [
    {
     "name": "stdout",
     "output_type": "stream",
     "text": [
      "[23.53442618 31.75152136]\n",
      "[[-206. -206. -223.]\n",
      " [-206. -206. -223.]]\n",
      "[[[ 146.47620833  -33.22883924]\n",
      "  [ -76.85595312 -147.1709524 ]\n",
      "  [ 170.05531931   -1.85963907]]\n",
      "\n",
      " [[ 142.9972609   -36.29648662]\n",
      "  [ -71.04440713 -143.76346844]\n",
      "  [ 164.90116094   -3.94039664]]]\n",
      "[-972.07716437 -953.32691156]\n",
      "[501.02075875 492.75283782]\n"
     ]
    }
   ],
   "source": [
    "print(np.mean(c_grad,0))\n",
    "print(np.mean(alpha_grad,0))\n",
    "print(np.mean(lmbda_grad,0))\n",
    "print(np.mean(phi_grad,0))\n",
    "print(np.mean(logsigmasq_grad,0))"
   ]
  },
  {
   "cell_type": "code",
   "execution_count": 9,
   "metadata": {},
   "outputs": [
    {
     "data": {
      "image/png": "[encoded data removed]",
      "text/plain": [
       "<Figure size 720x360 with 6 Axes>"
      ]
     },
     "metadata": {},
     "output_type": "display_data"
    }
   ],
   "source": [
    "fig = plt.rcParams['figure.figsize'] = (10, 5)\n",
    "for k in range(K) :\n",
    "    for j in range(J) :\n",
    "        idx = k*J + j + 1\n",
    "        plt.subplot(K,J,idx)\n",
    "        plt.hist(lmbda_grad[:,0,j,k], bins=25, alpha=0.5, color=\"red\")\n",
    "        plt.hist(lmbda_grad[:,1,j,k], bins=25, alpha=0.5, color=\"blue\")\n",
    "        plt.grid(True)"
   ]
  },
  {
   "cell_type": "code",
   "execution_count": 11,
   "metadata": {},
   "outputs": [
    {
     "data": {
      "image/png": "[encoded data removed]",
      "text/plain": [
       "<Figure size 864x216 with 3 Axes>"
      ]
     },
     "metadata": {},
     "output_type": "display_data"
    }
   ],
   "source": [
    "fig = plt.rcParams['figure.figsize'] = (12, 3)\n",
    "plt.subplot(131)\n",
    "plt.hist(c_grad[:,0], bins=25, alpha=0.5, color=\"red\")\n",
    "plt.hist(c_grad[:,1], bins=25, alpha=0.5, color=\"blue\")\n",
    "plt.grid(True)\n",
    "plt.subplot(132)\n",
    "plt.hist(phi_grad[:,0], bins=25, alpha=0.5, color=\"red\")\n",
    "plt.hist(phi_grad[:,1], bins=25, alpha=0.5, color=\"blue\")\n",
    "plt.grid(True)\n",
    "plt.subplot(133)\n",
    "plt.hist(logsigmasq_grad[:,0], bins=25, alpha=0.5, color=\"red\")\n",
    "plt.hist(logsigmasq_grad[:,1], bins=25, alpha=0.5, color=\"blue\")\n",
    "plt.grid(True)"
   ]
  },
  {
   "cell_type": "code",
   "execution_count": null,
   "metadata": {
    "collapsed": true
   },
   "outputs": [],
   "source": []
  },
  {
   "cell_type": "code",
   "execution_count": null,
   "metadata": {
    "collapsed": true
   },
   "outputs": [],
   "source": []
  }
 ],
 "metadata": {
  "kernelspec": {
   "display_name": "Python 3",
   "language": "python",
   "name": "python3"
  },
  "language_info": {
   "codemirror_mode": {
    "name": "ipython",
    "version": 3
   },
   "file_extension": ".py",
   "mimetype": "text/x-python",
   "name": "python",
   "nbconvert_exporter": "python",
   "pygments_lexer": "ipython3",
   "version": "3.6.2"
  }
 },
 "nbformat": 4,
 "nbformat_minor": 2
}
