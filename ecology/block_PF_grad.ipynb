{
 "cells": [
  {
   "cell_type": "code",
   "execution_count": 1,
   "metadata": {
    "collapsed": true
   },
   "outputs": [],
   "source": [
    "# Calling libraries:\n",
    "from __future__ import division\n",
    "%matplotlib inline\n",
    "import numpy as np, time, matplotlib.pyplot as plt, math, pandas, numpy.random as npr, multiprocessing as mp\n",
    "from pylab import plot, show, legend\n",
    "from time import time\n",
    "from scipy.stats import *\n",
    "from tqdm import trange\n",
    "from ecology_functions import *"
   ]
  },
  {
   "cell_type": "code",
   "execution_count": 2,
   "metadata": {
    "collapsed": true
   },
   "outputs": [],
   "source": [
    "T = 25\n",
    "I = 5   # number of locations\n",
    "J = 3   # number of species\n",
    "K = 2   # number of latent factors"
   ]
  },
  {
   "cell_type": "code",
   "execution_count": 3,
   "metadata": {
    "collapsed": true
   },
   "outputs": [],
   "source": [
    "lmbda = npr.randn(J,K)\n",
    "alpha = npr.randn(J)\n",
    "c = 0\n",
    "phi = 0.5\n",
    "logsigmasq = 0\n",
    "x_0 = npr.randn(I,K)\n",
    "\n",
    "theta = [alpha, lmbda, c, phi, logsigmasq]\n",
    "Y, X = simulate_data(x_0, T, J, theta)"
   ]
  },
  {
   "cell_type": "code",
   "execution_count": 4,
   "metadata": {},
   "outputs": [],
   "source": [
    "def f1(n_particles) :\n",
    "    return block_pf(Y, x_0, n_particles, theta, calc_grad=True)\n",
    "def f2(n_particles) :\n",
    "    return bootstrap_PF_grad(x_0, n_particles, theta, Y, calc_grad=True)\n",
    "\n",
    "n_particles = 1_000\n",
    "rep = 1000\n",
    "\n",
    "pool = mp.Pool(10)\n",
    "results1 = pool.map(f1, [n_particles for n_particles in [n_particles]*rep])\n",
    "results2 = pool.map(f2, [n_particles for n_particles in [n_particles]*rep])\n",
    "pool.close()\n",
    "\n",
    "logNC = np.zeros((rep,2))\n",
    "alpha_grad = np.zeros((rep,2,J))\n",
    "lmbda_grad = np.zeros((rep,2,J,K))\n",
    "c_grad = np.zeros((rep,2))\n",
    "phi_grad = np.zeros((rep,2))\n",
    "logsigmasq_grad = np.zeros((rep,2))\n",
    "\n",
    "for r in range(rep) :\n",
    "    alpha_grad[r,0], lmbda_grad[r,0], c_grad[r,0], phi_grad[r,0], logsigmasq_grad[r,0] = results1[r][1][:]\n",
    "    alpha_grad[r,1], lmbda_grad[r,1], c_grad[r,1], phi_grad[r,1], logsigmasq_grad[r,1] = results2[r][1][:]\n",
    "    logNC[r,0], logNC[r,1] = results1[r][0], results2[r][0]"
   ]
  },
  {
   "cell_type": "code",
   "execution_count": 7,
   "metadata": {},
   "outputs": [
    {
     "data": {
      "text/plain": [
       "array([-248.00593279, -338.14186729])"
      ]
     },
     "execution_count": 7,
     "metadata": {},
     "output_type": "execute_result"
    }
   ],
   "source": [
    "np.mean(logNC,0)"
   ]
  },
  {
   "cell_type": "code",
   "execution_count": 8,
   "metadata": {},
   "outputs": [
    {
     "data": {
      "text/plain": [
       "array([  2.8633466 , 139.57192297])"
      ]
     },
     "execution_count": 8,
     "metadata": {},
     "output_type": "execute_result"
    }
   ],
   "source": [
    "np.var(logNC,0)"
   ]
  },
  {
   "cell_type": "code",
   "execution_count": 5,
   "metadata": {},
   "outputs": [
    {
     "name": "stdout",
     "output_type": "stream",
     "text": [
      "[  3.0563794  154.95168727]\n",
      "[[[  1.40736353   2.53464999]\n",
      "  [  1.98843889   3.59685457]\n",
      "  [  0.84617704   1.71034298]]\n",
      "\n",
      " [[ 83.20163349 102.95416656]\n",
      "  [100.74971145 134.21086397]\n",
      "  [ 44.92385451  55.66198679]]]\n",
      "[ 40.00742894 730.07769037]\n",
      "[  5.21283183 108.99689849]\n"
     ]
    }
   ],
   "source": [
    "print(np.var(c_grad,0))\n",
    "print(np.var(lmbda_grad,0))\n",
    "print(np.var(phi_grad,0))\n",
    "print(np.var(logsigmasq_grad,0))"
   ]
  },
  {
   "cell_type": "code",
   "execution_count": 6,
   "metadata": {},
   "outputs": [
    {
     "name": "stdout",
     "output_type": "stream",
     "text": [
      "[-38.67488814  -1.20171077]\n",
      "[[[ 49.24509278  52.64589722]\n",
      "  [ 40.56625965 -15.43987376]\n",
      "  [ 47.35411864  16.22096097]]\n",
      "\n",
      " [[ 17.50422512  14.6935659 ]\n",
      "  [  9.38447678 -14.24399795]\n",
      "  [ 17.98122158   5.48682663]]]\n",
      "[-276.34439403 -207.73928256]\n",
      "[131.48563098 111.0083866 ]\n"
     ]
    }
   ],
   "source": [
    "print(np.mean(c_grad,0))\n",
    "print(np.mean(lmbda_grad,0))\n",
    "print(np.mean(phi_grad,0))\n",
    "print(np.mean(logsigmasq_grad,0))"
   ]
  },
  {
   "cell_type": "code",
   "execution_count": null,
   "metadata": {
    "collapsed": true
   },
   "outputs": [],
   "source": []
  }
 ],
 "metadata": {
  "kernelspec": {
   "display_name": "Python 3",
   "language": "python",
   "name": "python3"
  },
  "language_info": {
   "codemirror_mode": {
    "name": "ipython",
    "version": 3
   },
   "file_extension": ".py",
   "mimetype": "text/x-python",
   "name": "python",
   "nbconvert_exporter": "python",
   "pygments_lexer": "ipython3",
   "version": "3.6.2"
  }
 },
 "nbformat": 4,
 "nbformat_minor": 2
}
