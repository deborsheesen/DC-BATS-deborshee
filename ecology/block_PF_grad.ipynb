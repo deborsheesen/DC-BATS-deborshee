{
 "cells": [
  {
   "cell_type": "code",
   "execution_count": 1,
   "metadata": {
    "collapsed": true
   },
   "outputs": [],
   "source": [
    "# Calling libraries:\n",
    "from __future__ import division\n",
    "%matplotlib inline\n",
    "import numpy as np, time, matplotlib.pyplot as plt, math, pandas, numpy.random as npr, multiprocessing as mp\n",
    "from pylab import plot, show, legend\n",
    "from time import time\n",
    "from scipy.stats import *\n",
    "from tqdm import trange\n",
    "from ecology_functions import *"
   ]
  },
  {
   "cell_type": "code",
   "execution_count": 2,
   "metadata": {
    "collapsed": true
   },
   "outputs": [],
   "source": [
    "T = 25\n",
    "I = 20   # number of locations\n",
    "J = 10   # number of species\n",
    "K = 3    # number of latent factors"
   ]
  },
  {
   "cell_type": "code",
   "execution_count": 3,
   "metadata": {
    "collapsed": true
   },
   "outputs": [],
   "source": [
    "lmbda = npr.randn(J,K)\n",
    "alpha = npr.randn(J)\n",
    "c = 0\n",
    "phi = 0.5\n",
    "logsigmasq = 0\n",
    "x_0 = npr.randn(I,K)\n",
    "\n",
    "theta = [alpha, lmbda, c, phi, logsigmasq]\n",
    "Y, X = simulate_data(x_0, T, J, theta)"
   ]
  },
  {
   "cell_type": "code",
   "execution_count": 4,
   "metadata": {},
   "outputs": [],
   "source": [
    "def f1(n_particles) :\n",
    "    return block_pf(Y, x_0, n_particles, theta, calc_grad=True)\n",
    "def f2(n_particles) :\n",
    "    return bootstrap_PF_grad(x_0, n_particles, theta, Y, calc_grad=True)\n",
    "\n",
    "n_particles = 1_000\n",
    "rep = 1000\n",
    "\n",
    "pool = mp.Pool(10)\n",
    "results1 = pool.map(f1, [n_particles for n_particles in [n_particles]*rep])\n",
    "results2 = pool.map(f2, [n_particles for n_particles in [n_particles]*rep])\n",
    "pool.close()\n",
    "\n",
    "logNC = np.zeros((rep,2))\n",
    "alpha_grad = np.zeros((rep,2,J))\n",
    "lmbda_grad = np.zeros((rep,2,J,K))\n",
    "c_grad = np.zeros((rep,2))\n",
    "phi_grad = np.zeros((rep,2))\n",
    "logsigmasq_grad = np.zeros((rep,2))\n",
    "\n",
    "for r in range(rep) :\n",
    "    alpha_grad[r,0], lmbda_grad[r,0], c_grad[r,0], phi_grad[r,0], logsigmasq_grad[r,0] = results1[r][1][:]\n",
    "    alpha_grad[r,1], lmbda_grad[r,1], c_grad[r,1], phi_grad[r,1], logsigmasq_grad[r,1] = results2[r][1][:]\n",
    "    logNC[r,0], logNC[r,1] = results1[r][0], results2[r][0]"
   ]
  },
  {
   "cell_type": "code",
   "execution_count": 5,
   "metadata": {},
   "outputs": [
    {
     "data": {
      "text/plain": [
       "array([-4038.82316579, -4280.07584349])"
      ]
     },
     "execution_count": 5,
     "metadata": {},
     "output_type": "execute_result"
    }
   ],
   "source": [
    "np.mean(logNC,0)"
   ]
  },
  {
   "cell_type": "code",
   "execution_count": 6,
   "metadata": {},
   "outputs": [
    {
     "data": {
      "text/plain": [
       "array([ 410.96816669, 2497.20956229])"
      ]
     },
     "execution_count": 6,
     "metadata": {},
     "output_type": "execute_result"
    }
   ],
   "source": [
    "np.var(logNC,0)"
   ]
  },
  {
   "cell_type": "code",
   "execution_count": 9,
   "metadata": {},
   "outputs": [
    {
     "name": "stdout",
     "output_type": "stream",
     "text": [
      "[ 7.60406677 33.00066336]\n",
      "[[[ 7.67214168  7.89160039  6.86553293]\n",
      "  [ 8.72019056  8.76156772  7.81139023]\n",
      "  [ 6.83955723  6.72119467  6.06613229]\n",
      "  [ 4.97058784  5.40031735  4.75846344]\n",
      "  [ 6.98412465  6.75198973  6.17081996]\n",
      "  [ 6.22806712  6.1680913   5.5798064 ]\n",
      "  [ 6.25663223  6.09188505  5.71907828]\n",
      "  [ 4.21272545  4.01761066  3.87048863]\n",
      "  [ 7.88507505  7.86292638  6.98545776]\n",
      "  [ 6.73112375  6.9540601   6.0811405 ]]\n",
      "\n",
      " [[28.63348901 28.52809549 27.23829453]\n",
      "  [33.11338872 33.48791184 31.29732037]\n",
      "  [24.90011778 25.17014617 24.82465881]\n",
      "  [18.42133001 18.5465374  18.28063931]\n",
      "  [25.66420316 25.1417399  24.63808518]\n",
      "  [21.85383972 21.87825636 21.60388805]\n",
      "  [22.42471972 21.59183868 21.07885495]\n",
      "  [14.38679239 14.36641679 14.41711782]\n",
      "  [30.08667871 29.91420073 29.50412729]\n",
      "  [24.63010879 24.53963932 24.2763335 ]]]\n",
      "[38.63820598 70.41565889]\n",
      "[12.33858575 25.18442888]\n"
     ]
    }
   ],
   "source": [
    "print(np.std(c_grad,0))\n",
    "print(np.std(lmbda_grad,0))\n",
    "print(np.std(phi_grad,0))\n",
    "print(np.std(logsigmasq_grad,0))"
   ]
  },
  {
   "cell_type": "code",
   "execution_count": 8,
   "metadata": {},
   "outputs": [
    {
     "name": "stdout",
     "output_type": "stream",
     "text": [
      "[167.25301673   4.84151891]\n",
      "[[[-180.21496336 -130.77985243  134.82400373]\n",
      "  [-300.38597622   16.79930834   27.03930288]\n",
      "  [-144.83202458  200.95086309  104.98083303]\n",
      "  [-223.29552057   39.97221456  202.79235604]\n",
      "  [ -21.16673834  130.82874509  -47.20462179]\n",
      "  [-136.20934042  159.7564703   -87.00254737]\n",
      "  [-166.98577695    4.60138076 -203.48442738]\n",
      "  [ -98.57783608  113.53763944  -90.59093147]\n",
      "  [-286.89614424  197.17691284   22.2334617 ]\n",
      "  [-200.2159464   -33.108026     28.48098087]]\n",
      "\n",
      " [[  -7.51639921  -29.32801208   30.13932908]\n",
      "  [  -9.46839529  -11.8373004    18.06001267]\n",
      "  [  10.34518572   21.61450452   21.15223673]\n",
      "  [ -20.06940379   -6.78475559   36.61260559]\n",
      "  [  29.28067141   19.20410893    1.31420296]\n",
      "  [   7.10390166   17.77597788   -3.15225854]\n",
      "  [  -6.61387302   -6.86397386  -19.25716459]\n",
      "  [   1.75771104   10.50218464   -9.0164809 ]\n",
      "  [  -4.34838309   13.76439304   16.75596578]\n",
      "  [  -6.30836069  -12.51741274   14.89878397]]]\n",
      "[-2389.83801838 -1313.86999009]\n",
      "[968.69327976 700.79966582]\n"
     ]
    }
   ],
   "source": [
    "print(np.mean(c_grad,0))\n",
    "print(np.mean(lmbda_grad,0))\n",
    "print(np.mean(phi_grad,0))\n",
    "print(np.mean(logsigmasq_grad,0))"
   ]
  },
  {
   "cell_type": "code",
   "execution_count": 13,
   "metadata": {},
   "outputs": [
    {
     "data": {
      "image/png": "[encoded data removed]",
      "text/plain": [
       "<Figure size 432x288 with 1 Axes>"
      ]
     },
     "metadata": {},
     "output_type": "display_data"
    }
   ],
   "source": [
    "plt.hist(c_grad[:,0])\n",
    "plt.hist(c_grad[:,1]);"
   ]
  },
  {
   "cell_type": "code",
   "execution_count": 14,
   "metadata": {},
   "outputs": [
    {
     "data": {
      "image/png": "[encoded data removed]",
      "text/plain": [
       "<Figure size 432x288 with 1 Axes>"
      ]
     },
     "metadata": {},
     "output_type": "display_data"
    }
   ],
   "source": [
    "plt.hist(phi_grad[:,0])\n",
    "plt.hist(phi_grad[:,1]);"
   ]
  },
  {
   "cell_type": "code",
   "execution_count": 15,
   "metadata": {},
   "outputs": [
    {
     "data": {
      "image/png": "[encoded data removed]",
      "text/plain": [
       "<Figure size 432x288 with 1 Axes>"
      ]
     },
     "metadata": {},
     "output_type": "display_data"
    }
   ],
   "source": [
    "plt.hist(logsigmasq_grad[:,0])\n",
    "plt.hist(logsigmasq_grad[:,1]);"
   ]
  },
  {
   "cell_type": "code",
   "execution_count": null,
   "metadata": {
    "collapsed": true
   },
   "outputs": [],
   "source": []
  }
 ],
 "metadata": {
  "kernelspec": {
   "display_name": "Python 3",
   "language": "python",
   "name": "python3"
  },
  "language_info": {
   "codemirror_mode": {
    "name": "ipython",
    "version": 3
   },
   "file_extension": ".py",
   "mimetype": "text/x-python",
   "name": "python",
   "nbconvert_exporter": "python",
   "pygments_lexer": "ipython3",
   "version": "3.6.2"
  }
 },
 "nbformat": 4,
 "nbformat_minor": 2
}
