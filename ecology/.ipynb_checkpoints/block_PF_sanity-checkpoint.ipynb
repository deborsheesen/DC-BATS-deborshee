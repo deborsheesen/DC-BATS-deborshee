{
 "cells": [
  {
   "cell_type": "code",
   "execution_count": 1,
   "metadata": {
    "collapsed": true
   },
   "outputs": [],
   "source": [
    "# Calling libraries:\n",
    "from __future__ import division\n",
    "%matplotlib inline\n",
    "import numpy as np, time, matplotlib.pyplot as plt, math, pandas, numpy.random as npr, multiprocessing as mp\n",
    "from pylab import plot, show, legend\n",
    "from time import time\n",
    "from scipy.stats import *\n",
    "from tqdm import trange\n",
    "from ecology_functions import *"
   ]
  },
  {
   "cell_type": "code",
   "execution_count": 12,
   "metadata": {
    "collapsed": true
   },
   "outputs": [],
   "source": [
    "T = 100\n",
    "I = 10   # number of locations\n",
    "J = 5    # number of species\n",
    "K = 3    # number of latent factors"
   ]
  },
  {
   "cell_type": "code",
   "execution_count": 13,
   "metadata": {
    "collapsed": true
   },
   "outputs": [],
   "source": [
    "lmbda = npr.randn(J,K)\n",
    "alpha = npr.randn(J)\n",
    "c = 0\n",
    "phi = 0.5\n",
    "logsigmasq = 0\n",
    "x_0 = npr.randn(I,K)\n",
    "\n",
    "theta = [alpha, lmbda, c, phi, logsigmasq]\n",
    "Y, X = simulate_data(x_0, T, J, theta)"
   ]
  },
  {
   "cell_type": "code",
   "execution_count": 14,
   "metadata": {
    "collapsed": true
   },
   "outputs": [],
   "source": [
    "def f1(n_particles) :\n",
    "    return block_pf(Y, x_0, n_particles, theta, calc_grad=True)\n",
    "def f2(n_particles) :\n",
    "    return bootstrap_PF_grad(x_0, n_particles, theta, Y, calc_grad=True)\n",
    "\n",
    "n_particles = 1000\n",
    "rep = 500\n",
    "\n",
    "pool = mp.Pool(10)\n",
    "results1 = pool.map(f1, [n_particles for n_particles in [n_particles]*rep])\n",
    "results2 = pool.map(f2, [n_particles for n_particles in [n_particles]*rep])\n",
    "pool.close()\n",
    "\n",
    "logNC = np.zeros((rep,2))\n",
    "alpha_grad = np.zeros((rep,2,J))\n",
    "lmbda_grad = np.zeros((rep,2,J,K))\n",
    "c_grad = np.zeros((rep,2))\n",
    "phi_grad = np.zeros((rep,2))\n",
    "logsigmasq_grad = np.zeros((rep,2))\n",
    "\n",
    "for r in range(rep) :\n",
    "    alpha_grad[r,0], lmbda_grad[r,0], c_grad[r,0], phi_grad[r,0], logsigmasq_grad[r,0] = results1[r][1][:]\n",
    "    alpha_grad[r,1], lmbda_grad[r,1], c_grad[r,1], phi_grad[r,1], logsigmasq_grad[r,1] = results2[r][1][:]\n",
    "    logNC[r,0], logNC[r,1] = results1[r][0], results2[r][0]"
   ]
  },
  {
   "cell_type": "code",
   "execution_count": 15,
   "metadata": {},
   "outputs": [
    {
     "name": "stdout",
     "output_type": "stream",
     "text": [
      "[-3016.13470912 -3040.29476335]\n",
      "[ 67.06403683 102.90374187]\n"
     ]
    }
   ],
   "source": [
    "print(np.mean(logNC,0))\n",
    "print(np.var(logNC,0))"
   ]
  },
  {
   "cell_type": "code",
   "execution_count": null,
   "metadata": {},
   "outputs": [],
   "source": [
    "print(np.std(c_grad,0)/np.std(c_grad,1))\n",
    "print(np.std(alpha_grad,0))\n",
    "print(np.std(lmbda_grad,0))\n",
    "print(np.std(phi_grad,0))\n",
    "print(np.std(logsigmasq_grad,0))"
   ]
  },
  {
   "cell_type": "code",
   "execution_count": 17,
   "metadata": {},
   "outputs": [
    {
     "name": "stdout",
     "output_type": "stream",
     "text": [
      "[27.74536824 30.54985573]\n",
      "[[-667. -464. -868. -526. -497.]\n",
      " [-667. -464. -868. -526. -497.]]\n",
      "[[[-7.37080258e+00  8.82742848e+01 -2.93166807e+01]\n",
      "  [-9.24812357e+01  2.68153747e+02 -1.76040661e+02]\n",
      "  [-1.35689481e+02 -3.87726313e+01  4.01066951e+01]\n",
      "  [-2.83412889e+02 -9.07914797e+01  7.22041631e+00]\n",
      "  [-2.09599896e+02  1.50943551e+01 -2.84533045e+02]]\n",
      "\n",
      " [[-1.03019695e+01  5.98507328e+01 -2.64686673e+01]\n",
      "  [-8.80155751e+01  2.20228797e+02 -1.57531259e+02]\n",
      "  [-1.05837962e+02 -4.20789247e+01  2.92354518e+01]\n",
      "  [-2.23734639e+02 -7.70363244e+01 -1.38474478e-01]\n",
      "  [-1.79274699e+02  2.36417319e+01 -2.35166877e+02]]]\n",
      "[-3000.27383261 -2696.78182602]\n",
      "[1485.71974666 1414.45111388]\n"
     ]
    }
   ],
   "source": [
    "print(np.mean(c_grad,0))\n",
    "print(np.mean(alpha_grad,0))\n",
    "print(np.mean(lmbda_grad,0))\n",
    "print(np.mean(phi_grad,0))\n",
    "print(np.mean(logsigmasq_grad,0))"
   ]
  },
  {
   "cell_type": "code",
   "execution_count": 18,
   "metadata": {},
   "outputs": [
    {
     "data": {
      "image/png": "[encoded data removed]",
      "text/plain": [
       "<Figure size 720x360 with 15 Axes>"
      ]
     },
     "metadata": {},
     "output_type": "display_data"
    }
   ],
   "source": [
    "fig = plt.rcParams['figure.figsize'] = (10, 5)\n",
    "for k in range(K) :\n",
    "    for j in range(J) :\n",
    "        idx = k*J + j + 1\n",
    "        plt.subplot(K,J,idx)\n",
    "        plt.hist(lmbda_grad[:,0,j,k], bins=25, alpha=0.5, color=\"red\")\n",
    "        plt.hist(lmbda_grad[:,1,j,k], bins=25, alpha=0.5, color=\"blue\")\n",
    "        plt.grid(True)"
   ]
  },
  {
   "cell_type": "code",
   "execution_count": 19,
   "metadata": {},
   "outputs": [
    {
     "data": {
      "image/png": "[encoded data removed]",
      "text/plain": [
       "<Figure size 864x216 with 3 Axes>"
      ]
     },
     "metadata": {},
     "output_type": "display_data"
    }
   ],
   "source": [
    "fig = plt.rcParams['figure.figsize'] = (12, 3)\n",
    "plt.subplot(131)\n",
    "plt.hist(c_grad[:,0], bins=25, alpha=0.5, color=\"red\")\n",
    "plt.hist(c_grad[:,1], bins=25, alpha=0.5, color=\"blue\")\n",
    "plt.grid(True)\n",
    "plt.subplot(132)\n",
    "plt.hist(phi_grad[:,0], bins=25, alpha=0.5, color=\"red\")\n",
    "plt.hist(phi_grad[:,1], bins=25, alpha=0.5, color=\"blue\")\n",
    "plt.grid(True)\n",
    "plt.subplot(133)\n",
    "plt.hist(logsigmasq_grad[:,0], bins=25, alpha=0.5, color=\"red\")\n",
    "plt.hist(logsigmasq_grad[:,1], bins=25, alpha=0.5, color=\"blue\")\n",
    "plt.grid(True)"
   ]
  },
  {
   "cell_type": "code",
   "execution_count": null,
   "metadata": {
    "collapsed": true
   },
   "outputs": [],
   "source": []
  },
  {
   "cell_type": "code",
   "execution_count": null,
   "metadata": {
    "collapsed": true
   },
   "outputs": [],
   "source": []
  }
 ],
 "metadata": {
  "kernelspec": {
   "display_name": "Python 3",
   "language": "python",
   "name": "python3"
  },
  "language_info": {
   "codemirror_mode": {
    "name": "ipython",
    "version": 3
   },
   "file_extension": ".py",
   "mimetype": "text/x-python",
   "name": "python",
   "nbconvert_exporter": "python",
   "pygments_lexer": "ipython3",
   "version": "3.6.2"
  }
 },
 "nbformat": 4,
 "nbformat_minor": 2
}
