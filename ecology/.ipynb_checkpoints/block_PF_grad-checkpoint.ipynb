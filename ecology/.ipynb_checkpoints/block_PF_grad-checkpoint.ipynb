{
 "cells": [
  {
   "cell_type": "code",
   "execution_count": 1,
   "metadata": {
    "collapsed": true
   },
   "outputs": [],
   "source": [
    "# Calling libraries:\n",
    "from __future__ import division\n",
    "%matplotlib inline\n",
    "import numpy as np, time, matplotlib.pyplot as plt, math, pandas, numpy.random as npr, multiprocessing as mp\n",
    "from pylab import plot, show, legend\n",
    "from time import time\n",
    "from scipy.stats import *\n",
    "from tqdm import trange\n",
    "from ecology_functions import *"
   ]
  },
  {
   "cell_type": "code",
   "execution_count": 2,
   "metadata": {
    "collapsed": true
   },
   "outputs": [],
   "source": [
    "T = 100\n",
    "I = 5   # number of locations\n",
    "J = 3   # number of species\n",
    "K = 2    # number of latent factors"
   ]
  },
  {
   "cell_type": "code",
   "execution_count": 3,
   "metadata": {},
   "outputs": [],
   "source": [
    "lmbda = npr.randn(J,K)\n",
    "alpha = npr.randn(J)\n",
    "c = 0\n",
    "phi = 0.5\n",
    "logsigmasq = 0\n",
    "x_0 = npr.randn(I,K)\n",
    "\n",
    "theta = [alpha, lmbda, c, phi, logsigmasq]\n",
    "Y, X = simulate_data(x_0, T, J, theta)"
   ]
  },
  {
   "cell_type": "code",
   "execution_count": 4,
   "metadata": {},
   "outputs": [],
   "source": [
    "def f1(n_particles) :\n",
    "    return block_pf(Y, x_0, n_particles, theta, calc_grad=True)\n",
    "def f2(n_particles) :\n",
    "    return bootstrap_PF_grad(x_0, n_particles, theta, Y, calc_grad=True)\n",
    "\n",
    "n_particles = 1_000\n",
    "rep = 500\n",
    "\n",
    "pool = mp.Pool(10)\n",
    "results1 = pool.map(f1, [n_particles for n_particles in [n_particles]*rep])\n",
    "results2 = pool.map(f2, [n_particles for n_particles in [n_particles]*rep])\n",
    "pool.close()\n",
    "\n",
    "logNC = np.zeros((rep,2))\n",
    "alpha_grad = np.zeros((rep,2,J))\n",
    "lmbda_grad = np.zeros((rep,2,J,K))\n",
    "c_grad = np.zeros((rep,2))\n",
    "phi_grad = np.zeros((rep,2))\n",
    "logsigmasq_grad = np.zeros((rep,2))\n",
    "\n",
    "for r in range(rep) :\n",
    "    alpha_grad[r,0], lmbda_grad[r,0], c_grad[r,0], phi_grad[r,0], logsigmasq_grad[r,0] = results1[r][1][:]\n",
    "    alpha_grad[r,1], lmbda_grad[r,1], c_grad[r,1], phi_grad[r,1], logsigmasq_grad[r,1] = results2[r][1][:]\n",
    "    logNC[r,0], logNC[r,1] = results1[r][0], results2[r][0]"
   ]
  },
  {
   "cell_type": "code",
   "execution_count": 5,
   "metadata": {},
   "outputs": [
    {
     "data": {
      "text/plain": [
       "array([-3455.409796  , -1489.85476591])"
      ]
     },
     "execution_count": 5,
     "metadata": {},
     "output_type": "execute_result"
    }
   ],
   "source": [
    "np.mean(logNC,0)"
   ]
  },
  {
   "cell_type": "code",
   "execution_count": 6,
   "metadata": {},
   "outputs": [
    {
     "data": {
      "text/plain": [
       "array([   3.05288226, 1070.48404932])"
      ]
     },
     "execution_count": 6,
     "metadata": {},
     "output_type": "execute_result"
    }
   ],
   "source": [
    "np.var(logNC,0)"
   ]
  },
  {
   "cell_type": "code",
   "execution_count": 14,
   "metadata": {},
   "outputs": [
    {
     "name": "stdout",
     "output_type": "stream",
     "text": [
      "[ 0.         24.50666216]\n",
      "[[1.97681111e-13 1.82391213e-13 1.94836985e-13]\n",
      " [4.13044793e-14 2.43831102e-14 2.47121819e-14]]\n",
      "[[[ 6.72680015  5.02439457]\n",
      "  [ 5.89928046  4.42984801]\n",
      "  [ 7.23020871  4.98590312]]\n",
      "\n",
      " [[25.66375336 22.14999862]\n",
      "  [21.48939332 19.79908407]\n",
      "  [24.96053558 22.0966974 ]]]\n",
      "[ 0.         62.91987775]\n",
      "[ 0.        20.9403263]\n"
     ]
    }
   ],
   "source": [
    "print(np.std(c_grad,0))\n",
    "print(np.std(alpha_grad,0))\n",
    "print(np.std(lmbda_grad,0))\n",
    "print(np.std(phi_grad,0))\n",
    "print(np.std(logsigmasq_grad,0))"
   ]
  },
  {
   "cell_type": "code",
   "execution_count": 8,
   "metadata": {},
   "outputs": [
    {
     "name": "stdout",
     "output_type": "stream",
     "text": [
      "[[-257. -214. -247.]\n",
      " [-257. -214. -247.]]\n",
      "[[[  61.03412759   91.37975077]\n",
      "  [ 106.70427788   40.68455096]\n",
      "  [ -93.09217936 -231.62308917]]\n",
      "\n",
      " [[  17.41241391   31.94153533]\n",
      "  [  20.26870241   20.40063067]\n",
      "  [ -30.98479451  -56.94416521]]]\n"
     ]
    }
   ],
   "source": [
    "# print(np.mean(c_grad,0))\n",
    "print(np.mean(alpha_grad,0))\n",
    "print(np.mean(lmbda_grad,0))\n",
    "# print(np.mean(phi_grad,0))\n",
    "# print(np.mean(logsigmasq_grad,0))"
   ]
  },
  {
   "cell_type": "code",
   "execution_count": 12,
   "metadata": {},
   "outputs": [
    {
     "data": {
      "image/png": "[encoded data removed]",
      "text/plain": [
       "<Figure size 720x360 with 6 Axes>"
      ]
     },
     "metadata": {},
     "output_type": "display_data"
    }
   ],
   "source": [
    "fig = plt.rcParams['figure.figsize'] = (10, 5)\n",
    "for k in range(K) :\n",
    "    for j in range(J) :\n",
    "        idx = k*J + j + 1\n",
    "        plt.subplot(K,J,idx)\n",
    "        plt.hist(lmbda_grad[:,0,j,k], bins=25, alpha=0.5, color=\"red\")\n",
    "        plt.hist(lmbda_grad[:,1,j,k], bins=25, alpha=0.5, color=\"blue\")\n",
    "        plt.grid(True)"
   ]
  },
  {
   "cell_type": "code",
   "execution_count": null,
   "metadata": {
    "collapsed": true
   },
   "outputs": [],
   "source": []
  },
  {
   "cell_type": "code",
   "execution_count": 12,
   "metadata": {},
   "outputs": [
    {
     "data": {
      "image/png": "[encoded data removed]",
      "text/plain": [
       "<Figure size 432x288 with 1 Axes>"
      ]
     },
     "metadata": {},
     "output_type": "display_data"
    }
   ],
   "source": [
    "plt.hist(phi_grad[:,0])\n",
    "plt.hist(phi_grad[:,1]);"
   ]
  },
  {
   "cell_type": "code",
   "execution_count": 13,
   "metadata": {},
   "outputs": [
    {
     "data": {
      "image/png": "[encoded data removed]",
      "text/plain": [
       "<Figure size 432x288 with 1 Axes>"
      ]
     },
     "metadata": {},
     "output_type": "display_data"
    }
   ],
   "source": [
    "plt.hist(logsigmasq_grad[:,0])\n",
    "plt.hist(logsigmasq_grad[:,1]);"
   ]
  },
  {
   "cell_type": "code",
   "execution_count": null,
   "metadata": {
    "collapsed": true
   },
   "outputs": [],
   "source": []
  },
  {
   "cell_type": "code",
   "execution_count": null,
   "metadata": {
    "collapsed": true
   },
   "outputs": [],
   "source": []
  }
 ],
 "metadata": {
  "kernelspec": {
   "display_name": "Python 3",
   "language": "python",
   "name": "python3"
  },
  "language_info": {
   "codemirror_mode": {
    "name": "ipython",
    "version": 3
   },
   "file_extension": ".py",
   "mimetype": "text/x-python",
   "name": "python",
   "nbconvert_exporter": "python",
   "pygments_lexer": "ipython3",
   "version": "3.6.2"
  }
 },
 "nbformat": 4,
 "nbformat_minor": 2
}
