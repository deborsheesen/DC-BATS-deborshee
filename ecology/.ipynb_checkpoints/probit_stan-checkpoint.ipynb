{
 "cells": [
  {
   "cell_type": "markdown",
   "metadata": {},
   "source": [
    "### Model:\n",
    "\n",
    "* $I$ species observed at $J$ locations over time.\n",
    "\n",
    "* $Y_{tij} = 1$ if species $j$ (for $j=1,\\dots,J$) is observed at location $i$ (for $i=1,\\dots,I$) at time $t$, and zero otherwise.\n",
    "\n",
    "* Assume latent factors $X_t \\in \\mathbb{R}^{I \\times K}$; $X_t= X_{tik}$, $i=1,\\dots,I$, $k=1,\\dots,K$.\n",
    "\n",
    "* $X_{ti} \\in \\mathbb{R}^K$ are $K$ latent factors at location $i$. Model assumes that there are some latent factors such as food, water, sunlight etc.\n",
    "\n",
    "* Logit model:\n",
    "\\begin{equation}\n",
    "\\mathrm{P}(Y_{tij} = 1) = \\frac{1}{1+\\exp\\{-(\\alpha + \\lambda^\\top_j X_{ti})\\}},\n",
    "\\quad \n",
    "i = 1, \\dots, I, ~ j = 1, \\dots, J,\n",
    "\\end{equation}\n",
    "where $\\lambda_j \\in \\mathbb{R}^K$ for $j=1,\\dots,J$ are the effects of the latent factors on species $j$ (for example, how much food does a species need, how much water do they need, etc).\n",
    "\n",
    "* Assume basic auto-regressive model for $X_t$:\n",
    "\\begin{equation*}\n",
    "X_t = c + \\phi X_{t-1} + \\varepsilon_t, \\quad \\varepsilon_t \\stackrel{\\text{i.i.d.}}{\\sim} \\mathcal{N}(0,\\sigma^2).\n",
    "\\end{equation*}\n"
   ]
  },
  {
   "cell_type": "code",
   "execution_count": 1,
   "metadata": {
    "collapsed": true
   },
   "outputs": [],
   "source": [
    "# Calling libraries:\n",
    "from __future__ import division\n",
    "%matplotlib inline\n",
    "import numpy as np, time, matplotlib.pyplot as plt, math, pandas, numpy.random as npr, pystan as ps\n",
    "from pylab import plot, show, legend\n",
    "from time import time\n",
    "from scipy.stats import *\n",
    "from tqdm import trange\n",
    "from ecology_functions import *"
   ]
  },
  {
   "cell_type": "code",
   "execution_count": 2,
   "metadata": {
    "scrolled": false
   },
   "outputs": [
    {
     "name": "stderr",
     "output_type": "stream",
     "text": [
      "INFO:pystan:COMPILING THE C++ CODE FOR MODEL anon_model_0c0104b6b4be93e42f274f728064cb04 NOW.\n"
     ]
    }
   ],
   "source": [
    "sm = ps.StanModel(file=\"ecology_unknownX.stan\")"
   ]
  },
  {
   "cell_type": "code",
   "execution_count": 3,
   "metadata": {
    "collapsed": true
   },
   "outputs": [],
   "source": [
    "T = 100\n",
    "I = 5  # number of locations\n",
    "J = 3 # number of species\n",
    "K = 2  # number of latent factors"
   ]
  },
  {
   "cell_type": "code",
   "execution_count": 4,
   "metadata": {
    "collapsed": true
   },
   "outputs": [],
   "source": [
    "lmbda = npr.randn(J,K)\n",
    "alpha = npr.randn(J)\n",
    "c = 0\n",
    "phi = 0.5\n",
    "logsigmasq = 0\n",
    "x_0 = npr.randn(I,K)\n",
    "\n",
    "theta = [alpha, lmbda, c, phi, logsigmasq]\n",
    "Y, X = simulate_data(x_0, T, J, theta)"
   ]
  },
  {
   "cell_type": "code",
   "execution_count": 5,
   "metadata": {},
   "outputs": [
    {
     "name": "stderr",
     "output_type": "stream",
     "text": [
      "WARNING:pystan:Maximum (flat) parameter count (1000) exceeded: skipping diagnostic tests for n_eff and Rhat.\n",
      "To run all diagnostics call pystan.check_hmc_diagnostics(fit)\n",
      "WARNING:pystan:1 of 2500 iterations saturated the maximum tree depth of 10 (0.04 %)\n",
      "WARNING:pystan:Run again with max_treedepth larger than 10 to avoid saturation\n"
     ]
    },
    {
     "name": "stdout",
     "output_type": "stream",
     "text": [
      "0.66 minutes to run\n"
     ]
    }
   ],
   "source": [
    "data_pow1 = dict(T=T, I=I, J=J, K=K, y=Y, x_0=x_0, pr_sigma=1, pow_obs=1, pow_lat=1, c=c, phi=phi, logsigmasq=logsigmasq)\n",
    "n_chains = 10\n",
    "start = time()\n",
    "fit_pow1 = sm.sampling(data=data_pow1, thin=1, n_jobs=min(10,n_chains), chains=n_chains, init=\"random\", iter=500)\n",
    "print(round((time()-start)/60,2), \"minutes to run\")\n",
    "trace_pow1 = fit_pow1.extract()"
   ]
  },
  {
   "cell_type": "code",
   "execution_count": 6,
   "metadata": {},
   "outputs": [
    {
     "name": "stderr",
     "output_type": "stream",
     "text": [
      "WARNING:pystan:Maximum (flat) parameter count (1000) exceeded: skipping diagnostic tests for n_eff and Rhat.\n",
      "To run all diagnostics call pystan.check_hmc_diagnostics(fit)\n"
     ]
    },
    {
     "name": "stdout",
     "output_type": "stream",
     "text": [
      "0.37 minutes to run\n"
     ]
    }
   ],
   "source": [
    "data_pow5 = dict(T=T, I=I, J=J, K=K, y=Y, x_0=x_0, pr_sigma=1, pow_obs=5, pow_lat=5, c=c, phi=phi, logsigmasq=logsigmasq)\n",
    "n_chains = 10\n",
    "start = time()\n",
    "fit_pow5 = sm.sampling(data=data_pow5, thin=1, n_jobs=min(10,n_chains), chains=n_chains, init=\"random\", iter=500)\n",
    "print(round((time()-start)/60,2), \"minutes to run\")\n",
    "trace_pow5 = fit_pow5.extract()"
   ]
  },
  {
   "cell_type": "raw",
   "metadata": {},
   "source": [
    "plt.figure(figsize=(18,3))\n",
    "for j in range(J) :\n",
    "    plt.subplot(1,J,j+1)\n",
    "    plt.plot(trace_pow1['alpha'][:,j])\n",
    "    plt.axhline(y=alpha[j], color=\"red\")\n",
    "    plt.grid(True)"
   ]
  },
  {
   "cell_type": "raw",
   "metadata": {},
   "source": [
    "plt.figure(figsize=(18,3))\n",
    "for j in range(J) :\n",
    "    plt.subplot(1,J,j+1)\n",
    "    plt.plot(trace_pow5['alpha'][:,j])\n",
    "    plt.axhline(y=alpha[j], color=\"red\")\n",
    "    plt.grid(True)"
   ]
  },
  {
   "cell_type": "code",
   "execution_count": 7,
   "metadata": {
    "collapsed": true
   },
   "outputs": [],
   "source": [
    "def plot_lmbda_corr(trace, j1, j2) :\n",
    "    n_mcmc, J, K = np.shape(trace['lmbda'])\n",
    "    corrs = np.zeros((n_mcmc, J, J))\n",
    "    for jj1 in range(J) :\n",
    "        for jj2 in range(J) :\n",
    "            corrs[:,jj1,jj2] = np.sum(trace['lmbda'][:,jj1]*trace['lmbda'][:,jj2],axis=1)/\\\n",
    "                    (np.linalg.norm(trace['lmbda'][:,jj1],axis=1)*np.linalg.norm(trace['lmbda'][:,jj2],axis=1))\n",
    "    plt.plot(corrs[:,j1,j2])\n",
    "    plt.grid(True)\n",
    "    return corrs"
   ]
  },
  {
   "cell_type": "code",
   "execution_count": 8,
   "metadata": {},
   "outputs": [
    {
     "data": {
      "image/png": "[encoded data removed]",
      "text/plain": [
       "<Figure size 864x288 with 2 Axes>"
      ]
     },
     "metadata": {},
     "output_type": "display_data"
    }
   ],
   "source": [
    "j1, j2 = 1, 2\n",
    "plt.rcParams['figure.figsize'] = (12, 4)\n",
    "plt.subplot(121)\n",
    "corr_pow1 = plot_lmbda_corr(trace_pow1, j1, j2) \n",
    "plt.title(\"Power = 1\")\n",
    "plt.subplot(122)\n",
    "corr_pow1 = plot_lmbda_corr(trace_pow5, j1, j2) \n",
    "plt.title(\"Power = 5\");"
   ]
  },
  {
   "cell_type": "code",
   "execution_count": null,
   "metadata": {
    "collapsed": true
   },
   "outputs": [],
   "source": []
  },
  {
   "cell_type": "code",
   "execution_count": 35,
   "metadata": {
    "collapsed": true
   },
   "outputs": [],
   "source": [
    "n_mcmc = np.shape(trace['X'])[0]"
   ]
  },
  {
   "cell_type": "code",
   "execution_count": 36,
   "metadata": {},
   "outputs": [
    {
     "name": "stderr",
     "output_type": "stream",
     "text": [
      "100%|██████████| 5000/5000 [00:03<00:00, 1627.57it/s]\n"
     ]
    }
   ],
   "source": [
    "reg_coeff = np.zeros((n_mcmc,T,J,I))\n",
    "for i in trange(n_mcmc) :\n",
    "    for t in range(T) :\n",
    "        for j in range(J) : \n",
    "            reg_coeff[i,t,j,:] = trace['alpha'][i,j] + trace['lambda'][i,j].dot(trace['X'][i,t].transpose())"
   ]
  },
  {
   "cell_type": "code",
   "execution_count": 39,
   "metadata": {
    "collapsed": true
   },
   "outputs": [],
   "source": [
    "# plt.rcParams['figure.figsize'] = (18, 15)\n",
    "# j = npr.choice(J)\n",
    "# i = npr.choice(I)\n",
    "# for (idx,t) in enumerate(npr.choice(T,10)) :\n",
    "#     plt.subplot(10,1,idx+1)\n",
    "#     plt.plot(reg_coeff[:,t,j,i])\n",
    "#     plt.xlim(0,n_mcmc+1)\n",
    "#     plt.grid(True)\n",
    "#     plt.xticks(alpha=0)\n",
    "#     plt.subplots_adjust(hspace=0)"
   ]
  },
  {
   "cell_type": "code",
   "execution_count": 38,
   "metadata": {},
   "outputs": [
    {
     "data": {
      "text/plain": [
       "array([[0.2230708 , 0.2265439 , 0.2129623 ],\n",
       "       [0.75100662, 0.558046  , 0.84012658]])"
      ]
     },
     "execution_count": 38,
     "metadata": {},
     "output_type": "execute_result"
    }
   ],
   "source": [
    "# power = 1\n",
    "np.var(reg_coeff,0)[-1]"
   ]
  },
  {
   "cell_type": "code",
   "execution_count": null,
   "metadata": {
    "collapsed": true
   },
   "outputs": [],
   "source": []
  },
  {
   "cell_type": "code",
   "execution_count": null,
   "metadata": {
    "collapsed": true
   },
   "outputs": [],
   "source": []
  },
  {
   "cell_type": "code",
   "execution_count": 14,
   "metadata": {},
   "outputs": [
    {
     "data": {
      "text/plain": [
       "array([[0.12293606, 0.12815401, 0.12286223],\n",
       "       [0.58147578, 0.48997655, 0.67175516]])"
      ]
     },
     "execution_count": 14,
     "metadata": {},
     "output_type": "execute_result"
    }
   ],
   "source": [
    "# power = 1\n",
    "np.var(reg_coeff,0)[-1]"
   ]
  },
  {
   "cell_type": "code",
   "execution_count": null,
   "metadata": {
    "collapsed": true
   },
   "outputs": [],
   "source": []
  }
 ],
 "metadata": {
  "kernelspec": {
   "display_name": "Python 3",
   "language": "python",
   "name": "python3"
  },
  "language_info": {
   "codemirror_mode": {
    "name": "ipython",
    "version": 3
   },
   "file_extension": ".py",
   "mimetype": "text/x-python",
   "name": "python",
   "nbconvert_exporter": "python",
   "pygments_lexer": "ipython3",
   "version": "3.6.2"
  }
 },
 "nbformat": 4,
 "nbformat_minor": 2
}
