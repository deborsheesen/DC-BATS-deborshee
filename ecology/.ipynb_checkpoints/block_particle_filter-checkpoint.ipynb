{
 "cells": [
  {
   "cell_type": "markdown",
   "metadata": {},
   "source": [
    "### Block particle filter\n",
    "\n",
    "* Algorithm 2 of https://projecteuclid.org/download/pdfview_1/euclid.aoap/1438261054"
   ]
  },
  {
   "cell_type": "code",
   "execution_count": 1,
   "metadata": {
    "collapsed": true
   },
   "outputs": [],
   "source": [
    "# Calling libraries:\n",
    "from __future__ import division\n",
    "%matplotlib inline\n",
    "import numpy as np, time, matplotlib.pyplot as plt, math, pandas, numpy.random as npr, multiprocessing as mp, timeit\n",
    "from pylab import plot, show, legend\n",
    "from time import time\n",
    "from scipy.stats import *\n",
    "from tqdm import trange\n",
    "from ecology_functions import *"
   ]
  },
  {
   "cell_type": "code",
   "execution_count": 2,
   "metadata": {
    "collapsed": true
   },
   "outputs": [],
   "source": [
    "T = 200\n",
    "I = 20  # number of locations\n",
    "J = 10  # number of species\n",
    "K = 3   # number of latent factors"
   ]
  },
  {
   "cell_type": "code",
   "execution_count": 3,
   "metadata": {
    "collapsed": true
   },
   "outputs": [],
   "source": [
    "lmbda = npr.randn(J,K)\n",
    "alpha = npr.randn(J)\n",
    "c = 0\n",
    "phi = 0.5\n",
    "logsigmasq = 0\n",
    "x_0 = npr.randn(I,K)\n",
    "\n",
    "theta = [alpha, lmbda, c, phi, logsigmasq]\n",
    "Y, X = simulate_data(x_0, T, J, theta)"
   ]
  },
  {
   "cell_type": "code",
   "execution_count": 4,
   "metadata": {},
   "outputs": [
    {
     "name": "stdout",
     "output_type": "stream",
     "text": [
      "20.8 s ± 21 ms per loop (mean ± std. dev. of 7 runs, 1 loop each)\n",
      "3.17 s ± 8.17 ms per loop (mean ± std. dev. of 7 runs, 1 loop each)\n"
     ]
    }
   ],
   "source": [
    "n_particles = 1000\n",
    "%timeit block_pf(Y, x_0, n_particles, theta, calc_grad=True)\n",
    "%timeit bootstrap_PF_grad(x_0, n_particles, theta, Y, calc_grad=True)\n",
    "%timeit block_pf(Y, x_0, n_particles, theta, calc_grad=False)\n",
    "%timeit bootstrap_PF_grad(x_0, n_particles, theta, Y, calc_grad=False)"
   ]
  },
  {
   "cell_type": "code",
   "execution_count": 4,
   "metadata": {},
   "outputs": [
    {
     "name": "stdout",
     "output_type": "stream",
     "text": [
      "-31350.649151685546\n",
      "-36098.453216892914\n"
     ]
    }
   ],
   "source": [
    "n_particles = 2000\n",
    "logNC, grad, particles, weights = block_pf(Y, x_0, n_particles, theta, calc_grad=True)\n",
    "print(logNC)\n",
    "logNC, grad, particles, weights = bootstrap_PF_grad(x_0, n_particles, theta, Y, calc_grad=True)\n",
    "print(logNC)"
   ]
  },
  {
   "cell_type": "code",
   "execution_count": 10,
   "metadata": {},
   "outputs": [
    {
     "data": {
      "text/plain": [
       "-85.98063988535276"
      ]
     },
     "execution_count": 10,
     "metadata": {},
     "output_type": "execute_result"
    }
   ],
   "source": [
    "logNC"
   ]
  },
  {
   "cell_type": "raw",
   "metadata": {},
   "source": [
    "# tracking:\n",
    "plt.rcParams['figure.figsize'] = (18, 25)\n",
    "for i in range(I) :\n",
    "    for k in range(K) :\n",
    "        idx = i*K + k + 1\n",
    "        plt.subplot(I,K,idx)\n",
    "        ci_block = np.percentile(particles_block[1:,:,i,k], axis=1, q=[2.5,97.5])\n",
    "        ci_bootstrap = np.percentile(particles_bootstrap[1:,i,k,:], axis=1, q=[2.5,97.5])\n",
    "        plt.rcParams['figure.figsize'] = (16, 3.5)\n",
    "        plt.plot(np.arange(1,T+1), X[1:,i,k], 'bo-', markersize=3, lw=0.5)\n",
    "        plt.fill_between(np.arange(1,T+1), ci_block[0], ci_block[1], color='red', alpha=.3)\n",
    "        plt.fill_between(np.arange(1,T+1), ci_bootstrap[0], ci_bootstrap[1], color='green', alpha=.3)\n",
    "        plt.grid(True)\n",
    "        plt.xlim(0,T+1)\n",
    "        if i < (I-1) : plt.xticks(alpha=0)\n",
    "        if k == (K-1) : plt.yticks(alpha=0)\n",
    "        plt.subplots_adjust(hspace=0,wspace=0)"
   ]
  },
  {
   "cell_type": "code",
   "execution_count": 4,
   "metadata": {
    "collapsed": true
   },
   "outputs": [],
   "source": [
    "n_particles = 1000\n",
    "particles = np.zeros((*np.shape(x_0),n_particles))\n",
    "y = Y[1]"
   ]
  },
  {
   "cell_type": "code",
   "execution_count": 8,
   "metadata": {},
   "outputs": [
    {
     "name": "stdout",
     "output_type": "stream",
     "text": [
      "23.9 ms ± 155 µs per loop (mean ± std. dev. of 7 runs, 10 loops each)\n",
      "11.4 ms ± 30.1 µs per loop (mean ± std. dev. of 7 runs, 100 loops each)\n",
      "11.4 ms ± 19.2 µs per loop (mean ± std. dev. of 7 runs, 100 loops each)\n"
     ]
    }
   ],
   "source": [
    "%timeit potential1(y, particles, theta)\n",
    "%timeit potential2(y, particles, theta)\n",
    "%timeit potential3(y, particles, theta)"
   ]
  },
  {
   "cell_type": "code",
   "execution_count": 6,
   "metadata": {
    "collapsed": true
   },
   "outputs": [],
   "source": [
    "weights = npr.rand(n_particles,I)\n",
    "weights /= np.sum(weights,0)"
   ]
  },
  {
   "cell_type": "code",
   "execution_count": 10,
   "metadata": {},
   "outputs": [
    {
     "name": "stdout",
     "output_type": "stream",
     "text": [
      "26.3 ms ± 118 µs per loop (mean ± std. dev. of 7 runs, 10 loops each)\n"
     ]
    }
   ],
   "source": [
    "%timeit (weights.cumsum(0) > npr.rand(n_particles,weights.shape[1])[:,None]).argmax(1)"
   ]
  },
  {
   "cell_type": "code",
   "execution_count": 11,
   "metadata": {},
   "outputs": [
    {
     "name": "stdout",
     "output_type": "stream",
     "text": [
      "1.99 ms ± 15.8 µs per loop (mean ± std. dev. of 7 runs, 100 loops each)\n"
     ]
    }
   ],
   "source": [
    "resampled_idx = np.zeros((n_particles,I)).astype(int)\n",
    "%timeit for i in range(I) : resampled_idx[:,i] = npr.choice(a=n_particles,size=n_particles,p=weights[:,i])"
   ]
  },
  {
   "cell_type": "code",
   "execution_count": 12,
   "metadata": {},
   "outputs": [
    {
     "name": "stdout",
     "output_type": "stream",
     "text": [
      "96.5 µs ± 269 ns per loop (mean ± std. dev. of 7 runs, 10000 loops each)\n"
     ]
    }
   ],
   "source": [
    "%timeit r_idx = npr.choice(a=n_particles,size=n_particles,p=weights[:,0])"
   ]
  },
  {
   "cell_type": "code",
   "execution_count": null,
   "metadata": {
    "collapsed": true
   },
   "outputs": [],
   "source": []
  }
 ],
 "metadata": {
  "kernelspec": {
   "display_name": "Python 3",
   "language": "python",
   "name": "python3"
  },
  "language_info": {
   "codemirror_mode": {
    "name": "ipython",
    "version": 3
   },
   "file_extension": ".py",
   "mimetype": "text/x-python",
   "name": "python",
   "nbconvert_exporter": "python",
   "pygments_lexer": "ipython3",
   "version": "3.6.2"
  }
 },
 "nbformat": 4,
 "nbformat_minor": 2
}
