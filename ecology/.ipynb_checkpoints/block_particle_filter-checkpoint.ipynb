{
 "cells": [
  {
   "cell_type": "markdown",
   "metadata": {},
   "source": [
    "### Block particle filter\n",
    "\n",
    "* Algorithm 2 of https://projecteuclid.org/download/pdfview_1/euclid.aoap/1438261054"
   ]
  },
  {
   "cell_type": "code",
   "execution_count": 1,
   "metadata": {
    "collapsed": true
   },
   "outputs": [],
   "source": [
    "# Calling libraries:\n",
    "from __future__ import division\n",
    "%matplotlib inline\n",
    "import numpy as np, time, matplotlib.pyplot as plt, math, pandas, numpy.random as npr, multiprocessing as mp, timeit\n",
    "from pylab import plot, show, legend\n",
    "from time import time\n",
    "from scipy.stats import *\n",
    "from tqdm import trange\n",
    "from ecology_functions import *"
   ]
  },
  {
   "cell_type": "code",
   "execution_count": 11,
   "metadata": {
    "collapsed": true
   },
   "outputs": [],
   "source": [
    "T = 100\n",
    "I = 5  # number of locations\n",
    "J = 3  # number of species\n",
    "K = 2   # number of latent factors"
   ]
  },
  {
   "cell_type": "code",
   "execution_count": 12,
   "metadata": {
    "collapsed": true
   },
   "outputs": [],
   "source": [
    "lmbda = npr.randn(J,K)\n",
    "alpha = npr.randn(J)\n",
    "c = 0\n",
    "phi = 0.5\n",
    "logsigmasq = 0\n",
    "x_0 = npr.randn(I,K)\n",
    "\n",
    "theta = [alpha, lmbda, c, phi, logsigmasq]\n",
    "Y, X = simulate_data(x_0, T, J, theta)"
   ]
  },
  {
   "cell_type": "code",
   "execution_count": 13,
   "metadata": {},
   "outputs": [],
   "source": [
    "# n_particles = 1000\n",
    "# %timeit block_pf(Y, x_0, n_particles, theta, calc_grad=True)\n",
    "# %timeit bootstrap_PF_grad(x_0, n_particles, theta, Y, calc_grad=True)\n",
    "# %timeit block_pf(Y, x_0, n_particles, theta, calc_grad=False)\n",
    "# %timeit bootstrap_PF_grad(x_0, n_particles, theta, Y, calc_grad=False)"
   ]
  },
  {
   "cell_type": "code",
   "execution_count": 14,
   "metadata": {},
   "outputs": [],
   "source": [
    "# n_particles = 5000\n",
    "# %timeit block_pf(Y, x_0, n_particles, theta, calc_grad=True)\n",
    "# %timeit bootstrap_PF_grad(x_0, n_particles, theta, Y, calc_grad=True)\n",
    "# %timeit block_pf(Y, x_0, n_particles, theta, calc_grad=False)\n",
    "# %timeit bootstrap_PF_grad(x_0, n_particles, theta, Y, calc_grad=False)"
   ]
  },
  {
   "cell_type": "code",
   "execution_count": 15,
   "metadata": {},
   "outputs": [],
   "source": [
    "def f_block(n_particles) :\n",
    "    return block_pf(Y, x_0, n_particles, theta, True)\n",
    "def f_bootstrap(n_particles) :\n",
    "    return bootstrap_PF_grad(x_0, n_particles, theta, Y, True)\n",
    "\n",
    "n_particles = 1000\n",
    "rep = 100\n",
    "\n",
    "pool = mp.Pool(10)\n",
    "results_block = pool.map(f_block, [n_particles for n_particles in [n_particles]*rep])\n",
    "results_bootstrap = pool.map(f_bootstrap, [n_particles for n_particles in [n_particles]*rep])\n",
    "pool.close()\n",
    "\n",
    "alpha_grad, lmbda_grad, logNC = np.zeros((rep,2,J)), np.zeros((rep,2,J,K)), np.zeros((rep,2))\n",
    "for r in range(rep) :\n",
    "    logNC[r,0], logNC[r,1] = results_block[r][0], results_bootstrap[r][0]\n",
    "    alpha_grad[r,0], lmbda_grad[r,0] = results_block[r][1][0:2]\n",
    "    alpha_grad[r,1], lmbda_grad[r,1] = results_bootstrap[r][1][0:2]"
   ]
  },
  {
   "cell_type": "code",
   "execution_count": 16,
   "metadata": {},
   "outputs": [
    {
     "name": "stdout",
     "output_type": "stream",
     "text": [
      "[-993.90254923 -989.67801153]\n",
      "[1.89439439 2.81238958]\n"
     ]
    }
   ],
   "source": [
    "print(np.mean(logNC, 0))\n",
    "print(np.var(logNC, 0))"
   ]
  },
  {
   "cell_type": "code",
   "execution_count": 35,
   "metadata": {
    "collapsed": true
   },
   "outputs": [],
   "source": [
    "def local_potential(y, particles, theta) :\n",
    "    alpha, lmbda, c, phi, logsigmasq = theta[:]\n",
    "    n_particles, I, K = np.shape(particles)\n",
    "    J = np.shape(y)[1]\n",
    "    reg = np.zeros((J,I,n_particles))\n",
    "    for j in range(J) :\n",
    "        reg[j] = alpha[j] + np.sum(np.reshape(lmbda[j],(K,1,1))*particles.transpose(), 0)\n",
    "    prob = 1/(1+np.exp(-reg))\n",
    "    yy = np.reshape(y.transpose(), (J,I,1))\n",
    "    return reg, np.prod((prob**yy)*(1-prob)**(1-yy),0).transpose()"
   ]
  },
  {
   "cell_type": "code",
   "execution_count": 38,
   "metadata": {},
   "outputs": [],
   "source": [
    "def potential(y, particles, theta) :\n",
    "    alpha, lmbda, c, phi, logsigmasq = theta[:]\n",
    "    I, K, n_particles = np.shape(particles)\n",
    "    J = np.shape(y)[1]\n",
    "    reg = np.zeros((J,n_particles,I))\n",
    "    for j in range(J) :\n",
    "        reg[j] = alpha[j] + lmbda[j].dot(particles.transpose())\n",
    "    prob = (1/(1+np.exp(-reg))).transpose()\n",
    "    pp = np.swapaxes(prob,1,2)\n",
    "    yy = np.reshape(y, (I,J,1))\n",
    "    return reg, np.prod((pp**yy)*(1-pp)**(1-yy), (0,1))"
   ]
  },
  {
   "cell_type": "code",
   "execution_count": 45,
   "metadata": {},
   "outputs": [],
   "source": [
    "y = Y[10]\n",
    "n_particles = 20\n",
    "particles = npr.randn(I,K,n_particles)\n",
    "reg, pot_bootstrap = potential(y, particles, theta)\n",
    "reg_local, local_pot = local_potential(y, np.swapaxes(particles.transpose(),1,2), theta)"
   ]
  },
  {
   "cell_type": "code",
   "execution_count": 46,
   "metadata": {},
   "outputs": [
    {
     "data": {
      "text/plain": [
       "array([-0.0154922 ,  0.32211979,  0.43991461,  0.23553548,  0.35159856,\n",
       "        0.03744872,  0.39201042,  0.10957998, -0.01353184,  0.36004803,\n",
       "        0.27273345,  0.10833845,  0.16397107,  0.0435453 ,  0.00853719,\n",
       "        0.10201182, -0.00342929,  0.06354898, -0.13825717,  0.06100649])"
      ]
     },
     "execution_count": 46,
     "metadata": {},
     "output_type": "execute_result"
    }
   ],
   "source": [
    "np.log(np.prod(local_pot,1)) - np.log(pot_bootstrap)"
   ]
  },
  {
   "cell_type": "code",
   "execution_count": 50,
   "metadata": {
    "scrolled": true
   },
   "outputs": [
    {
     "data": {
      "text/plain": [
       "array([[[-0.12811721, -0.12811721, -0.12811721, -0.12811721,\n",
       "         -0.12811721, -0.12811721, -0.12811721, -0.12811721,\n",
       "         -0.12811721, -0.12811721, -0.12811721, -0.12811721,\n",
       "         -0.12811721, -0.12811721, -0.12811721, -0.12811721,\n",
       "         -0.12811721, -0.12811721, -0.12811721, -0.12811721],\n",
       "        [-0.12811721, -0.12811721, -0.12811721, -0.12811721,\n",
       "         -0.12811721, -0.12811721, -0.12811721, -0.12811721,\n",
       "         -0.12811721, -0.12811721, -0.12811721, -0.12811721,\n",
       "         -0.12811721, -0.12811721, -0.12811721, -0.12811721,\n",
       "         -0.12811721, -0.12811721, -0.12811721, -0.12811721],\n",
       "        [-0.12811721, -0.12811721, -0.12811721, -0.12811721,\n",
       "         -0.12811721, -0.12811721, -0.12811721, -0.12811721,\n",
       "         -0.12811721, -0.12811721, -0.12811721, -0.12811721,\n",
       "         -0.12811721, -0.12811721, -0.12811721, -0.12811721,\n",
       "         -0.12811721, -0.12811721, -0.12811721, -0.12811721],\n",
       "        [-0.12811721, -0.12811721, -0.12811721, -0.12811721,\n",
       "         -0.12811721, -0.12811721, -0.12811721, -0.12811721,\n",
       "         -0.12811721, -0.12811721, -0.12811721, -0.12811721,\n",
       "         -0.12811721, -0.12811721, -0.12811721, -0.12811721,\n",
       "         -0.12811721, -0.12811721, -0.12811721, -0.12811721],\n",
       "        [-0.12811721, -0.12811721, -0.12811721, -0.12811721,\n",
       "         -0.12811721, -0.12811721, -0.12811721, -0.12811721,\n",
       "         -0.12811721, -0.12811721, -0.12811721, -0.12811721,\n",
       "         -0.12811721, -0.12811721, -0.12811721, -0.12811721,\n",
       "         -0.12811721, -0.12811721, -0.12811721, -0.12811721]],\n",
       "\n",
       "       [[ 0.24196471,  0.24196471,  0.24196471,  0.24196471,\n",
       "          0.24196471,  0.24196471,  0.24196471,  0.24196471,\n",
       "          0.24196471,  0.24196471,  0.24196471,  0.24196471,\n",
       "          0.24196471,  0.24196471,  0.24196471,  0.24196471,\n",
       "          0.24196471,  0.24196471,  0.24196471,  0.24196471],\n",
       "        [ 0.24196471,  0.24196471,  0.24196471,  0.24196471,\n",
       "          0.24196471,  0.24196471,  0.24196471,  0.24196471,\n",
       "          0.24196471,  0.24196471,  0.24196471,  0.24196471,\n",
       "          0.24196471,  0.24196471,  0.24196471,  0.24196471,\n",
       "          0.24196471,  0.24196471,  0.24196471,  0.24196471],\n",
       "        [ 0.24196471,  0.24196471,  0.24196471,  0.24196471,\n",
       "          0.24196471,  0.24196471,  0.24196471,  0.24196471,\n",
       "          0.24196471,  0.24196471,  0.24196471,  0.24196471,\n",
       "          0.24196471,  0.24196471,  0.24196471,  0.24196471,\n",
       "          0.24196471,  0.24196471,  0.24196471,  0.24196471],\n",
       "        [ 0.24196471,  0.24196471,  0.24196471,  0.24196471,\n",
       "          0.24196471,  0.24196471,  0.24196471,  0.24196471,\n",
       "          0.24196471,  0.24196471,  0.24196471,  0.24196471,\n",
       "          0.24196471,  0.24196471,  0.24196471,  0.24196471,\n",
       "          0.24196471,  0.24196471,  0.24196471,  0.24196471],\n",
       "        [ 0.24196471,  0.24196471,  0.24196471,  0.24196471,\n",
       "          0.24196471,  0.24196471,  0.24196471,  0.24196471,\n",
       "          0.24196471,  0.24196471,  0.24196471,  0.24196471,\n",
       "          0.24196471,  0.24196471,  0.24196471,  0.24196471,\n",
       "          0.24196471,  0.24196471,  0.24196471,  0.24196471]],\n",
       "\n",
       "       [[-0.3232195 , -0.3232195 , -0.3232195 , -0.3232195 ,\n",
       "         -0.3232195 , -0.3232195 , -0.3232195 , -0.3232195 ,\n",
       "         -0.3232195 , -0.3232195 , -0.3232195 , -0.3232195 ,\n",
       "         -0.3232195 , -0.3232195 , -0.3232195 , -0.3232195 ,\n",
       "         -0.3232195 , -0.3232195 , -0.3232195 , -0.3232195 ],\n",
       "        [-0.3232195 , -0.3232195 , -0.3232195 , -0.3232195 ,\n",
       "         -0.3232195 , -0.3232195 , -0.3232195 , -0.3232195 ,\n",
       "         -0.3232195 , -0.3232195 , -0.3232195 , -0.3232195 ,\n",
       "         -0.3232195 , -0.3232195 , -0.3232195 , -0.3232195 ,\n",
       "         -0.3232195 , -0.3232195 , -0.3232195 , -0.3232195 ],\n",
       "        [-0.3232195 , -0.3232195 , -0.3232195 , -0.3232195 ,\n",
       "         -0.3232195 , -0.3232195 , -0.3232195 , -0.3232195 ,\n",
       "         -0.3232195 , -0.3232195 , -0.3232195 , -0.3232195 ,\n",
       "         -0.3232195 , -0.3232195 , -0.3232195 , -0.3232195 ,\n",
       "         -0.3232195 , -0.3232195 , -0.3232195 , -0.3232195 ],\n",
       "        [-0.3232195 , -0.3232195 , -0.3232195 , -0.3232195 ,\n",
       "         -0.3232195 , -0.3232195 , -0.3232195 , -0.3232195 ,\n",
       "         -0.3232195 , -0.3232195 , -0.3232195 , -0.3232195 ,\n",
       "         -0.3232195 , -0.3232195 , -0.3232195 , -0.3232195 ,\n",
       "         -0.3232195 , -0.3232195 , -0.3232195 , -0.3232195 ],\n",
       "        [-0.3232195 , -0.3232195 , -0.3232195 , -0.3232195 ,\n",
       "         -0.3232195 , -0.3232195 , -0.3232195 , -0.3232195 ,\n",
       "         -0.3232195 , -0.3232195 , -0.3232195 , -0.3232195 ,\n",
       "         -0.3232195 , -0.3232195 , -0.3232195 , -0.3232195 ,\n",
       "         -0.3232195 , -0.3232195 , -0.3232195 , -0.3232195 ]]])"
      ]
     },
     "execution_count": 50,
     "metadata": {},
     "output_type": "execute_result"
    }
   ],
   "source": [
    "np.swapaxes(reg,1,2) - reg_local"
   ]
  },
  {
   "cell_type": "code",
   "execution_count": 51,
   "metadata": {},
   "outputs": [
    {
     "data": {
      "text/plain": [
       "array([ 0.12811721, -0.24196471,  0.3232195 ])"
      ]
     },
     "execution_count": 51,
     "metadata": {},
     "output_type": "execute_result"
    }
   ],
   "source": [
    "alpha"
   ]
  },
  {
   "cell_type": "code",
   "execution_count": null,
   "metadata": {
    "collapsed": true
   },
   "outputs": [],
   "source": []
  },
  {
   "cell_type": "code",
   "execution_count": null,
   "metadata": {
    "collapsed": true
   },
   "outputs": [],
   "source": []
  },
  {
   "cell_type": "markdown",
   "metadata": {},
   "source": [
    "### Something strange. This should have worked. Double-check!\n"
   ]
  },
  {
   "cell_type": "code",
   "execution_count": null,
   "metadata": {
    "collapsed": true
   },
   "outputs": [],
   "source": []
  },
  {
   "cell_type": "raw",
   "metadata": {},
   "source": [
    "# tracking:\n",
    "plt.rcParams['figure.figsize'] = (18, 25)\n",
    "for i in range(I) :\n",
    "    for k in range(K) :\n",
    "        idx = i*K + k + 1\n",
    "        plt.subplot(I,K,idx)\n",
    "        ci_block = np.percentile(particles_block[1:,:,i,k], axis=1, q=[2.5,97.5])\n",
    "        ci_bootstrap = np.percentile(particles_bootstrap[1:,i,k,:], axis=1, q=[2.5,97.5])\n",
    "        plt.rcParams['figure.figsize'] = (16, 3.5)\n",
    "        plt.plot(np.arange(1,T+1), X[1:,i,k], 'bo-', markersize=3, lw=0.5)\n",
    "        plt.fill_between(np.arange(1,T+1), ci_block[0], ci_block[1], color='red', alpha=.3)\n",
    "        plt.fill_between(np.arange(1,T+1), ci_bootstrap[0], ci_bootstrap[1], color='green', alpha=.3)\n",
    "        plt.grid(True)\n",
    "        plt.xlim(0,T+1)\n",
    "        if i < (I-1) : plt.xticks(alpha=0)\n",
    "        if k == (K-1) : plt.yticks(alpha=0)\n",
    "        plt.subplots_adjust(hspace=0,wspace=0)"
   ]
  },
  {
   "cell_type": "code",
   "execution_count": 6,
   "metadata": {
    "collapsed": true
   },
   "outputs": [],
   "source": [
    "n_particles = 1000\n",
    "particles = npr.randn(n_particles,I,K) \n",
    "propagated_particles = npr.randn(*np.shape(particles))\n",
    "y = Y[1]"
   ]
  },
  {
   "cell_type": "code",
   "execution_count": 7,
   "metadata": {},
   "outputs": [
    {
     "name": "stdout",
     "output_type": "stream",
     "text": [
      "131 µs ± 250 ns per loop (mean ± std. dev. of 7 runs, 10000 loops each)\n",
      "2.43 ms ± 7.05 µs per loop (mean ± std. dev. of 7 runs, 100 loops each)\n",
      "240 µs ± 1.52 µs per loop (mean ± std. dev. of 7 runs, 1000 loops each)\n",
      "303 µs ± 992 ns per loop (mean ± std. dev. of 7 runs, 1000 loops each)\n",
      "269 µs ± 688 ns per loop (mean ± std. dev. of 7 runs, 1000 loops each)\n"
     ]
    }
   ],
   "source": [
    "%timeit alpha_grad_blockPF(y, theta, propagated_particles, particles)\n",
    "%timeit lmbda_grad_blockPF(y, theta, propagated_particles, particles)\n",
    "%timeit c_grad_blockPF(y, theta, propagated_particles, particles)\n",
    "%timeit phi_grad_blockPF(y, theta, propagated_particles, particles)\n",
    "%timeit logsigmasq_grad_blockPF(y, theta, propagated_particles, particles)"
   ]
  },
  {
   "cell_type": "code",
   "execution_count": null,
   "metadata": {
    "collapsed": true
   },
   "outputs": [],
   "source": []
  }
 ],
 "metadata": {
  "kernelspec": {
   "display_name": "Python 3",
   "language": "python",
   "name": "python3"
  },
  "language_info": {
   "codemirror_mode": {
    "name": "ipython",
    "version": 3
   },
   "file_extension": ".py",
   "mimetype": "text/x-python",
   "name": "python",
   "nbconvert_exporter": "python",
   "pygments_lexer": "ipython3",
   "version": "3.6.2"
  }
 },
 "nbformat": 4,
 "nbformat_minor": 2
}
