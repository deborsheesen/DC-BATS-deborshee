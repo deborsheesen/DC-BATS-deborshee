{
 "cells": [
  {
   "cell_type": "markdown",
   "metadata": {},
   "source": [
    "### Block particle filter\n",
    "\n",
    "* Algorithm 2 of https://projecteuclid.org/download/pdfview_1/euclid.aoap/1438261054"
   ]
  },
  {
   "cell_type": "code",
   "execution_count": 1,
   "metadata": {
    "collapsed": true
   },
   "outputs": [],
   "source": [
    "# Calling libraries:\n",
    "from __future__ import division\n",
    "%matplotlib inline\n",
    "import numpy as np, time, matplotlib.pyplot as plt, math, pandas, numpy.random as npr, multiprocessing as mp\n",
    "from pylab import plot, show, legend\n",
    "from time import time\n",
    "from scipy.stats import *\n",
    "from tqdm import trange\n",
    "from ecology_functions import *"
   ]
  },
  {
   "cell_type": "code",
   "execution_count": 2,
   "metadata": {
    "collapsed": true
   },
   "outputs": [],
   "source": [
    "T = 50\n",
    "I = 20  # number of locations\n",
    "J = 10  # number of species\n",
    "K = 2   # number of latent factors"
   ]
  },
  {
   "cell_type": "code",
   "execution_count": 3,
   "metadata": {
    "collapsed": true
   },
   "outputs": [],
   "source": [
    "lmbda = npr.randn(J,K)\n",
    "alpha = npr.randn(J)\n",
    "c = 0\n",
    "phi = 0.5\n",
    "logsigmasq = 0\n",
    "x_0 = npr.randn(I,K)\n",
    "\n",
    "theta = [alpha, lmbda, c, phi, logsigmasq]\n",
    "Y, X = simulate_data(x_0, T, J, theta)"
   ]
  },
  {
   "cell_type": "raw",
   "metadata": {},
   "source": [
    "plt.rcParams['figure.figsize'] = (18, 25)\n",
    "for i in range(I) :\n",
    "    for k in range(K) :\n",
    "        idx = i*K + k + 1\n",
    "        plt.subplot(I,K,idx)\n",
    "        ci_block = np.percentile(particles_block[1:,:,i,k], axis=1, q=[2.5,97.5])\n",
    "        ci_bootstrap = np.percentile(particles_bootstrap[1:,i,k,:], axis=1, q=[2.5,97.5])\n",
    "        plt.rcParams['figure.figsize'] = (16, 3.5)\n",
    "        plt.plot(np.arange(1,T+1), X[1:,i,k], 'bo-', markersize=3, lw=0.5)\n",
    "        plt.fill_between(np.arange(1,T+1), ci_block[0], ci_block[1], color='red', alpha=.3)\n",
    "        plt.fill_between(np.arange(1,T+1), ci_bootstrap[0], ci_bootstrap[1], color='green', alpha=.3)\n",
    "        plt.grid(True)\n",
    "        plt.xlim(0,T+1)\n",
    "        if i < (I-1) : plt.xticks(alpha=0)\n",
    "        if k == (K-1) : plt.yticks(alpha=0)\n",
    "        plt.subplots_adjust(hspace=0,wspace=0)"
   ]
  },
  {
   "cell_type": "code",
   "execution_count": 4,
   "metadata": {},
   "outputs": [],
   "source": [
    "# n_particles = 1_000\n",
    "# particles_block, weights_block = block_pf(Y, x_0, n_particles, theta)\n",
    "# _, particles_bootstrap, weights_bootstrap = bootstrap_pf_track(Y, x_0, n_particles, theta)\n",
    "# _, p_bpf, w_bpf = bootstrap_pf_track(Y, x_0, n_particles, theta)"
   ]
  },
  {
   "cell_type": "code",
   "execution_count": 5,
   "metadata": {},
   "outputs": [
    {
     "name": "stderr",
     "output_type": "stream",
     "text": [
      "  0%|          | 0/50 [00:00<?, ?it/s]\n"
     ]
    },
    {
     "ename": "NameError",
     "evalue": "name 'propagated_particles' is not defined",
     "output_type": "error",
     "traceback": [
      "\u001b[0;31m---------------------------------------------------------------------------\u001b[0m",
      "\u001b[0;31mNameError\u001b[0m                                 Traceback (most recent call last)",
      "\u001b[0;32m<ipython-input-5-fcf38434c24f>\u001b[0m in \u001b[0;36m<module>\u001b[0;34m()\u001b[0m\n\u001b[1;32m      1\u001b[0m \u001b[0mn_particles\u001b[0m \u001b[0;34m=\u001b[0m \u001b[0;36m1_000\u001b[0m\u001b[0;34m\u001b[0m\u001b[0m\n\u001b[0;32m----> 2\u001b[0;31m \u001b[0mparticles\u001b[0m\u001b[0;34m,\u001b[0m \u001b[0mweights\u001b[0m\u001b[0;34m,\u001b[0m \u001b[0mgrad\u001b[0m \u001b[0;34m=\u001b[0m \u001b[0mblock_pf\u001b[0m\u001b[0;34m(\u001b[0m\u001b[0mY\u001b[0m\u001b[0;34m,\u001b[0m \u001b[0mx_0\u001b[0m\u001b[0;34m,\u001b[0m \u001b[0mn_particles\u001b[0m\u001b[0;34m,\u001b[0m \u001b[0mtheta\u001b[0m\u001b[0;34m)\u001b[0m\u001b[0;34m\u001b[0m\u001b[0m\n\u001b[0m",
      "\u001b[0;32m~/Desktop/codes/DC-BATS/ecology/ecology_functions.py\u001b[0m in \u001b[0;36mblock_pf\u001b[0;34m(Y, x_0, n_particles, theta, calc_grad)\u001b[0m\n\u001b[1;32m    250\u001b[0m             \u001b[0mparticles\u001b[0m\u001b[0;34m[\u001b[0m\u001b[0mt\u001b[0m\u001b[0;34m+\u001b[0m\u001b[0;36m1\u001b[0m\u001b[0;34m,\u001b[0m\u001b[0;34m:\u001b[0m\u001b[0;34m,\u001b[0m\u001b[0mi\u001b[0m\u001b[0;34m]\u001b[0m \u001b[0;34m=\u001b[0m \u001b[0mparticles\u001b[0m\u001b[0;34m[\u001b[0m\u001b[0mt\u001b[0m\u001b[0;34m+\u001b[0m\u001b[0;36m1\u001b[0m\u001b[0;34m,\u001b[0m\u001b[0mresampled_idx\u001b[0m\u001b[0;34m,\u001b[0m\u001b[0mi\u001b[0m\u001b[0;34m]\u001b[0m\u001b[0;34m\u001b[0m\u001b[0m\n\u001b[1;32m    251\u001b[0m         \u001b[0;32mif\u001b[0m \u001b[0mcalc_grad\u001b[0m \u001b[0;34m:\u001b[0m\u001b[0;34m\u001b[0m\u001b[0m\n\u001b[0;32m--> 252\u001b[0;31m             \u001b[0mgrad\u001b[0m \u001b[0;34m=\u001b[0m \u001b[0mupdate_gradient\u001b[0m\u001b[0;34m(\u001b[0m\u001b[0mgrad\u001b[0m\u001b[0;34m,\u001b[0m \u001b[0mY\u001b[0m\u001b[0;34m[\u001b[0m\u001b[0mt\u001b[0m\u001b[0;34m]\u001b[0m\u001b[0;34m,\u001b[0m \u001b[0mpropagated_particles\u001b[0m\u001b[0;34m,\u001b[0m \u001b[0mparticles\u001b[0m\u001b[0;34m,\u001b[0m \u001b[0mresampled_idx\u001b[0m\u001b[0;34m,\u001b[0m \u001b[0mtheta\u001b[0m\u001b[0;34m)\u001b[0m\u001b[0;34m\u001b[0m\u001b[0m\n\u001b[0m\u001b[1;32m    253\u001b[0m \u001b[0;34m\u001b[0m\u001b[0m\n\u001b[1;32m    254\u001b[0m     \u001b[0;32mreturn\u001b[0m \u001b[0mparticles\u001b[0m\u001b[0;34m,\u001b[0m \u001b[0mweights\u001b[0m\u001b[0;34m,\u001b[0m \u001b[0mgrad\u001b[0m\u001b[0;34m\u001b[0m\u001b[0m\n",
      "\u001b[0;31mNameError\u001b[0m: name 'propagated_particles' is not defined"
     ]
    }
   ],
   "source": [
    "n_particles = 1_000\n",
    "particles, weights, grad = block_pf(Y, x_0, n_particles, theta)"
   ]
  },
  {
   "cell_type": "code",
   "execution_count": 11,
   "metadata": {
    "collapsed": true
   },
   "outputs": [],
   "source": [
    "calc_grad = True\n",
    "\n",
    "T, I, J = np.shape(Y)\n",
    "K = np.shape(x_0)[-1]\n",
    "particles = np.zeros((T+1,n_particles,I,K))  \n",
    "particles[0] = x_0\n",
    "weights = np.ones((n_particles,I))/n_particles\n",
    "resampled_idx = np.zeros((n_particles,I)).astype(int)\n",
    "alpha, lmbda, c, phi, logsigmasq = theta[:]\n",
    "\n",
    "if calc_grad : \n",
    "    grad = [np.zeros((n_particles,*np.shape(alpha),I)), np.zeros((n_particles,*np.shape(lmbda),I)), \\\n",
    "            np.zeros((n_particles,I)), np.zeros((n_particles,I)), np.zeros((n_particles,I))]"
   ]
  },
  {
   "cell_type": "code",
   "execution_count": 9,
   "metadata": {
    "collapsed": true
   },
   "outputs": [],
   "source": [
    "t = 0\n",
    "y = Y[t]"
   ]
  },
  {
   "cell_type": "code",
   "execution_count": 10,
   "metadata": {},
   "outputs": [],
   "source": [
    "particles[t+1] = propagate(particles[t], theta)  \n",
    "        #weighting:\n",
    "for i in range(I) :\n",
    "    weights[:,i] = local_potential(Y[t,i], particles[t+1,:,i], theta)\n",
    "# resampling:\n",
    "for i in range(I) :\n",
    "    resampled_idx[:,i] = npr.choice(a=n_particles, size=n_particles, p=weights[:,i]/np.sum(weights[:,i]))\n",
    "    particles[t+1,:,i] = particles[t+1,resampled_idx[:,i],i]"
   ]
  },
  {
   "cell_type": "code",
   "execution_count": null,
   "metadata": {
    "collapsed": true
   },
   "outputs": [],
   "source": [
    "resampled_idx = np.zeros((n_particles,I)).astype(int)"
   ]
  },
  {
   "cell_type": "code",
   "execution_count": null,
   "metadata": {
    "collapsed": true
   },
   "outputs": [],
   "source": []
  },
  {
   "cell_type": "code",
   "execution_count": null,
   "metadata": {
    "collapsed": true
   },
   "outputs": [],
   "source": []
  },
  {
   "cell_type": "code",
   "execution_count": null,
   "metadata": {
    "collapsed": true
   },
   "outputs": [],
   "source": []
  },
  {
   "cell_type": "code",
   "execution_count": 51,
   "metadata": {},
   "outputs": [
    {
     "data": {
      "text/plain": [
       "(51, 1000, 20, 2)"
      ]
     },
     "execution_count": 51,
     "metadata": {},
     "output_type": "execute_result"
    }
   ],
   "source": [
    "np.shape(particles_block)"
   ]
  },
  {
   "cell_type": "code",
   "execution_count": null,
   "metadata": {
    "collapsed": true
   },
   "outputs": [],
   "source": []
  },
  {
   "cell_type": "code",
   "execution_count": null,
   "metadata": {
    "collapsed": true
   },
   "outputs": [],
   "source": []
  },
  {
   "cell_type": "code",
   "execution_count": 12,
   "metadata": {},
   "outputs": [],
   "source": [
    "a = np.mean(np.reshape(weights_block, [n_particles,I,1])*particles_block[-1],0)\n",
    "b = (np.mean(np.reshape(weights_bootstrap, [n_particles,1,1])*np.swapaxes(particles_bootstrap[-1],0,-1),0)).transpose()\n",
    "c = (np.mean(np.reshape(w_bpf, [n_particles,1,1])*np.swapaxes(p_bpf[-1],0,-1),0)).transpose()"
   ]
  },
  {
   "cell_type": "code",
   "execution_count": 13,
   "metadata": {},
   "outputs": [
    {
     "data": {
      "text/plain": [
       "(0.985886011248386, 793.0984041443236)"
      ]
     },
     "execution_count": 13,
     "metadata": {},
     "output_type": "execute_result"
    }
   ],
   "source": [
    "np.mean(np.abs((a-b)/a)), np.mean(np.abs((a-b)/b))"
   ]
  },
  {
   "cell_type": "code",
   "execution_count": 14,
   "metadata": {},
   "outputs": [
    {
     "data": {
      "text/plain": [
       "(12.291614812375023, 2.312096796160314)"
      ]
     },
     "execution_count": 14,
     "metadata": {},
     "output_type": "execute_result"
    }
   ],
   "source": [
    "np.mean(np.abs((b-c)/b)), np.mean(np.abs((b-c)/c))"
   ]
  },
  {
   "cell_type": "code",
   "execution_count": 15,
   "metadata": {},
   "outputs": [
    {
     "data": {
      "text/plain": [
       "(1000.5993785120103, 0.9948081677386307)"
      ]
     },
     "execution_count": 15,
     "metadata": {},
     "output_type": "execute_result"
    }
   ],
   "source": [
    "np.mean(np.abs((c-a)/c)), np.mean(np.abs((c-a)/a))"
   ]
  },
  {
   "cell_type": "raw",
   "metadata": {},
   "source": [
    "bootstrap_mean = np.zeros((rep,I,K))\n",
    "block_mean = np.zeros((rep,I,K))\n",
    "for r in trange(rep) :\n",
    "    particles_block, weights_block = block_pf(Y, x_0, n_particles, theta)\n",
    "    _, particles_bootstrap, weights_bootstrap = bootstrap_pf_track(Y, x_0, n_particles, theta)\n",
    "    bootstrap_mean[r] = np.mean(np.reshape(weights_bootstrap, (n_particles,1,1))\\\n",
    "                                *np.swapaxes(particles_bootstrap,0,-1)[:,:,:,-1],0)\n",
    "    block_mean[r] = np.mean(np.reshape(weights_block, (n_particles,I,1))\\\n",
    "                            *np.swapaxes(particles_block,0,1)[:,-1,:,:],0)"
   ]
  },
  {
   "cell_type": "code",
   "execution_count": 4,
   "metadata": {
    "collapsed": true
   },
   "outputs": [],
   "source": [
    "def f1(n_particles) :\n",
    "    return block_pf(Y, x_0, n_particles, theta)\n",
    "def f2(n_particles) :\n",
    "    return bootstrap_pf_track(Y, x_0, n_particles, theta)\n",
    "\n",
    "n_particles = 1_000\n",
    "rep = 100\n",
    "\n",
    "pool = mp.Pool(10)\n",
    "results1 = pool.map(f1, [n_particles for n_particles in [n_particles]*rep])\n",
    "results2 = pool.map(f2, [n_particles for n_particles in [n_particles]*rep])\n",
    "pool.close()"
   ]
  },
  {
   "cell_type": "code",
   "execution_count": 5,
   "metadata": {
    "collapsed": true
   },
   "outputs": [],
   "source": [
    "bootstrap_mean = np.zeros((rep,I,K))\n",
    "block_mean = np.zeros((rep,I,K))\n",
    "\n",
    "for r in range(rep) :\n",
    "    particles_block, weights_block = results1[r]\n",
    "    _, particles_bootstrap, weights_bootstrap = results2[r]\n",
    "    bootstrap_mean[r] = np.mean(np.reshape(weights_bootstrap, (n_particles,1,1))\\\n",
    "                                *np.swapaxes(particles_bootstrap,0,-1)[:,:,:,-1],0)\n",
    "    block_mean[r] = np.mean(np.reshape(weights_block, (n_particles,I,1))\\\n",
    "                            *np.swapaxes(particles_block,0,1)[:,-1,:,:],0)"
   ]
  },
  {
   "cell_type": "code",
   "execution_count": 8,
   "metadata": {},
   "outputs": [
    {
     "data": {
      "text/plain": [
       "array([[3.75496766e-04, 6.84328869e-04],\n",
       "       [3.96875353e-01, 5.03697710e-01],\n",
       "       [5.83199022e-01, 1.51918552e-01],\n",
       "       [2.54346080e+00, 4.19330880e+00],\n",
       "       [1.25625047e-01, 7.51393113e-01],\n",
       "       [3.86108709e-02, 6.05422213e-02],\n",
       "       [1.00241534e-03, 5.83986479e-04],\n",
       "       [1.66392057e-02, 6.71067542e-03],\n",
       "       [3.86274522e-03, 1.85909976e-03],\n",
       "       [2.13767055e+00, 7.68054493e-01],\n",
       "       [1.32600699e-01, 4.76841750e-01],\n",
       "       [7.22920994e+00, 2.67049082e+01],\n",
       "       [1.99699242e+01, 3.46445255e+00],\n",
       "       [6.01893416e-03, 5.30482197e-03],\n",
       "       [8.20900915e-03, 1.07086046e-02],\n",
       "       [5.17363533e-03, 5.04956461e-02],\n",
       "       [6.59453057e-02, 7.60484708e-02],\n",
       "       [5.35464503e-02, 2.56372822e-01],\n",
       "       [8.77316637e-02, 4.03390496e-01],\n",
       "       [3.08356333e-03, 2.10102753e-03]])"
      ]
     },
     "execution_count": 8,
     "metadata": {},
     "output_type": "execute_result"
    }
   ],
   "source": [
    "np.var(block_mean,0)/np.var(bootstrap_mean,0)"
   ]
  },
  {
   "cell_type": "code",
   "execution_count": 10,
   "metadata": {},
   "outputs": [
    {
     "data": {
      "text/plain": [
       "239.13269013908376"
      ]
     },
     "execution_count": 10,
     "metadata": {},
     "output_type": "execute_result"
    }
   ],
   "source": [
    "np.mean(np.var(bootstrap_mean,0)/np.var(block_mean,0))"
   ]
  },
  {
   "cell_type": "code",
   "execution_count": null,
   "metadata": {
    "collapsed": true
   },
   "outputs": [],
   "source": []
  },
  {
   "cell_type": "code",
   "execution_count": 21,
   "metadata": {
    "collapsed": true
   },
   "outputs": [],
   "source": [
    "theta_0 = theta\n",
    "n_particles = 1000"
   ]
  },
  {
   "cell_type": "code",
   "execution_count": 22,
   "metadata": {
    "collapsed": true
   },
   "outputs": [],
   "source": [
    "particles, weights, logNC = np.zeros((I,K,n_particles)), np.ones(n_particles)/n_particles, 0.\n",
    "for n in range(n_particles) :\n",
    "    particles[:,:,n] = x_0\n",
    "t = 0\n",
    "resampled_idx = npr.choice(a=n_particles,size=n_particles,p=weights)\n",
    "propagated_particles = propagate(particles[:,:,resampled_idx], theta)\n",
    "incremental_weights = potential(Y[t], propagated_particles, theta)\n",
    "weights = weights*incremental_weights\n",
    "logNC += np.log(np.sum(weights))\n",
    "weights /= np.sum(weights) "
   ]
  },
  {
   "cell_type": "code",
   "execution_count": 83,
   "metadata": {},
   "outputs": [
    {
     "data": {
      "text/plain": [
       "((51, 20, 2, 1000), (51, 1000, 20, 2))"
      ]
     },
     "execution_count": 83,
     "metadata": {},
     "output_type": "execute_result"
    }
   ],
   "source": [
    "np.shape(particles_bootstrap), np.shape(particles_block)"
   ]
  },
  {
   "cell_type": "code",
   "execution_count": null,
   "metadata": {
    "collapsed": true
   },
   "outputs": [],
   "source": []
  },
  {
   "cell_type": "code",
   "execution_count": 84,
   "metadata": {
    "collapsed": true
   },
   "outputs": [],
   "source": [
    "particles = particles_bootstrap[-1]\n",
    "propagated_particles = npr.randn(*np.shape(particles))"
   ]
  },
  {
   "cell_type": "code",
   "execution_count": 85,
   "metadata": {},
   "outputs": [],
   "source": [
    "y = Y[t]\n",
    "alpha, lmbda, c, phi, logsigmasq = theta[:]\n",
    "I, K, n_particles = np.shape(propagated_particles)\n",
    "J = len(alpha)\n",
    "grad = np.zeros((n_particles,J,K))\n",
    "for n in range(n_particles) :\n",
    "    grad[n] = np.matmul((y-1).transpose(), propagated_particles[:,:,n])"
   ]
  },
  {
   "cell_type": "code",
   "execution_count": 86,
   "metadata": {},
   "outputs": [
    {
     "data": {
      "text/plain": [
       "(20, 2, 1000)"
      ]
     },
     "execution_count": 86,
     "metadata": {},
     "output_type": "execute_result"
    }
   ],
   "source": [
    "np.shape(particles)"
   ]
  },
  {
   "cell_type": "code",
   "execution_count": 87,
   "metadata": {},
   "outputs": [
    {
     "data": {
      "text/plain": [
       "(20, 10)"
      ]
     },
     "execution_count": 87,
     "metadata": {},
     "output_type": "execute_result"
    }
   ],
   "source": [
    "np.shape(y-1)"
   ]
  },
  {
   "cell_type": "code",
   "execution_count": null,
   "metadata": {
    "collapsed": true
   },
   "outputs": [],
   "source": []
  }
 ],
 "metadata": {
  "kernelspec": {
   "display_name": "Python 3",
   "language": "python",
   "name": "python3"
  },
  "language_info": {
   "codemirror_mode": {
    "name": "ipython",
    "version": 3
   },
   "file_extension": ".py",
   "mimetype": "text/x-python",
   "name": "python",
   "nbconvert_exporter": "python",
   "pygments_lexer": "ipython3",
   "version": "3.6.2"
  }
 },
 "nbformat": 4,
 "nbformat_minor": 2
}
