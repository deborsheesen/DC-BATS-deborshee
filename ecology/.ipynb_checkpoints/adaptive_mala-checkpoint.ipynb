{
 "cells": [
  {
   "cell_type": "code",
   "execution_count": 1,
   "metadata": {
    "collapsed": true
   },
   "outputs": [],
   "source": [
    "# Calling libraries:\n",
    "from __future__ import division\n",
    "%matplotlib inline\n",
    "import numpy as np, time, matplotlib.pyplot as plt, math, pandas, numpy.random as npr, multiprocessing as mp, copy\n",
    "from pylab import plot, show, legend\n",
    "from time import time\n",
    "from scipy.stats import *\n",
    "from tqdm import trange\n",
    "from ecology_functions import *"
   ]
  },
  {
   "cell_type": "code",
   "execution_count": 2,
   "metadata": {
    "collapsed": true
   },
   "outputs": [],
   "source": [
    "def p_1(sigma, epsilon, A) :\n",
    "    return epsilon*(sigma<epsilon) + sigma*(epsilon<=sigma)*(sigma<=A) + A*(sigma>A)\n",
    "\n",
    "def p_2(Sigma, A) :\n",
    "    detSigma = np.linalg.det(Sigma)\n",
    "    return Sigma*(detSigma<=A) + (A/detSigma)*Sigma*(detSigma>=A)\n",
    "\n",
    "def p_3(x, A) :\n",
    "    return x*(np.abs(x)<=A) + (A/np.abs(x))*x*(np.abs(x)>A)"
   ]
  },
  {
   "cell_type": "code",
   "execution_count": 3,
   "metadata": {},
   "outputs": [],
   "source": [
    "def adapt(theta, mu, Gamma, sigma, gamma, accept_prob, taubar, epsilon_1, A, update) :\n",
    "    alpha, lmbda, c, phi, logsigmasq = theta[:]\n",
    "    mu_alpha, mu_lmbda, mu_c, mu_phi, mu_logsigmasq = mu[:]\n",
    "    Gamma_alpha, Gamma_lmbda, Gamma_c, Gamma_phi, Gamma_logsigmasq = Gamma[:]\n",
    "    \n",
    "    lmbda = lmbda.flatten()\n",
    "    \n",
    "    if update[0] :\n",
    "        mu_alpha = p_3(mu_alpha + gamma*(alpha-mu_alpha), A)\n",
    "        Gamma_alpha = p_2(Gamma_alpha + gamma*((alpha-mu_alpha)*((alpha-mu_alpha).transpose()) - Gamma_alpha), A)\n",
    "    if update[1] :\n",
    "        mu_lmbda = p_3(mu_lmbda + gamma*(lmbda-mu_lmbda), A)\n",
    "        Gamma_lmbda = p_2(Gamma_lmbda + gamma*((lmbda-mu_lmbda)*((lmbda-mu_lmbda).transpose()) - Gamma_lmbda), A)\n",
    "    if update[2] :\n",
    "        mu_c = p_3(mu_c + gamma*(c-mu_c), A)\n",
    "        Gamma_c = p_2(Gamma_c + gamma*((c-mu_c)*((c-mu_c).transpose()) - Gamma_c), A)\n",
    "    if update[3] :\n",
    "        mu_phi = p_3(mu_phi + gamma*(phi-mu_phi), A)\n",
    "        Gamma_phi = p_2(Gamma_phi + gamma*((phi-mu_phi)*((phi-mu_phi).transpose()) - Gamma_phi), A)\n",
    "    if update[4] :\n",
    "        mu_logsigmasq = p_3(mu_logsigmasq + gamma*(logsigmasq-mu_logsigmasq), A)\n",
    "        Gamma_logsigmasq = p_2(Gamma_logsigmasq + gamma\\\n",
    "                           *((logsigmasq-mu_logsigmasq)*((logsigmasq-mu_logsigmasq).transpose()) - Gamma_logsigmasq), A)\n",
    "    \n",
    "    sigma = p_1(sigma + gamma*(accept_prob-taubar), epsilon_1, A)\n",
    "    \n",
    "    mu = [mu_alpha, mu_lmbda, mu_c, mu_phi, mu_logsigmasq]\n",
    "    Gamma = [Gamma_alpha, Gamma_lmbda, Gamma_c, Gamma_phi, Gamma_logsigmasq]\n",
    "    \n",
    "    return mu, Gamma, sigma"
   ]
  },
  {
   "cell_type": "code",
   "execution_count": 4,
   "metadata": {
    "collapsed": true
   },
   "outputs": [],
   "source": [
    "def propose_MALA(theta, grad, sigma, Gamma, epsilon_2, update) :\n",
    "    npr.seed()\n",
    "    scipy.random.seed()\n",
    "    \n",
    "    Gamma_alpha, Gamma_lmbda, Gamma_c, Gamma_phi, Gamma_logsigmasq = Gamma[:]\n",
    "    alpha, lmbda, c, phi, logsigmasq = theta[:]\n",
    "    J, K = np.shape(lmbda)\n",
    "    \n",
    "    Lmbda_alpha = Gamma_alpha + epsilon_2*np.eye(J)\n",
    "    Lmbda_lmbda = Gamma_lmbda + epsilon_2*np.eye(J*K)\n",
    "    Lmbda_c = Gamma_c + epsilon_2*np.eye(1)\n",
    "    Lmbda_phi = Gamma_phi + epsilon_2*np.eye(1)\n",
    "    Lmbda_logsigmasq = Gamma_logsigmasq + epsilon_2*np.eye(1)\n",
    "    \n",
    "    grad_alpha, grad_lmbda, grad_c, grad_phi, grad_logsigmasq = grad[:]\n",
    "    \n",
    "    alpha_prop = alpha + update[0]*(sigma**2*np.diag(Lmbda_alpha)*grad_alpha \n",
    "                                    + np.sqrt(2*sigma**2*np.diag(Lmbda_alpha))*npr.randn(J))\n",
    "    lmbda_prop = lmbda.flatten() + update[1]*(sigma**2*np.diag(Lmbda_lmbda)*(grad_lmbda.flatten()) \n",
    "                                    + np.sqrt(2*sigma**2*np.diag(Lmbda_lmbda))*npr.randn(J*K))\n",
    "    c_prop = c + update[2]*(sigma**2*np.diag(Lmbda_c)*grad_c \n",
    "                                    + np.sqrt(2*sigma**2*np.diag(Lmbda_c))*npr.randn(1))\n",
    "    phi_prop = phi + update[3]*(sigma**2*np.diag(Lmbda_phi)*grad_phi \n",
    "                                    + np.sqrt(2*sigma**2*np.diag(Lmbda_phi))*npr.randn(1))\n",
    "    logsigmasq_prop = logsigmasq + update[4]*(sigma**2*np.diag(Lmbda_logsigmasq)*grad_logsigmasq \n",
    "                                    + np.sqrt(2*sigma**2*np.diag(Lmbda_logsigmasq))*npr.randn(1))\n",
    "    \n",
    "    return [alpha_prop, np.reshape(lmbda_prop,[J,K]), c_prop, phi_prop, logsigmasq_prop]"
   ]
  },
  {
   "cell_type": "code",
   "execution_count": 5,
   "metadata": {
    "collapsed": true
   },
   "outputs": [],
   "source": [
    "def transition_prob_MALA(theta_curr, theta_prop, ll_curr, ll_prop, grad_curr, grad_prop, \n",
    "                         sigma, Gamma, epsilon_2, power, update) :\n",
    "    log_prior_curr, log_prior_prop = log_prior(theta_curr), log_prior(theta_prop) \n",
    "    a = power*(ll_prop-ll_curr) + (log_prior_prop-log_prior_curr)\n",
    "    \n",
    "    J, K = np.shape(theta_curr[1])\n",
    "    \n",
    "    tau_alpha = sigma*2*np.diag(Gamma[0] + epsilon_2*np.eye(J))\n",
    "    tau_lmbda = sigma*2*np.diag(Gamma[1] + epsilon_2*np.eye(J*K))\n",
    "    tau_c = sigma*2*np.diag(Gamma[2] + epsilon_2*np.eye(1))\n",
    "    tau_phi = sigma*2*np.diag(Gamma[3] + epsilon_2*np.eye(1))\n",
    "    tau_logsigmasq = sigma*2*np.diag(Gamma[4] + epsilon_2*np.eye(1))\n",
    "    \n",
    "    tau = [tau_alpha, np.reshape(tau_lmbda, [J,K]), tau_c, tau_phi, tau_logsigmasq]\n",
    "    \n",
    "    b1 = -np.sum([np.linalg.norm((theta_curr[i] - theta_prop[i] - update[i]*tau[i]*grad_curr[i])/(2*np.sqrt(tau[i])))**2 \\\n",
    "                  for i in range(5)])\n",
    "    b2 = -np.sum([np.linalg.norm((theta_prop[i] - theta_curr[i] - update[i]*tau[i]*grad_prop[i])/(2*np.sqrt(tau[i])))**2 \\\n",
    "                  for i in range(5)])\n",
    "    return a + b1 - b2"
   ]
  },
  {
   "cell_type": "code",
   "execution_count": 6,
   "metadata": {
    "collapsed": true
   },
   "outputs": [],
   "source": [
    "def pMCMC_MALA_blockPF_adaptive(Y, x_0, n_particles, theta_0, n_mcmc, sigma, Gamma, mu, \n",
    "                                gamma, A, epsilon_1, epsilon_2, taubar, update, power=1) :\n",
    "    \n",
    "    np.random.seed()\n",
    "    scipy.random.seed()\n",
    "    \n",
    "    alpha_chain, lmbda_chain, c_chain, phi_chain, logsigmasq_chain, lls, theta_mu, theta_m2 = initialise(theta_0, n_mcmc)\n",
    "    theta_chain = [alpha_chain, lmbda_chain, c_chain, phi_chain, logsigmasq_chain]\n",
    "    \n",
    "    theta_curr = [alpha_chain[0], lmbda_chain[0], c_chain[0], phi_chain[0], logsigmasq_chain[0]]    \n",
    "    ll_curr, grad_curr = block_PF(Y, x_0, n_particles, theta_curr, calc_grad=True)\n",
    "    accepted = 0\n",
    "    last_jump = 0\n",
    "    \n",
    "    accept_probs = np.zeros(n_mcmc)\n",
    "    \n",
    "    for n in trange(n_mcmc) :\n",
    "        theta_prop = propose_MALA(theta_curr, grad_curr, sigma, Gamma, epsilon_2, update)\n",
    "        ll_prop, grad_prop = block_PF(Y, x_0, n_particles, theta_prop, calc_grad=True)\n",
    "        log_accept_prob = transition_prob_MALA(theta_curr, theta_prop, ll_curr, ll_prop, grad_curr, grad_prop, \n",
    "                                               sigma, Gamma, epsilon_2, power, update)\n",
    "        accept_probs[n] = np.exp(log_accept_prob)\n",
    "        \n",
    "        if np.log(npr.rand()) < log_accept_prob :\n",
    "            ll_curr = np.copy(ll_prop)\n",
    "            theta_curr = np.copy(theta_prop)\n",
    "            grad_curr = np.copy(grad_prop)\n",
    "            accepted += 1\n",
    "            last_jump = n\n",
    "        else :\n",
    "            if n - last_jump > 50 :\n",
    "                ll_curr, grad_curr = block_PF(Y, x_0, n_particles, theta_curr, calc_grad=True)\n",
    "        mu, Gamma, sigma = adapt(theta_curr, mu, Gamma, sigma, gamma[n], accept_probs[n], taubar, epsilon_1, A, update)\n",
    "       \n",
    "    \n",
    "        theta_chain = push(theta_chain, theta_curr, n+1)\n",
    "\n",
    "    print(100*accepted/n_mcmc, \"% acceptance rate\")\n",
    "    return theta_chain, accept_probs"
   ]
  },
  {
   "cell_type": "markdown",
   "metadata": {},
   "source": [
    "#### Simulate observations:"
   ]
  },
  {
   "cell_type": "code",
   "execution_count": 7,
   "metadata": {},
   "outputs": [],
   "source": [
    "T = 100\n",
    "I = 5    # number of locations\n",
    "J = 3    # number of species\n",
    "K = 2    # number of latent factors"
   ]
  },
  {
   "cell_type": "code",
   "execution_count": 8,
   "metadata": {},
   "outputs": [],
   "source": [
    "lmbda = npr.randn(J,K)\n",
    "alpha = npr.randn(J)\n",
    "c = 0\n",
    "phi = 0.5\n",
    "logsigmasq = 0\n",
    "x_0 = npr.randn(I,K)\n",
    "\n",
    "theta = [alpha, lmbda, c, phi, logsigmasq]\n",
    "Y, X = simulate_data(x_0, T, J, theta)"
   ]
  },
  {
   "cell_type": "markdown",
   "metadata": {},
   "source": [
    "#### Initialise:"
   ]
  },
  {
   "cell_type": "code",
   "execution_count": 16,
   "metadata": {
    "collapsed": true
   },
   "outputs": [],
   "source": [
    "mu_alpha = 1e-4*np.ones(J)\n",
    "mu_lmbda = 1e-4*np.ones(J*K)\n",
    "mu_c = 1e-4\n",
    "mu_phi = 1e-4\n",
    "mu_logsigmasq = 1e-4\n",
    "mu = [mu_alpha, mu_lmbda, mu_c, mu_phi, mu_logsigmasq]\n",
    "\n",
    "sigma = 1\n",
    "\n",
    "Gamma_alpha = np.eye(J)\n",
    "Gamma_lmbda = np.eye(J*K)\n",
    "Gamma_c = np.eye(1)\n",
    "Gamma_phi = np.eye(1)\n",
    "Gamma_logsigmasq = np.eye(1)\n",
    "Gamma = [Gamma_alpha, Gamma_lmbda, Gamma_c, Gamma_phi, Gamma_logsigmasq]"
   ]
  },
  {
   "cell_type": "code",
   "execution_count": 17,
   "metadata": {
    "collapsed": true
   },
   "outputs": [],
   "source": [
    "A = 1e3\n",
    "epsilon_1 = 1e-4\n",
    "epsilon_2 = 1e-4\n",
    "taubar = 0.15\n",
    "n_mcmc = 1000\n",
    "gamma = 0.5/np.arange(1,n_mcmc+1)"
   ]
  },
  {
   "cell_type": "code",
   "execution_count": 19,
   "metadata": {},
   "outputs": [
    {
     "name": "stderr",
     "output_type": "stream",
     "text": [
      "/home/postdoc/dsen/.local/lib/python3.6/site-packages/numpy/lib/function_base.py:792: VisibleDeprecationWarning: Creating an ndarray from ragged nested sequences (which is a list-or-tuple of lists-or-tuples-or ndarrays with different lengths or shapes) is deprecated. If you meant to do this, you must specify 'dtype=object' when creating the ndarray\n",
      "  return array(a, order=order, subok=subok, copy=True)\n",
      "  0%|          | 0/1000 [00:00<?, ?it/s]/auto/pkg/python-3.6/lib/python3.6/site-packages/ipykernel_launcher.py:22: RuntimeWarning: overflow encountered in exp\n",
      "/auto/pkg/python-3.6/lib/python3.6/site-packages/ipykernel_launcher.py:2: RuntimeWarning: invalid value encountered in multiply\n",
      "  \n",
      "  0%|          | 1/1000 [00:00<06:15,  2.66it/s]\n"
     ]
    },
    {
     "ename": "ValueError",
     "evalue": "probabilities contain NaN",
     "output_type": "error",
     "traceback": [
      "\u001b[0;31m---------------------------------------------------------------------------\u001b[0m",
      "\u001b[0;31mValueError\u001b[0m                                Traceback (most recent call last)",
      "\u001b[0;32m<ipython-input-19-cad5aa456fe1>\u001b[0m in \u001b[0;36m<module>\u001b[0;34m()\u001b[0m\n\u001b[1;32m      2\u001b[0m \u001b[0mupdate\u001b[0m \u001b[0;34m=\u001b[0m \u001b[0;34m[\u001b[0m\u001b[0;36m1\u001b[0m\u001b[0;34m,\u001b[0m \u001b[0;36m0\u001b[0m\u001b[0;34m,\u001b[0m \u001b[0;36m0\u001b[0m\u001b[0;34m,\u001b[0m \u001b[0;36m0\u001b[0m\u001b[0;34m,\u001b[0m \u001b[0;36m0\u001b[0m\u001b[0;34m]\u001b[0m\u001b[0;34m\u001b[0m\u001b[0m\n\u001b[1;32m      3\u001b[0m theta_chain, accept_probs = pMCMC_MALA_blockPF_adaptive(Y, x_0, n_particles, theta, n_mcmc, sigma, Gamma, mu, \n\u001b[0;32m----> 4\u001b[0;31m                                                         gamma, A, epsilon_1, epsilon_2, taubar, update, power=1)\n\u001b[0m",
      "\u001b[0;32m<ipython-input-6-786949f043c7>\u001b[0m in \u001b[0;36mpMCMC_MALA_blockPF_adaptive\u001b[0;34m(Y, x_0, n_particles, theta_0, n_mcmc, sigma, Gamma, mu, gamma, A, epsilon_1, epsilon_2, taubar, update, power)\u001b[0m\n\u001b[1;32m     17\u001b[0m     \u001b[0;32mfor\u001b[0m \u001b[0mn\u001b[0m \u001b[0;32min\u001b[0m \u001b[0mtrange\u001b[0m\u001b[0;34m(\u001b[0m\u001b[0mn_mcmc\u001b[0m\u001b[0;34m)\u001b[0m \u001b[0;34m:\u001b[0m\u001b[0;34m\u001b[0m\u001b[0m\n\u001b[1;32m     18\u001b[0m         \u001b[0mtheta_prop\u001b[0m \u001b[0;34m=\u001b[0m \u001b[0mpropose_MALA\u001b[0m\u001b[0;34m(\u001b[0m\u001b[0mtheta_curr\u001b[0m\u001b[0;34m,\u001b[0m \u001b[0mgrad_curr\u001b[0m\u001b[0;34m,\u001b[0m \u001b[0msigma\u001b[0m\u001b[0;34m,\u001b[0m \u001b[0mGamma\u001b[0m\u001b[0;34m,\u001b[0m \u001b[0mepsilon_2\u001b[0m\u001b[0;34m,\u001b[0m \u001b[0mupdate\u001b[0m\u001b[0;34m)\u001b[0m\u001b[0;34m\u001b[0m\u001b[0m\n\u001b[0;32m---> 19\u001b[0;31m         \u001b[0mll_prop\u001b[0m\u001b[0;34m,\u001b[0m \u001b[0mgrad_prop\u001b[0m \u001b[0;34m=\u001b[0m \u001b[0mblock_PF\u001b[0m\u001b[0;34m(\u001b[0m\u001b[0mY\u001b[0m\u001b[0;34m,\u001b[0m \u001b[0mx_0\u001b[0m\u001b[0;34m,\u001b[0m \u001b[0mn_particles\u001b[0m\u001b[0;34m,\u001b[0m \u001b[0mtheta_prop\u001b[0m\u001b[0;34m,\u001b[0m \u001b[0mcalc_grad\u001b[0m\u001b[0;34m=\u001b[0m\u001b[0;32mTrue\u001b[0m\u001b[0;34m)\u001b[0m\u001b[0;34m\u001b[0m\u001b[0m\n\u001b[0m\u001b[1;32m     20\u001b[0m         log_accept_prob = transition_prob_MALA(theta_curr, theta_prop, ll_curr, ll_prop, grad_curr, grad_prop, \n\u001b[1;32m     21\u001b[0m                                                sigma, Gamma, epsilon_2, power, update)\n",
      "\u001b[0;32m~/Desktop/codes/DC-BATS/ecology/ecology_functions.py\u001b[0m in \u001b[0;36mblock_PF\u001b[0;34m(Y, x_0, n_particles, theta, calc_grad)\u001b[0m\n\u001b[1;32m    335\u001b[0m     \u001b[0;32mfor\u001b[0m \u001b[0mt\u001b[0m \u001b[0;32min\u001b[0m \u001b[0mrange\u001b[0m\u001b[0;34m(\u001b[0m\u001b[0mT\u001b[0m\u001b[0;34m)\u001b[0m \u001b[0;34m:\u001b[0m\u001b[0;34m\u001b[0m\u001b[0m\n\u001b[1;32m    336\u001b[0m         \u001b[0;32mfor\u001b[0m \u001b[0mi\u001b[0m \u001b[0;32min\u001b[0m \u001b[0mrange\u001b[0m\u001b[0;34m(\u001b[0m\u001b[0mI\u001b[0m\u001b[0;34m)\u001b[0m \u001b[0;34m:\u001b[0m\u001b[0;34m\u001b[0m\u001b[0m\n\u001b[0;32m--> 337\u001b[0;31m             \u001b[0mresampled_idx\u001b[0m\u001b[0;34m[\u001b[0m\u001b[0;34m:\u001b[0m\u001b[0;34m,\u001b[0m\u001b[0mi\u001b[0m\u001b[0;34m]\u001b[0m \u001b[0;34m=\u001b[0m \u001b[0mnpr\u001b[0m\u001b[0;34m.\u001b[0m\u001b[0mchoice\u001b[0m\u001b[0;34m(\u001b[0m\u001b[0ma\u001b[0m\u001b[0;34m=\u001b[0m\u001b[0mn_particles\u001b[0m\u001b[0;34m,\u001b[0m \u001b[0msize\u001b[0m\u001b[0;34m=\u001b[0m\u001b[0mn_particles\u001b[0m\u001b[0;34m,\u001b[0m \u001b[0mp\u001b[0m\u001b[0;34m=\u001b[0m\u001b[0mlocal_weights\u001b[0m\u001b[0;34m[\u001b[0m\u001b[0;34m:\u001b[0m\u001b[0;34m,\u001b[0m\u001b[0mi\u001b[0m\u001b[0;34m]\u001b[0m\u001b[0;34m/\u001b[0m\u001b[0mnp\u001b[0m\u001b[0;34m.\u001b[0m\u001b[0msum\u001b[0m\u001b[0;34m(\u001b[0m\u001b[0mlocal_weights\u001b[0m\u001b[0;34m[\u001b[0m\u001b[0;34m:\u001b[0m\u001b[0;34m,\u001b[0m\u001b[0mi\u001b[0m\u001b[0;34m]\u001b[0m\u001b[0;34m)\u001b[0m\u001b[0;34m)\u001b[0m\u001b[0;34m\u001b[0m\u001b[0m\n\u001b[0m\u001b[1;32m    338\u001b[0m             \u001b[0mresampled_particles\u001b[0m\u001b[0;34m[\u001b[0m\u001b[0;34m:\u001b[0m\u001b[0;34m,\u001b[0m\u001b[0mi\u001b[0m\u001b[0;34m]\u001b[0m \u001b[0;34m=\u001b[0m \u001b[0mparticles\u001b[0m\u001b[0;34m[\u001b[0m\u001b[0mresampled_idx\u001b[0m\u001b[0;34m[\u001b[0m\u001b[0;34m:\u001b[0m\u001b[0;34m,\u001b[0m\u001b[0mi\u001b[0m\u001b[0;34m]\u001b[0m\u001b[0;34m,\u001b[0m\u001b[0mi\u001b[0m\u001b[0;34m]\u001b[0m\u001b[0;34m\u001b[0m\u001b[0m\n\u001b[1;32m    339\u001b[0m         \u001b[0mpropagated_particles\u001b[0m \u001b[0;34m=\u001b[0m \u001b[0mpropagate\u001b[0m\u001b[0;34m(\u001b[0m\u001b[0mresampled_particles\u001b[0m\u001b[0;34m,\u001b[0m \u001b[0mtheta\u001b[0m\u001b[0;34m)\u001b[0m\u001b[0;34m\u001b[0m\u001b[0m\n",
      "\u001b[0;32mmtrand.pyx\u001b[0m in \u001b[0;36mnumpy.random.mtrand.RandomState.choice\u001b[0;34m()\u001b[0m\n",
      "\u001b[0;31mValueError\u001b[0m: probabilities contain NaN"
     ]
    }
   ],
   "source": [
    "n_particles = 1000\n",
    "update = [1, 0, 0, 0, 0]\n",
    "theta_chain, accept_probs = pMCMC_MALA_blockPF_adaptive(Y, x_0, n_particles, theta, n_mcmc, sigma, Gamma, mu, \n",
    "                                                        gamma, A, epsilon_1, epsilon_2, taubar, update, power=1)"
   ]
  },
  {
   "cell_type": "code",
   "execution_count": 7,
   "metadata": {
    "collapsed": true
   },
   "outputs": [],
   "source": []
  },
  {
   "cell_type": "code",
   "execution_count": null,
   "metadata": {
    "collapsed": true
   },
   "outputs": [],
   "source": []
  }
 ],
 "metadata": {
  "kernelspec": {
   "display_name": "Python 3",
   "language": "python",
   "name": "python3"
  },
  "language_info": {
   "codemirror_mode": {
    "name": "ipython",
    "version": 3
   },
   "file_extension": ".py",
   "mimetype": "text/x-python",
   "name": "python",
   "nbconvert_exporter": "python",
   "pygments_lexer": "ipython3",
   "version": "3.6.2"
  }
 },
 "nbformat": 4,
 "nbformat_minor": 2
}
