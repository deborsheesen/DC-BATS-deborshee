{
 "cells": [
  {
   "cell_type": "code",
   "execution_count": 1,
   "metadata": {
    "collapsed": true
   },
   "outputs": [],
   "source": [
    "# Calling libraries:\n",
    "from __future__ import division\n",
    "%matplotlib inline\n",
    "import numpy as np, time, matplotlib.pyplot as plt, math, pandas, numpy.random as npr, multiprocessing as mp\n",
    "from pylab import plot, show, legend\n",
    "from time import time\n",
    "from scipy.stats import *\n",
    "from tqdm import trange\n",
    "from ecology_functions import *"
   ]
  },
  {
   "cell_type": "code",
   "execution_count": 2,
   "metadata": {
    "collapsed": true
   },
   "outputs": [],
   "source": [
    "T = 100\n",
    "I = 5  # number of locations\n",
    "J = 3  # number of species\n",
    "K = 2   # number of latent factors"
   ]
  },
  {
   "cell_type": "code",
   "execution_count": 3,
   "metadata": {
    "collapsed": true
   },
   "outputs": [],
   "source": [
    "lmbda = npr.randn(J,K)\n",
    "alpha = npr.randn(J)\n",
    "c = 0\n",
    "phi = 0.5\n",
    "logsigmasq = 0\n",
    "x_0 = npr.randn(I,K)\n",
    "\n",
    "theta = [alpha, lmbda, c, phi, logsigmasq]\n",
    "Y, X = simulate_data(x_0, T, J, theta)"
   ]
  },
  {
   "cell_type": "code",
   "execution_count": 4,
   "metadata": {
    "collapsed": true
   },
   "outputs": [],
   "source": [
    "n = 1000\n",
    "logNC, est_grad = bootstrap_PF_grad(x_0, n, theta, Y)"
   ]
  },
  {
   "cell_type": "code",
   "execution_count": 5,
   "metadata": {},
   "outputs": [
    {
     "data": {
      "text/plain": [
       "[array([565.71433293, 277.83525583, -69.50875034]),\n",
       " array([[ 45.06703386, -20.22768086],\n",
       "        [-48.51357358, -51.79767372],\n",
       "        [-30.95149896,   6.78830026]]),\n",
       " 1.3856789778715974,\n",
       " -922.9987461979838,\n",
       " 456.0082615167247]"
      ]
     },
     "execution_count": 5,
     "metadata": {},
     "output_type": "execute_result"
    }
   ],
   "source": [
    "est_grad"
   ]
  },
  {
   "cell_type": "raw",
   "metadata": {},
   "source": [
    "n_particles = np.asarray([1_000, 3_000, 10_000])\n",
    "rep = 100\n",
    "alpha_grad = np.zeros((rep,J,3))\n",
    "lmbda_grad = np.zeros((rep,J,K,3))\n",
    "c_grad = np.zeros((rep,3))\n",
    "phi_grad = np.zeros((rep,3))\n",
    "logsigmasq_grad = np.zeros((rep,3)) \n",
    "\n",
    "def f(n) :\n",
    "    return bootstrap_PF_grad(x_0, n, theta, Y)[1]\n",
    "\n",
    "for (i,n) in enumerate(n_particles) :\n",
    "    pool = mp.Pool(10)\n",
    "    est_grad = pool.map(f, [n for n in [n]*rep])\n",
    "    pool.close()\n",
    "    for r in range(rep) :\n",
    "        alpha_grad[r,:,i] = est_grad[r][0]\n",
    "        lmbda_grad[r,:,:,i] = est_grad[r][1]\n",
    "        c_grad[r,i] = est_grad[r][2]\n",
    "        phi_grad[r,i] = est_grad[r][3]\n",
    "        logsigmasq_grad[r,i] = est_grad[r][4]"
   ]
  },
  {
   "cell_type": "raw",
   "metadata": {},
   "source": [
    "print(np.var(c_grad/10,0))\n",
    "print(np.var(phi_grad/100,0))\n",
    "print(np.var(logsigmasq_grad/100,0))\n",
    "print(np.var(alpha_grad,0))\n",
    "print(np.var(lmbda_grad,0))"
   ]
  },
  {
   "cell_type": "code",
   "execution_count": 11,
   "metadata": {},
   "outputs": [
    {
     "name": "stderr",
     "output_type": "stream",
     "text": [
      "/home/postdoc/dsen/.local/lib/python3.6/site-packages/numpy/lib/function_base.py:792: VisibleDeprecationWarning: Creating an ndarray from ragged nested sequences (which is a list-or-tuple of lists-or-tuples-or ndarrays with different lengths or shapes) is deprecated. If you meant to do this, you must specify 'dtype=object' when creating the ndarray\n",
      "  return array(a, order=order, subok=subok, copy=True)\n",
      "100%|██████████| 100/100 [00:17<00:00,  6.05it/s]"
     ]
    },
    {
     "name": "stdout",
     "output_type": "stream",
     "text": [
      "2.0 % acceptance rate\n"
     ]
    },
    {
     "name": "stderr",
     "output_type": "stream",
     "text": [
      "\n"
     ]
    }
   ],
   "source": [
    "n_mcmc = 100\n",
    "n_particles = 100\n",
    "theta_mala, acc_probs_mala = pMCMC_mala(x_0, Y, theta, n_particles, n_mcmc, tau=1e-5)"
   ]
  },
  {
   "cell_type": "code",
   "execution_count": 13,
   "metadata": {},
   "outputs": [
    {
     "data": {
      "text/plain": [
       "[<matplotlib.lines.Line2D at 0x7fac551d1f60>]"
      ]
     },
     "execution_count": 13,
     "metadata": {},
     "output_type": "execute_result"
    },
    {
     "data": {
      "image/png": "[encoded data removed]",
      "text/plain": [
       "<Figure size 432x288 with 1 Axes>"
      ]
     },
     "metadata": {},
     "output_type": "display_data"
    }
   ],
   "source": [
    "plt.plot(theta_mala[3])"
   ]
  },
  {
   "cell_type": "code",
   "execution_count": null,
   "metadata": {
    "collapsed": true
   },
   "outputs": [],
   "source": []
  },
  {
   "cell_type": "code",
   "execution_count": 6,
   "metadata": {
    "collapsed": true
   },
   "outputs": [],
   "source": [
    "import torch "
   ]
  },
  {
   "cell_type": "code",
   "execution_count": 100,
   "metadata": {},
   "outputs": [],
   "source": [
    "lmbda = torch.randn(J,K, requires_grad=True)\n",
    "alpha = torch.randn(J,1, requires_grad=True)\n",
    "c = torch.tensor(0., requires_grad=True)\n",
    "phi = torch.tensor(0.5, requires_grad=True)\n",
    "logsigmasq = torch.tensor(0., requires_grad=True)\n",
    "x_0 = torch.randn(I,K)\n",
    "\n",
    "theta = [alpha, lmbda, c, phi, logsigmasq]\n",
    "X = torch.randn(T,I,K)\n",
    "Y = torch.bernoulli(0.5*torch.ones((T,I,J)))"
   ]
  },
  {
   "cell_type": "code",
   "execution_count": 113,
   "metadata": {},
   "outputs": [],
   "source": [
    "n_particles = 100\n",
    "particles = torch.randn(I,K,n_particles)\n",
    "propagated_particles = torch.randn(I,K,n_particles)"
   ]
  },
  {
   "cell_type": "code",
   "execution_count": 135,
   "metadata": {
    "collapsed": true
   },
   "outputs": [],
   "source": [
    "def update_grad(y, theta, propagated_particles, particles, weights) :\n",
    "    alpha, lmbda, c, phi, logsigmasq = theta[:]\n",
    "    b = torch.add(alpha, torch.matmul(lmbda,particles))\n",
    "    ll1 = -1/(2*torch.exp(logsigmasq))*torch.sum(weights*torch.sum((propagated_particles - c - phi*particles)**2, [0,1]))\n",
    "    ll2 = torch.sum(weights*torch.sum(b.transpose(0,2)*((y-1).transpose(0,1)), [1,2]))\n",
    "    ll = ll1 + ll2\n",
    "    ll.backward()"
   ]
  },
  {
   "cell_type": "code",
   "execution_count": 136,
   "metadata": {
    "collapsed": true
   },
   "outputs": [],
   "source": [
    "for t in range(T) :\n",
    "    weights = torch.rand(n_particles)\n",
    "    weights = weights/torch.sum(weights)\n",
    "    update_grad(Y[t], theta, particles_new, particles_old, weights)"
   ]
  },
  {
   "cell_type": "code",
   "execution_count": 137,
   "metadata": {},
   "outputs": [
    {
     "data": {
      "text/plain": [
       "tensor([[-51456.],\n",
       "        [-50049.],\n",
       "        [-49647.]])"
      ]
     },
     "execution_count": 137,
     "metadata": {},
     "output_type": "execute_result"
    }
   ],
   "source": [
    "alpha.grad"
   ]
  },
  {
   "cell_type": "code",
   "execution_count": null,
   "metadata": {
    "collapsed": true
   },
   "outputs": [],
   "source": []
  }
 ],
 "metadata": {
  "kernelspec": {
   "display_name": "Python 3",
   "language": "python",
   "name": "python3"
  },
  "language_info": {
   "codemirror_mode": {
    "name": "ipython",
    "version": 3
   },
   "file_extension": ".py",
   "mimetype": "text/x-python",
   "name": "python",
   "nbconvert_exporter": "python",
   "pygments_lexer": "ipython3",
   "version": "3.6.2"
  }
 },
 "nbformat": 4,
 "nbformat_minor": 2
}
