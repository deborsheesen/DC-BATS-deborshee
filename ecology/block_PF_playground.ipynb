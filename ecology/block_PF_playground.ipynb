{
 "cells": [
  {
   "cell_type": "markdown",
   "metadata": {},
   "source": [
    "### Block particle filter\n",
    "\n",
    "* Algorithm 2 of https://projecteuclid.org/download/pdfview_1/euclid.aoap/1438261054"
   ]
  },
  {
   "cell_type": "code",
   "execution_count": 1,
   "metadata": {
    "collapsed": true
   },
   "outputs": [],
   "source": [
    "# Calling libraries:\n",
    "from __future__ import division\n",
    "%matplotlib inline\n",
    "import numpy as np, time, matplotlib.pyplot as plt, math, pandas, numpy.random as npr, multiprocessing as mp, timeit\n",
    "from pylab import plot, show, legend\n",
    "from time import time\n",
    "from scipy.stats import *\n",
    "from tqdm import trange\n",
    "from ecology_functions import *"
   ]
  },
  {
   "cell_type": "code",
   "execution_count": 2,
   "metadata": {
    "collapsed": true
   },
   "outputs": [],
   "source": [
    "T = 100\n",
    "I = 10  # number of locations\n",
    "J = 5   # number of species\n",
    "K = 3   # number of latent factors"
   ]
  },
  {
   "cell_type": "code",
   "execution_count": 3,
   "metadata": {
    "collapsed": true
   },
   "outputs": [],
   "source": [
    "lmbda = npr.randn(J,K)\n",
    "alpha = npr.randn(J)\n",
    "c = 0\n",
    "phi = 0.5\n",
    "logsigmasq = 0\n",
    "x_0 = npr.randn(I,K)\n",
    "\n",
    "theta = [alpha, lmbda, c, phi, logsigmasq]\n",
    "Y, X = simulate_data(x_0, T, J, theta)"
   ]
  },
  {
   "cell_type": "code",
   "execution_count": null,
   "metadata": {},
   "outputs": [
    {
     "name": "stdout",
     "output_type": "stream",
     "text": [
      "756 ms ± 2.83 ms per loop (mean ± std. dev. of 7 runs, 1 loop each)\n",
      "370 ms ± 852 µs per loop (mean ± std. dev. of 7 runs, 1 loop each)\n",
      "508 ms ± 4.31 ms per loop (mean ± std. dev. of 7 runs, 1 loop each)\n",
      "292 ms ± 1.13 ms per loop (mean ± std. dev. of 7 runs, 1 loop each)\n"
     ]
    }
   ],
   "source": [
    "n_particles = 1000\n",
    "%timeit block_pf(Y, x_0, n_particles, theta, calc_grad=True)\n",
    "%timeit bootstrap_PF_grad(x_0, n_particles, theta, Y, calc_grad=True)\n",
    "%timeit block_pf(Y, x_0, n_particles, theta, calc_grad=False)\n",
    "%timeit bootstrap_PF_grad(x_0, n_particles, theta, Y, calc_grad=False)"
   ]
  },
  {
   "cell_type": "code",
   "execution_count": null,
   "metadata": {},
   "outputs": [
    {
     "name": "stdout",
     "output_type": "stream",
     "text": [
      "4.21 s ± 9.63 ms per loop (mean ± std. dev. of 7 runs, 1 loop each)\n"
     ]
    }
   ],
   "source": [
    "n_particles = 5000\n",
    "%timeit block_pf(Y, x_0, n_particles, theta, calc_grad=True)\n",
    "%timeit bootstrap_PF_grad(x_0, n_particles, theta, Y, calc_grad=True)\n",
    "%timeit block_pf(Y, x_0, n_particles, theta, calc_grad=False)\n",
    "%timeit bootstrap_PF_grad(x_0, n_particles, theta, Y, calc_grad=False)"
   ]
  },
  {
   "cell_type": "code",
   "execution_count": null,
   "metadata": {
    "collapsed": true
   },
   "outputs": [],
   "source": []
  },
  {
   "cell_type": "raw",
   "metadata": {},
   "source": [
    "# tracking:\n",
    "plt.rcParams['figure.figsize'] = (18, 25)\n",
    "for i in range(I) :\n",
    "    for k in range(K) :\n",
    "        idx = i*K + k + 1\n",
    "        plt.subplot(I,K,idx)\n",
    "        ci_block = np.percentile(particles_block[1:,:,i,k], axis=1, q=[2.5,97.5])\n",
    "        ci_bootstrap = np.percentile(particles_bootstrap[1:,i,k,:], axis=1, q=[2.5,97.5])\n",
    "        plt.rcParams['figure.figsize'] = (16, 3.5)\n",
    "        plt.plot(np.arange(1,T+1), X[1:,i,k], 'bo-', markersize=3, lw=0.5)\n",
    "        plt.fill_between(np.arange(1,T+1), ci_block[0], ci_block[1], color='red', alpha=.3)\n",
    "        plt.fill_between(np.arange(1,T+1), ci_bootstrap[0], ci_bootstrap[1], color='green', alpha=.3)\n",
    "        plt.grid(True)\n",
    "        plt.xlim(0,T+1)\n",
    "        if i < (I-1) : plt.xticks(alpha=0)\n",
    "        if k == (K-1) : plt.yticks(alpha=0)\n",
    "        plt.subplots_adjust(hspace=0,wspace=0)"
   ]
  },
  {
   "cell_type": "code",
   "execution_count": 7,
   "metadata": {},
   "outputs": [],
   "source": [
    "y = Y[20]\n",
    "n_particles = 1000\n",
    "particles = npr.randn(n_particles,I,K)"
   ]
  },
  {
   "cell_type": "code",
   "execution_count": 45,
   "metadata": {
    "collapsed": true
   },
   "outputs": [],
   "source": [
    "y = Y[20]\n",
    "n_particles = 1000\n",
    "particles = npr.randn(n_particles,I,K)\n",
    "propagated_particles = npr.randn(n_particles,I,K)"
   ]
  },
  {
   "cell_type": "code",
   "execution_count": 46,
   "metadata": {
    "collapsed": true
   },
   "outputs": [],
   "source": [
    "grad = [np.zeros((n_particles,*np.shape(alpha),I)), np.zeros((n_particles,*np.shape(lmbda),I)), \\\n",
    "                np.zeros((n_particles,I)), np.zeros((n_particles,I)), np.zeros((n_particles,I))]\n",
    "resampled_idx = np.zeros((n_particles,I)).astype(int)\n",
    "for i in range(I) :\n",
    "    resampled_idx[:,i] = npr.choice(a=n_particles, size=n_particles)"
   ]
  },
  {
   "cell_type": "code",
   "execution_count": 48,
   "metadata": {},
   "outputs": [],
   "source": [
    "grad1 = update_gradient_blockPF_old(grad, y, propagated_particles, particles, resampled_idx, theta)\n",
    "grad2 = update_gradient_blockPF(grad, y, propagated_particles, particles, resampled_idx, theta)"
   ]
  },
  {
   "cell_type": "code",
   "execution_count": 50,
   "metadata": {},
   "outputs": [
    {
     "data": {
      "text/plain": [
       "0.0"
      ]
     },
     "execution_count": 50,
     "metadata": {},
     "output_type": "execute_result"
    }
   ],
   "source": [
    "np.sum([np.sum(np.abs(grad1[i]-grad2[i])) for i in range(5)])"
   ]
  },
  {
   "cell_type": "code",
   "execution_count": 51,
   "metadata": {},
   "outputs": [
    {
     "name": "stdout",
     "output_type": "stream",
     "text": [
      "14 ms ± 103 µs per loop (mean ± std. dev. of 7 runs, 100 loops each)\n",
      "2.63 ms ± 41.5 µs per loop (mean ± std. dev. of 7 runs, 100 loops each)\n"
     ]
    }
   ],
   "source": [
    "%timeit update_gradient_blockPF(grad, y, propagated_particles, particles, resampled_idx, theta)\n",
    "%timeit update_gradient_blockPF_faster(grad, y, propagated_particles, particles, resampled_idx, theta)"
   ]
  },
  {
   "cell_type": "code",
   "execution_count": null,
   "metadata": {
    "collapsed": true
   },
   "outputs": [],
   "source": []
  }
 ],
 "metadata": {
  "kernelspec": {
   "display_name": "Python 3",
   "language": "python",
   "name": "python3"
  },
  "language_info": {
   "codemirror_mode": {
    "name": "ipython",
    "version": 3
   },
   "file_extension": ".py",
   "mimetype": "text/x-python",
   "name": "python",
   "nbconvert_exporter": "python",
   "pygments_lexer": "ipython3",
   "version": "3.6.2"
  }
 },
 "nbformat": 4,
 "nbformat_minor": 2
}
