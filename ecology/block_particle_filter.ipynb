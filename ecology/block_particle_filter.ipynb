{
 "cells": [
  {
   "cell_type": "markdown",
   "metadata": {},
   "source": [
    "### Block particle filter\n",
    "\n",
    "* Algorithm 2 of https://projecteuclid.org/download/pdfview_1/euclid.aoap/1438261054"
   ]
  },
  {
   "cell_type": "code",
   "execution_count": 1,
   "metadata": {
    "collapsed": true
   },
   "outputs": [],
   "source": [
    "# Calling libraries:\n",
    "from __future__ import division\n",
    "%matplotlib inline\n",
    "import numpy as np, time, matplotlib.pyplot as plt, math, pandas, numpy.random as npr, multiprocessing as mp, timeit\n",
    "from pylab import plot, show, legend\n",
    "from time import time\n",
    "from scipy.stats import *\n",
    "from tqdm import trange\n",
    "from ecology_functions import *"
   ]
  },
  {
   "cell_type": "code",
   "execution_count": 2,
   "metadata": {
    "collapsed": true
   },
   "outputs": [],
   "source": [
    "T = 100\n",
    "I = 20  # number of locations\n",
    "J = 10  # number of species\n",
    "K = 3   # number of latent factors"
   ]
  },
  {
   "cell_type": "code",
   "execution_count": 3,
   "metadata": {
    "collapsed": true
   },
   "outputs": [],
   "source": [
    "lmbda = npr.randn(J,K)\n",
    "alpha = npr.randn(J)\n",
    "c = 0\n",
    "phi = 0.5\n",
    "logsigmasq = 0\n",
    "x_0 = npr.randn(I,K)\n",
    "\n",
    "theta = [alpha, lmbda, c, phi, logsigmasq]\n",
    "Y, X = simulate_data(x_0, T, J, theta)"
   ]
  },
  {
   "cell_type": "code",
   "execution_count": 4,
   "metadata": {},
   "outputs": [
    {
     "name": "stdout",
     "output_type": "stream",
     "text": [
      "6.53 s ± 12.8 ms per loop (mean ± std. dev. of 7 runs, 1 loop each)\n",
      "3.17 s ± 4.79 ms per loop (mean ± std. dev. of 7 runs, 1 loop each)\n",
      "2.76 s ± 5.09 ms per loop (mean ± std. dev. of 7 runs, 1 loop each)\n",
      "2.36 s ± 33 ms per loop (mean ± std. dev. of 7 runs, 1 loop each)\n"
     ]
    }
   ],
   "source": [
    "n_particles = 1000\n",
    "%timeit block_pf(Y, x_0, n_particles, theta, calc_grad=True)\n",
    "%timeit bootstrap_PF_grad(x_0, n_particles, theta, Y, calc_grad=True)\n",
    "%timeit block_pf(Y, x_0, n_particles, theta, calc_grad=False)\n",
    "%timeit bootstrap_PF_grad(x_0, n_particles, theta, Y, calc_grad=False)"
   ]
  },
  {
   "cell_type": "code",
   "execution_count": 4,
   "metadata": {},
   "outputs": [
    {
     "name": "stdout",
     "output_type": "stream",
     "text": [
      "-16504.68585831285\n",
      "-18708.85587038649\n"
     ]
    }
   ],
   "source": [
    "n_particles = 1000\n",
    "logNC_block, grad_block, particles_block, weights_block = block_pf(Y, x_0, n_particles, theta, True)\n",
    "print(logNC_block)\n",
    "logNC_bootstrap, grad_bootstrap, particles_bootstrap, weights_bootstrap = bootstrap_PF_grad(x_0, n_particles, theta, Y, True)\n",
    "print(logNC_bootstrap)"
   ]
  },
  {
   "cell_type": "code",
   "execution_count": 5,
   "metadata": {},
   "outputs": [
    {
     "data": {
      "text/plain": [
       "[array([ -704., -1321., -1042., -1512.,  -879., -1535., -1452.,  -938.,\n",
       "         -623.,  -854.]), array([[  81.83952581,  214.99138149,  589.57388502],\n",
       "        [-104.58695547,  639.83691002, -294.11889498],\n",
       "        [ -28.99890473, -153.59321965,  701.01876454],\n",
       "        [ 560.78993726,  937.20684772,   44.33712458],\n",
       "        [   1.17790211,  793.16729409, -130.88770915],\n",
       "        [ 406.62161582,  578.4163835 ,  630.16276757],\n",
       "        [ 726.3860151 , -409.71724239, -274.53718736],\n",
       "        [ 881.62756408, -429.02111244,  745.79827221],\n",
       "        [-157.20737258,  985.3525858 , -232.83810557],\n",
       "        [ 420.57645478, -840.8888203 ,   57.01625507]]), 0.0, 0.0, 0.0]"
      ]
     },
     "execution_count": 5,
     "metadata": {},
     "output_type": "execute_result"
    }
   ],
   "source": [
    "grad_block"
   ]
  },
  {
   "cell_type": "code",
   "execution_count": 10,
   "metadata": {},
   "outputs": [
    {
     "data": {
      "text/plain": [
       "[array([ -704., -1321., -1042., -1512.,  -879., -1535., -1452.,  -938.,\n",
       "         -623.,  -854.]), array([[ 59.03782232,  64.1144089 ,  38.1954198 ],\n",
       "        [  5.08636904, 204.14648824,  50.49466052],\n",
       "        [ 24.60335159,  35.47850043,  90.9019978 ],\n",
       "        [ 30.45487034, 207.06583077,  35.2821975 ],\n",
       "        [ -4.55613095, 161.56059974, -35.32591573],\n",
       "        [ 63.15568313, 113.0865661 ,  73.45836583],\n",
       "        [111.91204374, 113.0088321 ,  68.02770738],\n",
       "        [113.14477397,   3.34431378,  77.75351234],\n",
       "        [-22.18617403, 100.02908184,  19.63307632],\n",
       "        [131.68576961,  -4.08541256,  46.55516131]]), -212.19556806898453, -5435.6693100287375, 2855.6573347811077]"
      ]
     },
     "execution_count": 10,
     "metadata": {},
     "output_type": "execute_result"
    }
   ],
   "source": [
    "grad_bootstrap"
   ]
  },
  {
   "cell_type": "code",
   "execution_count": 9,
   "metadata": {},
   "outputs": [
    {
     "data": {
      "text/plain": [
       "(8.185452315956354e-12, 11593.387857705353)"
      ]
     },
     "execution_count": 9,
     "metadata": {},
     "output_type": "execute_result"
    }
   ],
   "source": [
    "np.sum(np.abs(grad_bootstrap[0]-grad_block[0])), np.sum(np.abs(grad_bootstrap[1]-grad_block[1]))"
   ]
  },
  {
   "cell_type": "code",
   "execution_count": 10,
   "metadata": {},
   "outputs": [
    {
     "data": {
      "text/plain": [
       "-85.98063988535276"
      ]
     },
     "execution_count": 10,
     "metadata": {},
     "output_type": "execute_result"
    }
   ],
   "source": [
    "logNC"
   ]
  },
  {
   "cell_type": "raw",
   "metadata": {},
   "source": [
    "# tracking:\n",
    "plt.rcParams['figure.figsize'] = (18, 25)\n",
    "for i in range(I) :\n",
    "    for k in range(K) :\n",
    "        idx = i*K + k + 1\n",
    "        plt.subplot(I,K,idx)\n",
    "        ci_block = np.percentile(particles_block[1:,:,i,k], axis=1, q=[2.5,97.5])\n",
    "        ci_bootstrap = np.percentile(particles_bootstrap[1:,i,k,:], axis=1, q=[2.5,97.5])\n",
    "        plt.rcParams['figure.figsize'] = (16, 3.5)\n",
    "        plt.plot(np.arange(1,T+1), X[1:,i,k], 'bo-', markersize=3, lw=0.5)\n",
    "        plt.fill_between(np.arange(1,T+1), ci_block[0], ci_block[1], color='red', alpha=.3)\n",
    "        plt.fill_between(np.arange(1,T+1), ci_bootstrap[0], ci_bootstrap[1], color='green', alpha=.3)\n",
    "        plt.grid(True)\n",
    "        plt.xlim(0,T+1)\n",
    "        if i < (I-1) : plt.xticks(alpha=0)\n",
    "        if k == (K-1) : plt.yticks(alpha=0)\n",
    "        plt.subplots_adjust(hspace=0,wspace=0)"
   ]
  },
  {
   "cell_type": "code",
   "execution_count": 6,
   "metadata": {
    "collapsed": true
   },
   "outputs": [],
   "source": [
    "n_particles = 1000\n",
    "particles = npr.randn(n_particles,I,K) \n",
    "propagated_particles = npr.randn(*np.shape(particles))\n",
    "y = Y[1]"
   ]
  },
  {
   "cell_type": "code",
   "execution_count": 7,
   "metadata": {},
   "outputs": [
    {
     "name": "stdout",
     "output_type": "stream",
     "text": [
      "131 µs ± 250 ns per loop (mean ± std. dev. of 7 runs, 10000 loops each)\n",
      "2.43 ms ± 7.05 µs per loop (mean ± std. dev. of 7 runs, 100 loops each)\n",
      "240 µs ± 1.52 µs per loop (mean ± std. dev. of 7 runs, 1000 loops each)\n",
      "303 µs ± 992 ns per loop (mean ± std. dev. of 7 runs, 1000 loops each)\n",
      "269 µs ± 688 ns per loop (mean ± std. dev. of 7 runs, 1000 loops each)\n"
     ]
    }
   ],
   "source": [
    "%timeit alpha_grad_blockPF(y, theta, propagated_particles, particles)\n",
    "%timeit lmbda_grad_blockPF(y, theta, propagated_particles, particles)\n",
    "%timeit c_grad_blockPF(y, theta, propagated_particles, particles)\n",
    "%timeit phi_grad_blockPF(y, theta, propagated_particles, particles)\n",
    "%timeit logsigmasq_grad_blockPF(y, theta, propagated_particles, particles)"
   ]
  },
  {
   "cell_type": "code",
   "execution_count": null,
   "metadata": {
    "collapsed": true
   },
   "outputs": [],
   "source": []
  }
 ],
 "metadata": {
  "kernelspec": {
   "display_name": "Python 3",
   "language": "python",
   "name": "python3"
  },
  "language_info": {
   "codemirror_mode": {
    "name": "ipython",
    "version": 3
   },
   "file_extension": ".py",
   "mimetype": "text/x-python",
   "name": "python",
   "nbconvert_exporter": "python",
   "pygments_lexer": "ipython3",
   "version": "3.6.2"
  }
 },
 "nbformat": 4,
 "nbformat_minor": 2
}
