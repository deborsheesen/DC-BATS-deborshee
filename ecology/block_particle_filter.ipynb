{
 "cells": [
  {
   "cell_type": "markdown",
   "metadata": {},
   "source": [
    "### Block particle filter\n",
    "\n",
    "* Algorithm 2 of https://projecteuclid.org/download/pdfview_1/euclid.aoap/1438261054"
   ]
  },
  {
   "cell_type": "code",
   "execution_count": 1,
   "metadata": {
    "collapsed": true
   },
   "outputs": [],
   "source": [
    "# Calling libraries:\n",
    "from __future__ import division\n",
    "%matplotlib inline\n",
    "import numpy as np, time, matplotlib.pyplot as plt, math, pandas, numpy.random as npr, multiprocessing as mp, timeit\n",
    "from pylab import plot, show, legend\n",
    "from time import time\n",
    "from scipy.stats import *\n",
    "from tqdm import trange\n",
    "from ecology_functions import *"
   ]
  },
  {
   "cell_type": "code",
   "execution_count": 2,
   "metadata": {
    "collapsed": true
   },
   "outputs": [],
   "source": [
    "T = 100\n",
    "I = 7  # number of locations\n",
    "J = 3  # number of species\n",
    "K = 5   # number of latent factors"
   ]
  },
  {
   "cell_type": "code",
   "execution_count": 3,
   "metadata": {
    "collapsed": true
   },
   "outputs": [],
   "source": [
    "lmbda = npr.randn(J,K)\n",
    "alpha = npr.randn(J)\n",
    "c = 0\n",
    "phi = 0.5\n",
    "logsigmasq = 0\n",
    "x_0 = npr.randn(I,K)\n",
    "\n",
    "theta = [alpha, lmbda, c, phi, logsigmasq]\n",
    "Y, X = simulate_data(x_0, T, J, theta)"
   ]
  },
  {
   "cell_type": "code",
   "execution_count": 4,
   "metadata": {},
   "outputs": [],
   "source": [
    "# n_particles = 1000\n",
    "# %timeit block_pf(Y, x_0, n_particles, theta, calc_grad=True)\n",
    "# %timeit bootstrap_PF_grad(x_0, n_particles, theta, Y, calc_grad=True)\n",
    "# %timeit block_pf(Y, x_0, n_particles, theta, calc_grad=False)\n",
    "# %timeit bootstrap_PF_grad(x_0, n_particles, theta, Y, calc_grad=False)"
   ]
  },
  {
   "cell_type": "code",
   "execution_count": 5,
   "metadata": {},
   "outputs": [],
   "source": [
    "# n_particles = 5000\n",
    "# %timeit block_pf(Y, x_0, n_particles, theta, calc_grad=True)\n",
    "# %timeit bootstrap_PF_grad(x_0, n_particles, theta, Y, calc_grad=True)\n",
    "# %timeit block_pf(Y, x_0, n_particles, theta, calc_grad=False)\n",
    "# %timeit bootstrap_PF_grad(x_0, n_particles, theta, Y, calc_grad=False)"
   ]
  },
  {
   "cell_type": "code",
   "execution_count": 6,
   "metadata": {
    "scrolled": true
   },
   "outputs": [],
   "source": [
    "def f_block(n_particles) :\n",
    "    return block_pf(Y, x_0, n_particles, theta, True)\n",
    "def f_bootstrap(n_particles) :\n",
    "    return bootstrap_PF_grad(x_0, n_particles, theta, Y, True)\n",
    "\n",
    "n_particles = 1000\n",
    "rep = 100\n",
    "\n",
    "pool = mp.Pool(10)\n",
    "results_block = pool.map(f_block, [n_particles for n_particles in [n_particles]*rep])\n",
    "results_bootstrap = pool.map(f_bootstrap, [n_particles for n_particles in [n_particles]*rep])\n",
    "pool.close()\n",
    "\n",
    "alpha_grad, lmbda_grad, logNC = np.zeros((rep,2,J)), np.zeros((rep,2,J,K)), np.zeros((rep,2))\n",
    "for r in range(rep) :\n",
    "    logNC[r,0], logNC[r,1] = results_block[r][0], results_bootstrap[r][0]\n",
    "    alpha_grad[r,0], lmbda_grad[r,0] = results_block[r][1][0:2]\n",
    "    alpha_grad[r,1], lmbda_grad[r,1] = results_bootstrap[r][1][0:2]"
   ]
  },
  {
   "cell_type": "code",
   "execution_count": 7,
   "metadata": {},
   "outputs": [
    {
     "name": "stdout",
     "output_type": "stream",
     "text": [
      "[-1359.42972957 -1364.89120557]\n",
      "[18.75359131 42.88469646]\n"
     ]
    }
   ],
   "source": [
    "print(np.mean(logNC, 0))\n",
    "print(np.var(logNC, 0))"
   ]
  },
  {
   "cell_type": "code",
   "execution_count": 8,
   "metadata": {},
   "outputs": [
    {
     "name": "stdout",
     "output_type": "stream",
     "text": [
      "[[[  59.48825403    7.71370937  164.58877937 -108.68559801   21.41896423]\n",
      "  [ -10.84948687  -15.88966041 -278.13151292   -8.64911008   50.31447991]\n",
      "  [  19.83078394   72.31279036   31.45786556 -138.46146446   97.89600083]]\n",
      "\n",
      " [[  52.0844303     9.03707694  151.34140527  -99.33274024   24.38834825]\n",
      "  [ -17.40165355  -10.78164744 -260.57872435    0.87327301   45.90480651]\n",
      "  [  15.07683306   62.62050332   22.08697811 -124.03373364   88.81739684]]]\n"
     ]
    }
   ],
   "source": [
    "print(np.mean(lmbda_grad, 0))"
   ]
  },
  {
   "cell_type": "code",
   "execution_count": 9,
   "metadata": {},
   "outputs": [
    {
     "name": "stdout",
     "output_type": "stream",
     "text": [
      "[[[ 33.27912111  40.15813615  19.08170796  28.32807163  33.26862009]\n",
      "  [ 45.75859341  55.51169955  25.65181174  39.86583045  53.44954772]\n",
      "  [ 45.77168139  50.27838403  27.90769628  37.57061277  47.49222174]]\n",
      "\n",
      " [[633.5324938  624.65845893 202.40141309 311.98903828 559.61343726]\n",
      "  [643.21026717 760.87841111 251.4164623  393.42823084 658.487638  ]\n",
      "  [759.27975252 951.54225911 323.9643154  517.71511433 682.42526988]]]\n"
     ]
    }
   ],
   "source": [
    "print(np.var(lmbda_grad, 0))"
   ]
  },
  {
   "cell_type": "code",
   "execution_count": null,
   "metadata": {
    "collapsed": true
   },
   "outputs": [],
   "source": []
  },
  {
   "cell_type": "markdown",
   "metadata": {},
   "source": [
    "### Something strange. This should have worked. Double-check!\n"
   ]
  },
  {
   "cell_type": "code",
   "execution_count": null,
   "metadata": {
    "collapsed": true
   },
   "outputs": [],
   "source": []
  },
  {
   "cell_type": "raw",
   "metadata": {},
   "source": [
    "# tracking:\n",
    "plt.rcParams['figure.figsize'] = (18, 25)\n",
    "for i in range(I) :\n",
    "    for k in range(K) :\n",
    "        idx = i*K + k + 1\n",
    "        plt.subplot(I,K,idx)\n",
    "        ci_block = np.percentile(particles_block[1:,:,i,k], axis=1, q=[2.5,97.5])\n",
    "        ci_bootstrap = np.percentile(particles_bootstrap[1:,i,k,:], axis=1, q=[2.5,97.5])\n",
    "        plt.rcParams['figure.figsize'] = (16, 3.5)\n",
    "        plt.plot(np.arange(1,T+1), X[1:,i,k], 'bo-', markersize=3, lw=0.5)\n",
    "        plt.fill_between(np.arange(1,T+1), ci_block[0], ci_block[1], color='red', alpha=.3)\n",
    "        plt.fill_between(np.arange(1,T+1), ci_bootstrap[0], ci_bootstrap[1], color='green', alpha=.3)\n",
    "        plt.grid(True)\n",
    "        plt.xlim(0,T+1)\n",
    "        if i < (I-1) : plt.xticks(alpha=0)\n",
    "        if k == (K-1) : plt.yticks(alpha=0)\n",
    "        plt.subplots_adjust(hspace=0,wspace=0)"
   ]
  },
  {
   "cell_type": "code",
   "execution_count": 6,
   "metadata": {
    "collapsed": true
   },
   "outputs": [],
   "source": [
    "n_particles = 1000\n",
    "particles = npr.randn(n_particles,I,K) \n",
    "propagated_particles = npr.randn(*np.shape(particles))\n",
    "y = Y[1]"
   ]
  },
  {
   "cell_type": "code",
   "execution_count": 7,
   "metadata": {},
   "outputs": [
    {
     "name": "stdout",
     "output_type": "stream",
     "text": [
      "131 µs ± 250 ns per loop (mean ± std. dev. of 7 runs, 10000 loops each)\n",
      "2.43 ms ± 7.05 µs per loop (mean ± std. dev. of 7 runs, 100 loops each)\n",
      "240 µs ± 1.52 µs per loop (mean ± std. dev. of 7 runs, 1000 loops each)\n",
      "303 µs ± 992 ns per loop (mean ± std. dev. of 7 runs, 1000 loops each)\n",
      "269 µs ± 688 ns per loop (mean ± std. dev. of 7 runs, 1000 loops each)\n"
     ]
    }
   ],
   "source": [
    "%timeit alpha_grad_blockPF(y, theta, propagated_particles, particles)\n",
    "%timeit lmbda_grad_blockPF(y, theta, propagated_particles, particles)\n",
    "%timeit c_grad_blockPF(y, theta, propagated_particles, particles)\n",
    "%timeit phi_grad_blockPF(y, theta, propagated_particles, particles)\n",
    "%timeit logsigmasq_grad_blockPF(y, theta, propagated_particles, particles)"
   ]
  },
  {
   "cell_type": "code",
   "execution_count": null,
   "metadata": {
    "collapsed": true
   },
   "outputs": [],
   "source": []
  }
 ],
 "metadata": {
  "kernelspec": {
   "display_name": "Python 3",
   "language": "python",
   "name": "python3"
  },
  "language_info": {
   "codemirror_mode": {
    "name": "ipython",
    "version": 3
   },
   "file_extension": ".py",
   "mimetype": "text/x-python",
   "name": "python",
   "nbconvert_exporter": "python",
   "pygments_lexer": "ipython3",
   "version": "3.6.2"
  }
 },
 "nbformat": 4,
 "nbformat_minor": 2
}
