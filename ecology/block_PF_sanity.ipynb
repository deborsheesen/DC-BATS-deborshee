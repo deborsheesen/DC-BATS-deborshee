{
 "cells": [
  {
   "cell_type": "markdown",
   "metadata": {},
   "source": [
    "### Sanity checks:"
   ]
  },
  {
   "cell_type": "code",
   "execution_count": 1,
   "metadata": {
    "collapsed": true
   },
   "outputs": [],
   "source": [
    "# Calling libraries:\n",
    "from __future__ import division\n",
    "%matplotlib inline\n",
    "import numpy as np, time, matplotlib.pyplot as plt, math, pandas, numpy.random as npr, multiprocessing as mp, gc\n",
    "from pylab import plot, show, legend\n",
    "from time import time\n",
    "from scipy.stats import *\n",
    "from tqdm import trange\n",
    "from ecology_functions import *\n",
    "gc.enable()"
   ]
  },
  {
   "cell_type": "code",
   "execution_count": 2,
   "metadata": {
    "collapsed": true
   },
   "outputs": [],
   "source": [
    "gc.collect();"
   ]
  },
  {
   "cell_type": "code",
   "execution_count": 3,
   "metadata": {
    "collapsed": true
   },
   "outputs": [],
   "source": [
    "T = 100\n",
    "I = 10    # number of locations\n",
    "J = 5    # number of species\n",
    "K = 3    # number of latent factors"
   ]
  },
  {
   "cell_type": "code",
   "execution_count": 4,
   "metadata": {
    "collapsed": true
   },
   "outputs": [],
   "source": [
    "lmbda = npr.randn(J,K)\n",
    "alpha = npr.randn(J)\n",
    "c = 0\n",
    "phi = 0.5\n",
    "logsigmasq = 0\n",
    "x_0 = npr.randn(I,K)\n",
    "\n",
    "theta = [alpha, lmbda, c, phi, logsigmasq]\n",
    "Y, X = simulate_data(x_0, T, J, theta)"
   ]
  },
  {
   "cell_type": "code",
   "execution_count": 5,
   "metadata": {},
   "outputs": [],
   "source": [
    "n_particles = 1000\n",
    "alpha_grad, lmbda_grad, c_grad, phi_grad, logsigmasq_grad, logNC = \\\n",
    "get_grads(Y, x_0, n_particles, theta, Tmax=T, Imax=I, Jmax=J, Kmax=K, rep=500)"
   ]
  },
  {
   "cell_type": "code",
   "execution_count": 6,
   "metadata": {},
   "outputs": [
    {
     "data": {
      "text/plain": [
       "array([[-1.5662818 , 16.34826565, -6.52233871, 16.75976315,  5.19323186],\n",
       "       [-6.19359107, 23.36082572, -4.59158449, 21.57583521,  8.68506089]])"
      ]
     },
     "execution_count": 6,
     "metadata": {},
     "output_type": "execute_result"
    }
   ],
   "source": [
    "np.mean(alpha_grad,0)"
   ]
  },
  {
   "cell_type": "code",
   "execution_count": 7,
   "metadata": {},
   "outputs": [
    {
     "data": {
      "text/plain": [
       "array([[ 14.50002484,   8.96450095,  11.2405416 ,   7.15099823,\n",
       "         11.31325209],\n",
       "       [126.4916809 ,  82.51373262, 112.01409825,  63.07797421,\n",
       "        107.02187384]])"
      ]
     },
     "execution_count": 7,
     "metadata": {},
     "output_type": "execute_result"
    }
   ],
   "source": [
    "np.var(alpha_grad,0)"
   ]
  },
  {
   "cell_type": "code",
   "execution_count": 8,
   "metadata": {},
   "outputs": [
    {
     "data": {
      "text/plain": [
       "array([ 8.7,  9.2, 10. ,  8.8,  9.5])"
      ]
     },
     "execution_count": 8,
     "metadata": {},
     "output_type": "execute_result"
    }
   ],
   "source": [
    "np.round(np.var(alpha_grad,0)[1]/np.var(alpha_grad,0)[0],1)"
   ]
  },
  {
   "cell_type": "code",
   "execution_count": 9,
   "metadata": {},
   "outputs": [
    {
     "data": {
      "text/plain": [
       "array([[[ 1.27561870e+00,  3.04267840e+00,  4.55274728e+00],\n",
       "        [ 4.16948298e+00,  6.85142525e+00,  2.27979325e-02],\n",
       "        [-4.15054799e+00, -4.47908497e+00,  2.33020242e+00],\n",
       "        [-1.53050712e+00,  4.07375007e+00,  1.65984512e-01],\n",
       "        [ 3.80936042e+00, -3.16617779e+00, -2.36721504e+00]],\n",
       "\n",
       "       [[ 2.90296827e+01,  1.78637231e+01,  6.98755572e+01],\n",
       "        [-2.31975870e+01, -1.12043738e+01, -1.96143306e-01],\n",
       "        [-3.72734121e+01,  1.06980401e+01,  2.42018198e+01],\n",
       "        [-1.44816793e+01,  4.21024508e+01, -2.44947277e+01],\n",
       "        [-1.59815117e+01,  5.36373670e+01, -1.23030803e+01]]])"
      ]
     },
     "execution_count": 9,
     "metadata": {},
     "output_type": "execute_result"
    }
   ],
   "source": [
    "np.mean(lmbda_grad,0)"
   ]
  },
  {
   "cell_type": "code",
   "execution_count": 10,
   "metadata": {},
   "outputs": [
    {
     "data": {
      "text/plain": [
       "array([[[ 23.5897224 ,  23.41089242,  18.36010146],\n",
       "        [ 11.91572078,  17.06317248,  20.37099264],\n",
       "        [ 11.10674967,  20.71713508,  18.8738299 ],\n",
       "        [ 23.68719188,  21.23667231,  32.62195752],\n",
       "        [ 25.95282061,  19.53632763,  26.54260302]],\n",
       "\n",
       "       [[175.70831781, 179.84427842, 158.83440523],\n",
       "        [ 98.13060185, 148.87197969, 146.7910036 ],\n",
       "        [ 85.88373915, 175.82865073, 136.85263973],\n",
       "        [184.22114826, 172.11544343, 189.7176481 ],\n",
       "        [194.76665146, 165.13672372, 195.78281073]]])"
      ]
     },
     "execution_count": 10,
     "metadata": {},
     "output_type": "execute_result"
    }
   ],
   "source": [
    "np.var(lmbda_grad,0)"
   ]
  },
  {
   "cell_type": "code",
   "execution_count": 11,
   "metadata": {},
   "outputs": [
    {
     "data": {
      "text/plain": [
       "array([[7.4, 7.7, 8.7],\n",
       "       [8.2, 8.7, 7.2],\n",
       "       [7.7, 8.5, 7.3],\n",
       "       [7.8, 8.1, 5.8],\n",
       "       [7.5, 8.5, 7.4]])"
      ]
     },
     "execution_count": 11,
     "metadata": {},
     "output_type": "execute_result"
    }
   ],
   "source": [
    "np.round(np.var(lmbda_grad,0)[1]/np.var(lmbda_grad,0)[0],1)"
   ]
  },
  {
   "cell_type": "code",
   "execution_count": 12,
   "metadata": {},
   "outputs": [
    {
     "data": {
      "image/png": "[encoded data removed]",
      "text/plain": [
       "<Figure size 288x216 with 1 Axes>"
      ]
     },
     "metadata": {},
     "output_type": "display_data"
    }
   ],
   "source": [
    "fig = plt.rcParams['figure.figsize'] = (4, 3)\n",
    "plt.hist(logNC[:,0], bins=25, alpha=0.5, color=\"red\")\n",
    "plt.hist(logNC[:,1], bins=25, alpha=0.5, color=\"blue\")\n",
    "plt.grid(True);"
   ]
  },
  {
   "cell_type": "code",
   "execution_count": 13,
   "metadata": {},
   "outputs": [
    {
     "data": {
      "image/png": "[encoded data removed]",
      "text/plain": [
       "<Figure size 720x180 with 3 Axes>"
      ]
     },
     "metadata": {},
     "output_type": "display_data"
    }
   ],
   "source": [
    "fig = plt.rcParams['figure.figsize'] = (10, 2.5)\n",
    "plt.subplot(131)\n",
    "plt.hist(c_grad[:,0], bins=25, alpha=0.5, color=\"red\")\n",
    "plt.hist(c_grad[:,1], bins=25, alpha=0.5, color=\"blue\")\n",
    "plt.grid(True)\n",
    "plt.subplot(132)\n",
    "plt.hist(phi_grad[:,0], bins=25, alpha=0.5, color=\"red\")\n",
    "plt.hist(phi_grad[:,1], bins=25, alpha=0.5, color=\"blue\")\n",
    "plt.grid(True)\n",
    "plt.subplot(133)\n",
    "plt.hist(logsigmasq_grad[:,0], bins=25, alpha=0.5, color=\"red\")\n",
    "plt.hist(logsigmasq_grad[:,1], bins=25, alpha=0.5, color=\"blue\")\n",
    "plt.grid(True)"
   ]
  },
  {
   "cell_type": "code",
   "execution_count": 14,
   "metadata": {
    "scrolled": true
   },
   "outputs": [
    {
     "data": {
      "image/png": "[encoded data removed]",
      "text/plain": [
       "<Figure size 720x360 with 15 Axes>"
      ]
     },
     "metadata": {},
     "output_type": "display_data"
    }
   ],
   "source": [
    "fig = plt.rcParams['figure.figsize'] = (10, 5)\n",
    "for k in range(K) :\n",
    "    for j in range(J) :\n",
    "        idx = k*J + j + 1\n",
    "        plt.subplot(K,J,idx)\n",
    "        plt.hist(lmbda_grad[:,0,j,k], bins=25, alpha=0.5, color=\"red\")\n",
    "        plt.hist(lmbda_grad[:,1,j,k], bins=25, alpha=0.5, color=\"blue\")\n",
    "        plt.grid(True)"
   ]
  },
  {
   "cell_type": "code",
   "execution_count": null,
   "metadata": {
    "collapsed": true
   },
   "outputs": [],
   "source": []
  },
  {
   "cell_type": "code",
   "execution_count": null,
   "metadata": {
    "collapsed": true
   },
   "outputs": [],
   "source": []
  }
 ],
 "metadata": {
  "kernelspec": {
   "display_name": "Python 3",
   "language": "python",
   "name": "python3"
  },
  "language_info": {
   "codemirror_mode": {
    "name": "ipython",
    "version": 3
   },
   "file_extension": ".py",
   "mimetype": "text/x-python",
   "name": "python",
   "nbconvert_exporter": "python",
   "pygments_lexer": "ipython3",
   "version": "3.6.2"
  }
 },
 "nbformat": 4,
 "nbformat_minor": 2
}
