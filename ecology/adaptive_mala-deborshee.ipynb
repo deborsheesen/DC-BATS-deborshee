{
 "cells": [
  {
   "cell_type": "code",
   "execution_count": 1,
   "metadata": {
    "collapsed": true
   },
   "outputs": [],
   "source": [
    "# Calling libraries:\n",
    "from __future__ import division\n",
    "%matplotlib inline\n",
    "import numpy as np, time, matplotlib.pyplot as plt, math, pandas, numpy.random as npr, multiprocessing as mp, copy\n",
    "from pylab import plot, show, legend\n",
    "from time import time\n",
    "from scipy.stats import *\n",
    "from tqdm import trange\n",
    "from ecology_functions import *"
   ]
  },
  {
   "cell_type": "code",
   "execution_count": 2,
   "metadata": {
    "collapsed": true
   },
   "outputs": [],
   "source": [
    "def propose_MALA(theta, grad, tau, update) :\n",
    "    npr.seed()\n",
    "    scipy.random.seed()\n",
    "    return [theta[i] + update[i]*(tau[i]*grad[i] + np.sqrt(2*np.abs(tau[i]))*npr.randn(*np.shape(theta[i]))) for i in range(5)]"
   ]
  },
  {
   "cell_type": "code",
   "execution_count": 3,
   "metadata": {
    "collapsed": true
   },
   "outputs": [],
   "source": [
    "def adapt_tau(theta_mu, theta_m2) :\n",
    "    return [0.4*(theta_m2[i]-theta_mu[i]**2) for i in range(5)]"
   ]
  },
  {
   "cell_type": "code",
   "execution_count": 4,
   "metadata": {
    "collapsed": true
   },
   "outputs": [],
   "source": [
    "def update_moments(theta_mu, theta_m2, theta, n) :\n",
    "    theta_mu = [(n*theta_mu[i] + theta[i])/(n+1) for i in range(5)]\n",
    "    theta_m2 = [(n*theta_m2[i] + theta[i]**2)/(n+1) for i in range(5)]\n",
    "    return theta_mu, theta_m2"
   ]
  },
  {
   "cell_type": "markdown",
   "metadata": {},
   "source": [
    "* Problem here, don't want to divide by 0 when tau[i] is 0."
   ]
  },
  {
   "cell_type": "code",
   "execution_count": 5,
   "metadata": {
    "collapsed": true
   },
   "outputs": [],
   "source": [
    "def transition_prob_MALA(theta_curr, theta_prop, ll_curr, ll_prop, grad_curr, grad_prop, tau, power, update) :\n",
    "    \n",
    "    log_prior_curr, log_prior_prop = log_prior(theta_curr), log_prior(theta_prop) \n",
    "    a = power*(ll_prop-ll_curr) + (log_prior_prop-log_prior_curr)\n",
    "    J, K = np.shape(theta_curr[1])\n",
    "    \n",
    "    # need to fix the problem of dividing by 0 when tau[i] and update[i] are 0\n",
    "    b1, b2 = 0, 0\n",
    "    for i in range(5) :\n",
    "        if update[i] > 0 :\n",
    "            b1 += -np.linalg.norm((theta_curr[i] - theta_prop[i] - tau[i]*grad_curr[i])/(2*np.sqrt(np.abs(tau[i]))))**2\n",
    "            b2 += -np.linalg.norm((theta_prop[i] - theta_curr[i] - tau[i]*grad_prop[i])/(2*np.sqrt(np.abs(tau[i]))))**2\n",
    "    return a + b1 - b2"
   ]
  },
  {
   "cell_type": "code",
   "execution_count": 6,
   "metadata": {
    "collapsed": true
   },
   "outputs": [],
   "source": [
    "def pMCMC_MALA(Y, x_0, n_particles, theta_0, n_mcmc, tau, update, adapt, start_adapt=0.2, power=1) :\n",
    "    \n",
    "    np.random.seed()\n",
    "    scipy.random.seed()\n",
    "    \n",
    "    alpha_chain, lmbda_chain, c_chain, phi_chain, logsigmasq_chain, lls, theta_mu, theta_m2 = initialise(theta_0, n_mcmc)\n",
    "    theta_chain = [alpha_chain, lmbda_chain, c_chain, phi_chain, logsigmasq_chain]\n",
    "    \n",
    "    theta_curr = [alpha_chain[0], lmbda_chain[0], c_chain[0], phi_chain[0], logsigmasq_chain[0]]    \n",
    "    ll_curr, grad_curr = block_PF(Y, x_0, n_particles, theta_curr, calc_grad=True)\n",
    "    accepted = 0\n",
    "    last_jump = 0\n",
    "    \n",
    "    start = time()\n",
    "    for n in range(n_mcmc) :\n",
    "        theta_prop = propose_MALA(theta_curr, grad_curr, tau, update)\n",
    "        ll_prop, grad_prop = block_PF(Y, x_0, n_particles, theta_prop, calc_grad=True)\n",
    "        log_accept_prob = transition_prob_MALA(theta_curr, theta_prop, ll_curr, ll_prop, grad_curr, grad_prop, \n",
    "                                               tau, power, update)\n",
    "        if np.log(npr.rand()) < log_accept_prob :\n",
    "            ll_curr = np.copy(ll_prop)\n",
    "            theta_curr = np.copy(theta_prop)\n",
    "            grad_curr = np.copy(grad_prop)\n",
    "            accepted += 1\n",
    "            last_jump = n\n",
    "        else :\n",
    "            if n - last_jump > 50 :\n",
    "                ll_curr, grad_curr = block_PF(Y, x_0, n_particles, theta_curr, calc_grad=True)\n",
    "        if adapt :\n",
    "            theta_mu, theta_m2 = update_moments(theta_mu, theta_m2, theta_curr, n+1)\n",
    "            if n >= int(n_mcmc*start_adapt) : \n",
    "                tau = adapt_tau(theta_mu, theta_m2)\n",
    "        \n",
    "        if (10*(n+1))%n_mcmc == 0 :\n",
    "            print(100*(n+1)/n_mcmc, \"% over in\", round((time()-start)/60,2),\n",
    "                  \"minutes; acceptance ratio =\", 100*accepted/(n+1), \"%\")\n",
    "           \n",
    "        theta_chain = push(theta_chain, theta_curr, n+1)\n",
    "\n",
    "    return theta_chain, theta_mu, theta_m2"
   ]
  },
  {
   "cell_type": "markdown",
   "metadata": {},
   "source": [
    "#### Simulate observations:"
   ]
  },
  {
   "cell_type": "code",
   "execution_count": 7,
   "metadata": {
    "collapsed": true
   },
   "outputs": [],
   "source": [
    "T = 100\n",
    "I = 5    # number of locations\n",
    "J = 3    # number of species\n",
    "K = 2    # number of latent factors"
   ]
  },
  {
   "cell_type": "code",
   "execution_count": 8,
   "metadata": {
    "collapsed": true
   },
   "outputs": [],
   "source": [
    "lmbda = npr.randn(J,K)\n",
    "alpha = npr.randn(J)\n",
    "c = 0\n",
    "phi = 0.5\n",
    "logsigmasq = 0\n",
    "x_0 = npr.randn(I,K)\n",
    "\n",
    "theta = [alpha, lmbda, c, phi, logsigmasq]\n",
    "Y, X = simulate_data(x_0, T, J, theta)"
   ]
  },
  {
   "cell_type": "code",
   "execution_count": 9,
   "metadata": {
    "collapsed": true
   },
   "outputs": [],
   "source": [
    "update = [1, *np.zeros(4)]\n",
    "eps = 5e-3\n",
    "tau = [eps*np.ones(J), eps*np.ones((J,K)), eps, eps, eps]"
   ]
  },
  {
   "cell_type": "code",
   "execution_count": 10,
   "metadata": {},
   "outputs": [
    {
     "name": "stderr",
     "output_type": "stream",
     "text": [
      "/home/postdoc/dsen/.local/lib/python3.6/site-packages/numpy/lib/function_base.py:792: VisibleDeprecationWarning: Creating an ndarray from ragged nested sequences (which is a list-or-tuple of lists-or-tuples-or ndarrays with different lengths or shapes) is deprecated. If you meant to do this, you must specify 'dtype=object' when creating the ndarray\n",
      "  return array(a, order=order, subok=subok, copy=True)\n"
     ]
    },
    {
     "name": "stdout",
     "output_type": "stream",
     "text": [
      "10.0 % over in 1.26 minutes; acceptance ratio = 21.0 %\n",
      "20.0 % over in 2.5 minutes; acceptance ratio = 19.5 %\n",
      "30.0 % over in 3.73 minutes; acceptance ratio = 18.0 %\n",
      "40.0 % over in 4.96 minutes; acceptance ratio = 20.25 %\n",
      "50.0 % over in 6.2 minutes; acceptance ratio = 19.6 %\n",
      "60.0 % over in 7.45 minutes; acceptance ratio = 19.25 %\n",
      "70.0 % over in 8.7 minutes; acceptance ratio = 18.5 %\n",
      "80.0 % over in 9.95 minutes; acceptance ratio = 18.875 %\n",
      "90.0 % over in 11.24 minutes; acceptance ratio = 18.0 %\n",
      "100.0 % over in 12.5 minutes; acceptance ratio = 18.05 %\n"
     ]
    }
   ],
   "source": [
    "n_particles = 1000\n",
    "n_mcmc = 2000\n",
    "theta_, theta_mu, theta_m2 = pMCMC_MALA(Y, x_0, n_particles, theta, n_mcmc, tau, update, adapt=True, start_adapt=0.5)"
   ]
  },
  {
   "cell_type": "code",
   "execution_count": 11,
   "metadata": {},
   "outputs": [
    {
     "data": {
      "image/png": "[encoded data removed]",
      "text/plain": [
       "<Figure size 432x288 with 1 Axes>"
      ]
     },
     "metadata": {},
     "output_type": "display_data"
    }
   ],
   "source": [
    "plt.plot(theta_[0])\n",
    "plt.grid(True)"
   ]
  },
  {
   "cell_type": "code",
   "execution_count": null,
   "metadata": {
    "collapsed": true
   },
   "outputs": [],
   "source": []
  }
 ],
 "metadata": {
  "kernelspec": {
   "display_name": "Python 3",
   "language": "python",
   "name": "python3"
  },
  "language_info": {
   "codemirror_mode": {
    "name": "ipython",
    "version": 3
   },
   "file_extension": ".py",
   "mimetype": "text/x-python",
   "name": "python",
   "nbconvert_exporter": "python",
   "pygments_lexer": "ipython3",
   "version": "3.6.2"
  }
 },
 "nbformat": 4,
 "nbformat_minor": 2
}
