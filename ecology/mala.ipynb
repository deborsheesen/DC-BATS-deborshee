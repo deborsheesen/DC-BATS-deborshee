{
 "cells": [
  {
   "cell_type": "markdown",
   "metadata": {},
   "source": [
    "### Gradients:\n",
    "\n",
    "* We have $X_t, X_{t-1} \\in \\mathbb{R}^{I \\times K}$, $Y_t \\in \\mathbb{R}^{I \\times J}$.\n",
    "\n",
    "* \n",
    "\\begin{align}\n",
    "\\nabla_c \\log p_\\theta(X_t \\mid X_{t-1}) \n",
    "=\n",
    "\\nabla_c\\left \\{ \\frac{-1}{2 \\sigma^2} \\| c + \\phi X_{t-1} - X_t \\|^2 \\right \\} \n",
    "& = \n",
    "\\frac{-1}{\\sigma^2} \\left \\{ c(IK)^2 + \\langle \\mathbf{1} \\mathbf{1}^\\top, \\phi X_{t-1} - X_t \\rangle \\right \\} \n",
    "\\\\ \n",
    "\\nabla_\\phi \\log p_\\theta(X_t \\mid X_{t-1}) \n",
    "=\n",
    "\\nabla_\\phi \\left \\{ \\frac{-1}{2 \\sigma^2} \\| c + \\phi X_{t-1} - X_t \\|^2 \\right \\} \n",
    "& = \n",
    "\\frac{-1}{\\sigma^2} \\left \\{ \\phi \\|X_{t-1}\\|^2 - \\langle X_{t-1}, c-X_t \\rangle \\right \\} \n",
    "\\\\\n",
    "\\nabla_{\\sigma^2} \\log p_\\theta(X_t \\mid X_{t-1}) \n",
    "=\n",
    "\\nabla_{\\sigma^2} \\left \\{ \\frac{-1}{2 \\sigma^2} \\| c + \\phi X_{t-1} - X_t \\|^2 \\right \\} \n",
    "& = \n",
    "\\frac{1}{2 \\sigma^4} \\| c + \\phi X_{t-1} - X_t \\|^2.\n",
    "\\end{align} \n",
    "\n",
    "#### Fix parameters of latent chain."
   ]
  },
  {
   "cell_type": "code",
   "execution_count": 1,
   "metadata": {
    "collapsed": true
   },
   "outputs": [],
   "source": [
    "# Calling libraries:\n",
    "from __future__ import division\n",
    "%matplotlib inline\n",
    "import numpy as np, time, matplotlib.pyplot as plt, math, pandas, numpy.random as npr, multiprocessing as mp, copy\n",
    "from pylab import plot, show, legend\n",
    "\n",
    "from time import time\n",
    "from scipy.stats import *\n",
    "from tqdm import trange\n",
    "from ecology_functions import *"
   ]
  },
  {
   "cell_type": "code",
   "execution_count": 16,
   "metadata": {
    "collapsed": true
   },
   "outputs": [],
   "source": [
    "T = 100\n",
    "I = 10  # number of locations\n",
    "J = 5  # number of species\n",
    "K = 3   # number of latent factors"
   ]
  },
  {
   "cell_type": "code",
   "execution_count": 21,
   "metadata": {
    "collapsed": true
   },
   "outputs": [],
   "source": [
    "lmbda = npr.randn(J,K)\n",
    "alpha = npr.randn(J)\n",
    "c = 0\n",
    "phi = 0.5\n",
    "logsigmasq = 0\n",
    "x_0 = npr.randn(I,K)\n",
    "\n",
    "theta = [alpha, lmbda, c, phi, logsigmasq]\n",
    "Y, X = simulate_data(x_0, T, J, theta)"
   ]
  },
  {
   "cell_type": "code",
   "execution_count": 22,
   "metadata": {},
   "outputs": [
    {
     "name": "stdout",
     "output_type": "stream",
     "text": [
      "Variance of log-likelihood       : [187.75966171 328.34581586]\n",
      "Mean of gradient w.r.t. alpha    : [[-6.97219925  1.54780475 16.83232774  5.15807709  2.32185034]\n",
      " [-5.73731265  1.26312597 13.86929473  4.56617281 -0.27011305]]\n",
      "Variance of gradient w.r.t. alpha: [[ 34.60417049  34.50239485  12.33175435  22.51251607  33.34634857]\n",
      " [111.65936333 129.66963645  31.288103    62.99699686 126.85868001]]\n"
     ]
    }
   ],
   "source": [
    "n_particles = 200\n",
    "alpha_grad, lmbda_grad, c_grad, phi_grad, logsigmasq_grad, logNC = \\\n",
    "get_grads(Y, x_0, n_particles, theta, Tmax=T, Imax=I, Jmax=J, Kmax=K, rep=200)\n",
    "print(\"Variance of log-likelihood       :\", np.var(logNC,0))\n",
    "print(\"Mean of gradient w.r.t. alpha    :\", np.mean(alpha_grad,0))\n",
    "print(\"Variance of gradient w.r.t. alpha:\", np.var(alpha_grad,0))"
   ]
  },
  {
   "cell_type": "code",
   "execution_count": null,
   "metadata": {},
   "outputs": [
    {
     "name": "stderr",
     "output_type": "stream",
     "text": [
      "/home/postdoc/dsen/.local/lib/python3.6/site-packages/numpy/lib/function_base.py:792: VisibleDeprecationWarning: Creating an ndarray from ragged nested sequences (which is a list-or-tuple of lists-or-tuples-or ndarrays with different lengths or shapes) is deprecated. If you meant to do this, you must specify 'dtype=object' when creating the ndarray\n",
      "  return array(a, order=order, subok=subok, copy=True)\n",
      " 23%|██▎       | 2284/10000 [1:10:00<4:14:26,  1.98s/it]"
     ]
    }
   ],
   "source": [
    "n_mcmc = 10_000\n",
    "n_particles = 1000\n",
    "tau = 1e-2*np.ones(5)\n",
    "update = [1, *np.zeros(4)]\n",
    "theta_mala, _ = pMCMC_MALA_blockPF(Y, x_0, n_particles, theta, n_mcmc, tau, update, power=1)"
   ]
  },
  {
   "cell_type": "code",
   "execution_count": null,
   "metadata": {
    "collapsed": true,
    "scrolled": true
   },
   "outputs": [],
   "source": [
    "plt.plot(theta_mala[0])\n",
    "plt.grid(True);"
   ]
  },
  {
   "cell_type": "code",
   "execution_count": null,
   "metadata": {
    "collapsed": true
   },
   "outputs": [],
   "source": [
    "n_mcmc = 10_000\n",
    "n_particles = 1000\n",
    "eps = 1.5e-1\n",
    "scale = [eps*np.ones(J), eps*np.ones((J,K)), eps, eps, eps]\n",
    "theta_0 = theta"
   ]
  },
  {
   "cell_type": "code",
   "execution_count": null,
   "metadata": {},
   "outputs": [],
   "source": [
    "theta_chain, scale, accept_probs = pMCMC_RW(x_0, Y, theta_0, n_particles, n_mcmc, scale, power=1, adapt=True)"
   ]
  },
  {
   "cell_type": "code",
   "execution_count": null,
   "metadata": {},
   "outputs": [],
   "source": [
    "plt.plot(theta_chain[0])\n",
    "plt.grid(True);"
   ]
  },
  {
   "cell_type": "code",
   "execution_count": 12,
   "metadata": {},
   "outputs": [
    {
     "data": {
      "text/plain": [
       "array([0.20470775, 0.25031098, 0.18472617])"
      ]
     },
     "execution_count": 12,
     "metadata": {},
     "output_type": "execute_result"
    }
   ],
   "source": [
    "np.std(theta_chain[0],0)"
   ]
  },
  {
   "cell_type": "code",
   "execution_count": null,
   "metadata": {
    "collapsed": true
   },
   "outputs": [],
   "source": []
  }
 ],
 "metadata": {
  "kernelspec": {
   "display_name": "Python 3",
   "language": "python",
   "name": "python3"
  },
  "language_info": {
   "codemirror_mode": {
    "name": "ipython",
    "version": 3
   },
   "file_extension": ".py",
   "mimetype": "text/x-python",
   "name": "python",
   "nbconvert_exporter": "python",
   "pygments_lexer": "ipython3",
   "version": "3.6.2"
  }
 },
 "nbformat": 4,
 "nbformat_minor": 2
}
